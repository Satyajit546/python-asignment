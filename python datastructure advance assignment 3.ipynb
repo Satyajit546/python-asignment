{
  "nbformat": 4,
  "nbformat_minor": 0,
  "metadata": {
    "colab": {
      "provenance": []
    },
    "kernelspec": {
      "name": "python3",
      "display_name": "Python 3"
    },
    "language_info": {
      "name": "python"
    }
  },
  "cells": [
    {
      "cell_type": "markdown",
      "source": [
        "1.Write a code to reverse a string."
      ],
      "metadata": {
        "id": "pGgboi2H2aJG"
      }
    },
    {
      "cell_type": "code",
      "source": [
        "s = \"hello world\""
      ],
      "metadata": {
        "id": "MoD-xHpS4RzK"
      },
      "execution_count": null,
      "outputs": []
    },
    {
      "cell_type": "code",
      "source": [
        "print(s[::-1])"
      ],
      "metadata": {
        "colab": {
          "base_uri": "https://localhost:8080/"
        },
        "id": "7Z_LiAEY4ajN",
        "outputId": "9bf72287-2d00-4989-88cd-8d0ddd1f485f"
      },
      "execution_count": null,
      "outputs": [
        {
          "output_type": "stream",
          "name": "stdout",
          "text": [
            "dlrow olleh\n"
          ]
        }
      ]
    },
    {
      "cell_type": "markdown",
      "source": [
        "2.Write a code to count the number of vowels in a string."
      ],
      "metadata": {
        "id": "boSvpHX27pTR"
      }
    },
    {
      "cell_type": "code",
      "source": [
        "# Function to count the number of vowels in a string\n",
        "def count_vowels(string):\n",
        "    vowels = \"aeiouAEIOU\"  # Define vowels (both lowercase and uppercase)\n",
        "    count = sum(1 for char in string if char in vowels)\n",
        "    return count\n",
        "\n",
        "# Example usage\n",
        "input_string = \"Hello, how are you?\"\n",
        "vowel_count = count_vowels(input_string)\n",
        "print(f\"Input String: {input_string}\")\n",
        "print(f\"Number of Vowels: {vowel_count}\")\n"
      ],
      "metadata": {
        "colab": {
          "base_uri": "https://localhost:8080/"
        },
        "id": "hIIIk5WE8Qaj",
        "outputId": "57e32caf-9a60-49a2-9a2b-4a2098342d74"
      },
      "execution_count": null,
      "outputs": [
        {
          "output_type": "stream",
          "name": "stdout",
          "text": [
            "Input String: Hello, how are you?\n",
            "Number of Vowels: 7\n"
          ]
        }
      ]
    },
    {
      "cell_type": "markdown",
      "source": [
        "***3.Write a code to check if a given string is palindrome or not.***"
      ],
      "metadata": {
        "id": "FHgufVNQBoCf"
      }
    },
    {
      "cell_type": "code",
      "source": [
        "# Function to check if a string is a palindrome\n",
        "def is_palindrome(s):\n",
        "    # Reverse the string and compare it with the original\n",
        "    return s == s[::-1]\n",
        "\n",
        "# Example usage\n",
        "input_string = \"madam\"\n",
        "result = is_palindrome(input_string)\n",
        "print(f\"Input String: '{input_string}'\")\n",
        "print(f\"Is Palindrome: {result}\")\n"
      ],
      "metadata": {
        "colab": {
          "base_uri": "https://localhost:8080/"
        },
        "id": "VS1uy2qJBwrq",
        "outputId": "9f29d926-fc0f-470f-8a35-9501031bbe5a"
      },
      "execution_count": null,
      "outputs": [
        {
          "output_type": "stream",
          "name": "stdout",
          "text": [
            "Input String: 'madam'\n",
            "Is Palindrome: True\n"
          ]
        }
      ]
    },
    {
      "cell_type": "markdown",
      "source": [
        "4.Write a code to check if two given strings  anagrams od each other."
      ],
      "metadata": {
        "id": "ReTQe1WyCdwb"
      }
    },
    {
      "cell_type": "code",
      "source": [
        "# Function to check if two strings are anagrams\n",
        "def are_anagrams(str1, str2):\n",
        "    # Clean and sort both strings\n",
        "    cleaned_str1 = ''.join(sorted(str1.replace(\" \", \"\").lower()))\n",
        "    cleaned_str2 = ''.join(sorted(str2.replace(\" \", \"\").lower()))\n",
        "    # Compare the sorted versions\n",
        "    return cleaned_str1 == cleaned_str2\n",
        "\n",
        "# Example usage\n",
        "string1 = \"listen\"\n",
        "string2 = \"silent\"\n",
        "result = are_anagrams(string1, string2)\n",
        "print(f\"String 1: '{string1}'\")\n",
        "print(f\"String 2: '{string2}'\")\n",
        "print(f\"Are Anagrams: {result}\")\n"
      ],
      "metadata": {
        "colab": {
          "base_uri": "https://localhost:8080/"
        },
        "id": "HQHps_WBChk8",
        "outputId": "dfc56f12-3738-4dfe-840b-63c0b9daf264"
      },
      "execution_count": null,
      "outputs": [
        {
          "output_type": "stream",
          "name": "stdout",
          "text": [
            "String 1: 'listen'\n",
            "String 2: 'silent'\n",
            "Are Anagrams: True\n"
          ]
        }
      ]
    },
    {
      "cell_type": "markdown",
      "source": [
        "***5.Write a code to find all occurances of a given substrings within another string. ***\n",
        "\n"
      ],
      "metadata": {
        "id": "0XwD8hTqETjW"
      }
    },
    {
      "cell_type": "code",
      "source": [
        "# Function to find all occurrences of a substring in a string\n",
        "def find_all_occurrences(string, substring):\n",
        "    occurrences = []\n",
        "    start = 0\n",
        "    while True:\n",
        "        # Find the next occurrence of the substring\n",
        "        start = string.find(substring, start)\n",
        "        if start == -1:  # No more occurrences\n",
        "            break\n",
        "        occurrences.append(start)\n",
        "        start += 1  # Move past the last found occurrence\n",
        "    return occurrences\n",
        "\n",
        "# Example usage\n",
        "main_string = \"This is a test. Testing is fun. Test it again.\"\n",
        "substring = \"test\"\n",
        "positions = find_all_occurrences(main_string.lower(), substring.lower())\n",
        "print(f\"Main String: '{main_string}'\")\n",
        "print(f\"Substring: '{substring}'\")\n",
        "print(f\"Positions: {positions}\")\n"
      ],
      "metadata": {
        "id": "dAijVrvDEaSy"
      },
      "execution_count": null,
      "outputs": []
    },
    {
      "cell_type": "markdown",
      "source": [
        "6.Write a code to a perform basic string  compression using the counts of repeated characters."
      ],
      "metadata": {
        "id": "UFE-z8pEFfnK"
      }
    },
    {
      "cell_type": "code",
      "source": [
        "# Function to perform basic string compression\n",
        "def compress_string(s):\n",
        "    compressed = []\n",
        "    count = 1\n",
        "\n",
        "    for i in range(1, len(s)):\n",
        "        if s[i] == s[i - 1]:  # If the current character is the same as the previous one\n",
        "            count += 1\n",
        "        else:\n",
        "            # Append the character and its count\n",
        "            compressed.append(s[i - 1] + str(count))\n",
        "            count = 1  # Reset count\n",
        "\n",
        "    # Add the last character and its count\n",
        "    if s:\n",
        "        compressed.append(s[-1] + str(count))\n",
        "\n",
        "    # Convert the list into a compressed string\n",
        "    compressed_string = ''.join(compressed)\n",
        "    # Return the original string if the compressed one is not smaller\n",
        "    return compressed_string if len(compressed_string) < len(s) else s\n",
        "\n",
        "# Example usage\n",
        "input_string = \"aabcccccaaa\"\n",
        "result = compress_string(input_string)\n",
        "print(f\"Original String: '{input_string}'\")\n",
        "print(f\"Compressed String: '{result}'\")\n"
      ],
      "metadata": {
        "colab": {
          "base_uri": "https://localhost:8080/"
        },
        "id": "PfrxIIlzFiAj",
        "outputId": "bde783c7-cd4a-499f-ab46-178f5ff5555b"
      },
      "execution_count": null,
      "outputs": [
        {
          "output_type": "stream",
          "name": "stdout",
          "text": [
            "Original String: 'aabcccccaaa'\n",
            "Compressed String: 'a2b1c5a3'\n"
          ]
        }
      ]
    },
    {
      "cell_type": "markdown",
      "source": [
        "7.Write a code to determine if a string  has all unique characters."
      ],
      "metadata": {
        "id": "kX1tl9tzHXOF"
      }
    },
    {
      "cell_type": "code",
      "source": [
        "# Function to check if a string has all unique characters\n",
        "def has_unique_characters(s):\n",
        "    # Use a set to track seen characters\n",
        "    seen_characters = set()\n",
        "    for char in s:\n",
        "        if char in seen_characters:\n",
        "            return False  # Duplicate character found\n",
        "        seen_characters.add(char)\n",
        "    return True  # All characters are unique\n",
        "\n",
        "# Example usage\n",
        "input_string = \"abcdefg\"\n",
        "result = has_unique_characters(input_string)\n",
        "print(f\"Input String: '{input_string}'\")\n",
        "print(f\"All Unique Characters: {result}\")\n"
      ],
      "metadata": {
        "colab": {
          "base_uri": "https://localhost:8080/"
        },
        "id": "MakNLWE-HaUm",
        "outputId": "d037005b-a5ab-48c8-9012-9c55a128ad50"
      },
      "execution_count": null,
      "outputs": [
        {
          "output_type": "stream",
          "name": "stdout",
          "text": [
            "Input String: 'abcdefg'\n",
            "All Unique Characters: True\n"
          ]
        }
      ]
    },
    {
      "cell_type": "markdown",
      "source": [
        "8.Write a code to convert a given string to uppercrease or lowercrease."
      ],
      "metadata": {
        "id": "-uExTYXSHqSQ"
      }
    },
    {
      "cell_type": "code",
      "source": [
        "# Function to convert string to uppercase or lowercase\n",
        "def convert_case(s, to_upper=True):\n",
        "    if to_upper:\n",
        "        return s.upper()  # Convert to uppercase\n",
        "    else:\n",
        "        return s.lower()  # Convert to lowercase\n",
        "\n",
        "# Example usage\n",
        "input_string = \"Hello, World!\"\n",
        "print(\"Original String:\", input_string)\n",
        "\n",
        "# Convert to uppercase\n",
        "uppercase_string = convert_case(input_string, to_upper=True)\n",
        "print(\"Uppercase:\", uppercase_string)\n",
        "\n",
        "# Convert to lowercase\n",
        "lowercase_string = convert_case(input_string, to_upper=False)\n",
        "print(\"Lowercase:\", lowercase_string)\n"
      ],
      "metadata": {
        "colab": {
          "base_uri": "https://localhost:8080/"
        },
        "id": "5iY2fyOUIJNg",
        "outputId": "c71836c0-9a11-4042-e11d-61949d377dfc"
      },
      "execution_count": null,
      "outputs": [
        {
          "output_type": "stream",
          "name": "stdout",
          "text": [
            "Original String: Hello, World!\n",
            "Uppercase: HELLO, WORLD!\n",
            "Lowercase: hello, world!\n"
          ]
        }
      ]
    },
    {
      "cell_type": "markdown",
      "source": [
        "9.Write a code to count the number of words in a string."
      ],
      "metadata": {
        "id": "k2zkTobwJKza"
      }
    },
    {
      "cell_type": "code",
      "source": [
        "def count_words(input_string):\n",
        "    # Split the string into words using whitespace as the delimiter\n",
        "    words = input_string.split()\n",
        "    # Return the number of words\n",
        "    return len(words)\n",
        "\n",
        "# Example usage\n",
        "text = \"Write a code to count the number of words in a string.\"\n",
        "word_count = count_words(text)\n",
        "print(f\"The number of words is: {word_count}\")\n"
      ],
      "metadata": {
        "colab": {
          "base_uri": "https://localhost:8080/"
        },
        "id": "SjGc_LQ8JNBA",
        "outputId": "0b3b2495-9e01-4841-f033-3462c109146f"
      },
      "execution_count": null,
      "outputs": [
        {
          "output_type": "stream",
          "name": "stdout",
          "text": [
            "The number of words is: 12\n"
          ]
        }
      ]
    },
    {
      "cell_type": "markdown",
      "source": [
        "10.Write a code to concatenate teo string without using the + oparator."
      ],
      "metadata": {
        "id": "kcIvD72nJKx9"
      }
    },
    {
      "cell_type": "code",
      "source": [
        "def concatenate_strings(string1, string2):\n",
        "    # Use join to concatenate strings\n",
        "    result = \"\".join([string1, string2])\n",
        "    return result\n",
        "\n",
        "# Example usage\n",
        "str1 = \"Hello, \"\n",
        "str2 = \"World!\"\n",
        "concatenated_string = concatenate_strings(str1, str2)\n",
        "print(\"Concatenated String:\", concatenated_string)\n"
      ],
      "metadata": {
        "colab": {
          "base_uri": "https://localhost:8080/"
        },
        "id": "0NTPL8cRJuRY",
        "outputId": "d8bb388a-1c65-4d37-b01b-4333920cb38f"
      },
      "execution_count": null,
      "outputs": [
        {
          "output_type": "stream",
          "name": "stdout",
          "text": [
            "Concatenated String: Hello, World!\n"
          ]
        }
      ]
    },
    {
      "cell_type": "markdown",
      "source": [
        "11.Write a code to remove all occurances of a specific element from list."
      ],
      "metadata": {
        "id": "J-a_ftDoKG5G"
      }
    },
    {
      "cell_type": "code",
      "source": [
        "def remove_all_occurrences(input_list, element_to_remove):\n",
        "    # Use list comprehension to filter out the specified element\n",
        "    return [item for item in input_list if item != element_to_remove]\n",
        "\n",
        "# Example usage\n",
        "my_list = [1, 2, 3, 4, 3, 5, 3]\n",
        "element = 3\n",
        "result_list = remove_all_occurrences(my_list, element)\n",
        "print(\"Updated List:\", result_list)\n"
      ],
      "metadata": {
        "colab": {
          "base_uri": "https://localhost:8080/"
        },
        "id": "2lGynXqEKIsA",
        "outputId": "d88759e2-66a0-4055-953f-5bda806ce6d2"
      },
      "execution_count": null,
      "outputs": [
        {
          "output_type": "stream",
          "name": "stdout",
          "text": [
            "Updated List: [1, 2, 4, 5]\n"
          ]
        }
      ]
    },
    {
      "cell_type": "markdown",
      "source": [
        "12.Implement a code to find the second largest number in given list of integers."
      ],
      "metadata": {
        "id": "XjGXz_m8KM19"
      }
    },
    {
      "cell_type": "code",
      "source": [
        "def find_second_largest(numbers):\n",
        "    if len(numbers) < 2:\n",
        "        return \"List must contain at least two distinct numbers.\"\n",
        "\n",
        "    # Remove duplicates to handle cases with repeated numbers\n",
        "    unique_numbers = list(set(numbers))\n",
        "\n",
        "    if len(unique_numbers) < 2:\n",
        "        return \"No second largest number exists (all numbers are the same).\"\n",
        "\n",
        "    # Sort the unique numbers in descending order\n",
        "    unique_numbers.sort(reverse=True)\n",
        "\n",
        "    # Return the second largest number\n",
        "    return unique_numbers[1]\n",
        "\n",
        "# Example usage\n",
        "num_list = [4, 1, 7, 3, 7, 9, 5, 9]\n",
        "second_largest = find_second_largest(num_list)\n",
        "print(\"Second Largest Number:\", second_largest)\n"
      ],
      "metadata": {
        "id": "RUoa2ex1KjPb"
      },
      "execution_count": null,
      "outputs": []
    },
    {
      "cell_type": "markdown",
      "source": [
        "13.Create a code to count the occurances of each element in a list and return a dictionary with elements keys and thier counts as valves.\n",
        "\n"
      ],
      "metadata": {
        "id": "KM4_tJVDKM0i"
      }
    },
    {
      "cell_type": "code",
      "source": [
        "def count_elements(lst):\n",
        "    \"\"\"\n",
        "    Counts the occurrences of each element in the input list.\n",
        "\n",
        "    Args:\n",
        "        lst (list): A list of elements to count.\n",
        "\n",
        "    Returns:\n",
        "        dict: A dictionary where keys are elements from the list and values are their counts.\n",
        "    \"\"\"\n",
        "    element_counts = {}\n",
        "    for element in lst:\n",
        "        if element in element_counts:\n",
        "            element_counts[element] += 1\n",
        "        else:\n",
        "            element_counts[element] = 1\n",
        "    return element_counts\n",
        "\n",
        "# Example usage\n",
        "example_list = [1, 2, 2, 3, 3, 3, 'a', 'b', 'a', 'a']\n",
        "result = count_elements(example_list)\n",
        "print(result)\n"
      ],
      "metadata": {
        "colab": {
          "base_uri": "https://localhost:8080/"
        },
        "id": "estGuFV94Pke",
        "outputId": "2d2c64d0-0ef0-47de-a6ca-dd5c81c6d6cc"
      },
      "execution_count": null,
      "outputs": [
        {
          "output_type": "stream",
          "name": "stdout",
          "text": [
            "{1: 1, 2: 2, 3: 3, 'a': 3, 'b': 1}\n"
          ]
        }
      ]
    },
    {
      "cell_type": "markdown",
      "source": [
        "14.Write a code to reverse a list in place without using any built in reverse functions."
      ],
      "metadata": {
        "id": "mrboKAy158HV"
      }
    },
    {
      "cell_type": "code",
      "source": [
        "def reverse_list(lst):\n",
        "    \"\"\"\n",
        "    Reverses the input list in place without using built-in reverse functions.\n",
        "\n",
        "    Args:\n",
        "        lst (list): A list to be reversed.\n",
        "\n",
        "    Returns:\n",
        "        None: The input list is modified in place.\n",
        "    \"\"\"\n",
        "    left = 0\n",
        "    right = len(lst) - 1\n",
        "\n",
        "    while left < right:\n",
        "        # Swap elements at left and right indices\n",
        "        lst[left], lst[right] = lst[right], lst[left]\n",
        "        # Move indices towards the center\n",
        "        left += 1\n",
        "        right -= 1\n",
        "\n",
        "# Example usage\n",
        "example_list = [1, 2, 3, 4, 5]\n",
        "reverse_list(example_list)\n",
        "print(example_list)\n"
      ],
      "metadata": {
        "colab": {
          "base_uri": "https://localhost:8080/"
        },
        "id": "G9E6Whab6EKb",
        "outputId": "8d4e4aee-cb86-405e-fdba-ca09ecf5af1e"
      },
      "execution_count": null,
      "outputs": [
        {
          "output_type": "stream",
          "name": "stdout",
          "text": [
            "[5, 4, 3, 2, 1]\n"
          ]
        }
      ]
    },
    {
      "cell_type": "markdown",
      "source": [
        "15.Implement a code to find and remove duplicates from a list while presenting the original order of elements.\n",
        "\n"
      ],
      "metadata": {
        "id": "dfyGKvoP58Fy"
      }
    },
    {
      "cell_type": "code",
      "source": [
        "def remove_duplicates(lst):\n",
        "    \"\"\"\n",
        "    Removes duplicates from the input list while maintaining the original order.\n",
        "\n",
        "    Args:\n",
        "        lst (list): A list of elements.\n",
        "\n",
        "    Returns:\n",
        "        list: A new list with duplicates removed.\n",
        "    \"\"\"\n",
        "    seen = set()\n",
        "    result = []\n",
        "    for item in lst:\n",
        "        if item not in seen:\n",
        "            result.append(item)\n",
        "            seen.add(item)\n",
        "    return result\n",
        "\n",
        "# Example usage\n",
        "example_list = [1, 2, 2, 3, 4, 3, 5, 1, 6]\n",
        "unique_list = remove_duplicates(example_list)\n",
        "print(unique_list)\n"
      ],
      "metadata": {
        "colab": {
          "base_uri": "https://localhost:8080/"
        },
        "id": "7UlsqLEh7P9K",
        "outputId": "ccd96504-e524-4598-844d-24b3703cb33c"
      },
      "execution_count": null,
      "outputs": [
        {
          "output_type": "stream",
          "name": "stdout",
          "text": [
            "[1, 2, 3, 4, 5, 6]\n"
          ]
        }
      ]
    },
    {
      "cell_type": "markdown",
      "source": [
        "16.Create a code to cheekif a given list is sorted (either in ascending or descending order or )not.\n",
        "\n",
        "\n",
        "\n",
        "---\n",
        "\n",
        "\n",
        "\n",
        "---\n",
        "\n"
      ],
      "metadata": {
        "id": "sLPIdt6P7eyf"
      }
    },
    {
      "cell_type": "code",
      "source": [
        "def is_sorted(lst):\n",
        "    \"\"\"\n",
        "    Checks if the given list is sorted in ascending, descending, or unsorted order.\n",
        "\n",
        "    Args:\n",
        "        lst (list): A list of elements to check.\n",
        "\n",
        "    Returns:\n",
        "        str: 'Ascending' if the list is sorted in ascending order,\n",
        "             'Descending' if sorted in descending order,\n",
        "             'Unsorted' if neither.\n",
        "    \"\"\"\n",
        "    if all(lst[i] <= lst[i + 1] for i in range(len(lst) - 1)):\n",
        "        return \"Ascending\"\n",
        "    elif all(lst[i] >= lst[i + 1] for i in range(len(lst) - 1)):\n",
        "        return \"Descending\"\n",
        "    else:\n",
        "        return \"Unsorted\"\n",
        "\n",
        "# Example usage\n",
        "example_list1 = [1, 2, 3, 4, 5]\n",
        "example_list2 = [5, 4, 3, 2, 1]\n",
        "example_list3 = [1, 3, 2, 5, 4]\n",
        "\n",
        "print(is_sorted(example_list1))  # Output: Ascending\n",
        "print(is_sorted(example_list2))  # Output: Descending\n",
        "print(is_sorted(example_list3))  # Output: Unsorted\n"
      ],
      "metadata": {
        "colab": {
          "base_uri": "https://localhost:8080/"
        },
        "id": "hWuZTfPH9u0G",
        "outputId": "4e1eb81f-cff6-490e-c5d6-b20e3d6b73e6"
      },
      "execution_count": null,
      "outputs": [
        {
          "output_type": "stream",
          "name": "stdout",
          "text": [
            "Ascending\n",
            "Descending\n",
            "Unsorted\n"
          ]
        }
      ]
    },
    {
      "cell_type": "markdown",
      "source": [
        "17. Write a code to merge two sorted list  single  sorted lists ."
      ],
      "metadata": {
        "id": "BsJfmfMj-A2J"
      }
    },
    {
      "cell_type": "code",
      "source": [
        "def merge_sorted_lists(list1, list2):\n",
        "\n",
        "    merged_list = []\n",
        "    i, j = 0, 0  # Pointers to traverse both lists\n",
        "\n",
        "    # Traverse both lists and append the smaller element to the merged list\n",
        "    while i < len(list1) and j < len(list2):\n",
        "        if list1[i] < list2[j]:\n",
        "            merged_list.append(list1[i])\n",
        "            i += 1\n",
        "        else:\n",
        "            merged_list.append(list2[j])\n",
        "            j += 1\n",
        "\n",
        "    # If any elements remain in list1, add them\n",
        "    while i < len(list1):\n",
        "        merged_list.append(list1[i])\n",
        "        i += 1\n",
        "\n",
        "    # If any elements remain in list2, add them\n",
        "    while j < len(list2):\n",
        "        merged_list.append(list2[j])\n",
        "        j += 1\n",
        "\n",
        "    return merged_list\n",
        "\n",
        "# Example usage\n",
        "list1 = [1, 3, 5, 7]\n",
        "list2 = [2, 4, 6, 8]\n",
        "\n",
        "# Merge the sorted lists\n",
        "merged_list = merge_sorted_lists(list1, list2)\n",
        "\n",
        "# Print the merged list\n",
        "print(\"Merged Sorted List:\", merged_list)\n"
      ],
      "metadata": {
        "colab": {
          "base_uri": "https://localhost:8080/"
        },
        "id": "NPS58UNq_eNN",
        "outputId": "2dfbc939-3a6b-4e94-b074-9162e899bf8e"
      },
      "execution_count": null,
      "outputs": [
        {
          "output_type": "stream",
          "name": "stdout",
          "text": [
            "Merged Sorted List: [1, 2, 3, 4, 5, 6, 7, 8]\n"
          ]
        }
      ]
    },
    {
      "cell_type": "markdown",
      "source": [
        "18.Implement a code to find the intension of two given lists."
      ],
      "metadata": {
        "id": "CG9PuNpz_9ku"
      }
    },
    {
      "cell_type": "code",
      "source": [
        "def find_intersection(list1, list2):\n",
        "    \"\"\"\n",
        "    Finds the intersection of two lists.\n",
        "\n",
        "    Args:\n",
        "        list1 (list): First input list.\n",
        "        list2 (list): Second input list.\n",
        "\n",
        "    Returns:\n",
        "        list: A list containing elements common to both input lists.\n",
        "              Duplicate elements will only appear once in the result.\n",
        "    \"\"\"\n",
        "    set1 = set(list1)\n",
        "    set2 = set(list2)\n",
        "    return list(set1 & set2)\n",
        "\n",
        "# Example usage\n",
        "list_a = [1, 2, 3, 4, 5]\n",
        "list_b = [3, 4, 5, 6, 7]\n",
        "\n",
        "intersection = find_intersection(list_a, list_b)\n",
        "print(\"Intersection:\", intersection)\n"
      ],
      "metadata": {
        "colab": {
          "base_uri": "https://localhost:8080/"
        },
        "id": "TJ8DPNtCAjV2",
        "outputId": "179180a1-95e9-4e7e-a61c-9b4f2d66ee7c"
      },
      "execution_count": null,
      "outputs": [
        {
          "output_type": "stream",
          "name": "stdout",
          "text": [
            "Intersection: [3, 4, 5]\n"
          ]
        }
      ]
    },
    {
      "cell_type": "markdown",
      "source": [
        "19.Create a code to find the union of two lists without duplicates ."
      ],
      "metadata": {
        "id": "E3xqc6LTA-yY"
      }
    },
    {
      "cell_type": "code",
      "source": [
        "def find_union(list1, list2):\n",
        "    \"\"\"\n",
        "    Finds the union of two lists without duplicates.\n",
        "\n",
        "    Args:\n",
        "        list1 (list): First input list.\n",
        "        list2 (list): Second input list.\n",
        "\n",
        "    Returns:\n",
        "        list: A list containing all unique elements from both input lists.\n",
        "    \"\"\"\n",
        "    return list(set(list1) | set(list2))\n",
        "\n",
        "# Example usage\n",
        "list_a = [1, 2, 3, 4, 5]\n",
        "list_b = [4, 5, 6, 7, 8]\n",
        "\n",
        "union = find_union(list_a, list_b)\n",
        "print(\"Union:\", union)\n"
      ],
      "metadata": {
        "colab": {
          "base_uri": "https://localhost:8080/"
        },
        "id": "pvAD9wZVBBWK",
        "outputId": "4cd87083-e2bd-4b5c-9dc4-9dd6738b8419"
      },
      "execution_count": null,
      "outputs": [
        {
          "output_type": "stream",
          "name": "stdout",
          "text": [
            "Union: [1, 2, 3, 4, 5, 6, 7, 8]\n"
          ]
        }
      ]
    },
    {
      "cell_type": "markdown",
      "source": [
        "20.Write a code to shuffle a given list randomly without using any built -in shuffle function."
      ],
      "metadata": {
        "id": "mm1E13sYBUhG"
      }
    },
    {
      "cell_type": "code",
      "source": [
        "import random\n",
        "\n",
        "def custom_shuffle(lst):\n",
        "    \"\"\"\n",
        "    Shuffles a given list randomly in place without using any built-in shuffle function.\n",
        "\n",
        "    Args:\n",
        "        lst (list): The list to shuffle.\n",
        "\n",
        "    Returns:\n",
        "        None: The input list is shuffled in place.\n",
        "    \"\"\"\n",
        "    for i in range(len(lst) - 1, 0, -1):\n",
        "        # Generate a random index from 0 to i\n",
        "        j = random.randint(0, i)\n",
        "        # Swap the elements at indices i and j\n",
        "        lst[i], lst[j] = lst[j], lst[i]\n",
        "\n",
        "# Example usage\n",
        "example_list = [1, 2, 3, 4, 5, 6, 7, 8]\n",
        "custom_shuffle(example_list)\n",
        "print(\"Shuffled List:\", example_list)\n"
      ],
      "metadata": {
        "colab": {
          "base_uri": "https://localhost:8080/"
        },
        "id": "DVVjSe9JCEwT",
        "outputId": "5dd19f60-71d3-4f20-c23e-147e2b081ae4"
      },
      "execution_count": null,
      "outputs": [
        {
          "output_type": "stream",
          "name": "stdout",
          "text": [
            "Shuffled List: [4, 8, 5, 3, 2, 6, 7, 1]\n"
          ]
        }
      ]
    },
    {
      "cell_type": "markdown",
      "source": [
        "21.Write a code that takes two tuples as input and returns a new tuple containing elements that are common to both input tuples.\n",
        "\n"
      ],
      "metadata": {
        "id": "1ycd63--DWeq"
      }
    },
    {
      "cell_type": "code",
      "source": [
        "def common_elements(tuple1, tuple2):\n",
        "    \"\"\"\n",
        "    Finds elements that are common to both input tuples.\n",
        "\n",
        "    Args:\n",
        "        tuple1 (tuple): The first input tuple.\n",
        "        tuple2 (tuple): The second input tuple.\n",
        "\n",
        "    Returns:\n",
        "        tuple: A new tuple containing elements common to both tuples.\n",
        "    \"\"\"\n",
        "    # Convert tuples to sets, find intersection, and convert back to a tuple\n",
        "    return tuple(set(tuple1) & set(tuple2))\n",
        "\n",
        "# Example usage\n",
        "tuple_a = (1, 2, 3, 4, 5)\n",
        "tuple_b = (3, 4, 5, 6, 7)\n",
        "\n",
        "common = common_elements(tuple_a, tuple_b)\n",
        "print(\"Common Elements Tuple:\", common)\n"
      ],
      "metadata": {
        "id": "xmMuQUsZDhvr"
      },
      "execution_count": null,
      "outputs": []
    },
    {
      "cell_type": "markdown",
      "source": [
        "22.Create a code that prompts the user to enter two sets of integers separeted by commas .Then ,print the intersection of these two sets."
      ],
      "metadata": {
        "id": "b7cuW5tZDWdG"
      }
    },
    {
      "cell_type": "code",
      "source": [
        "def get_set_from_input(prompt):\n",
        "    \"\"\"\n",
        "    Prompts the user for a comma-separated string of integers\n",
        "    and converts it into a set of integers.\n",
        "\n",
        "    Args:\n",
        "        prompt (str): The input prompt for the user.\n",
        "\n",
        "    Returns:\n",
        "        set: A set of integers provided by the user.\n",
        "    \"\"\"\n",
        "    user_input = input(prompt)\n",
        "    # Split the input string by commas, strip whitespace, and convert to integers\n",
        "    return set(map(int, user_input.split(',')))\n",
        "\n",
        "# Prompt the user for two sets of integers\n",
        "print(\"Enter integers for the first set, separated by commas:\")\n",
        "set1 = get_set_from_input(\"First set: \")\n",
        "\n",
        "print(\"Enter integers for the second set, separated by commas:\")\n",
        "set2 = get_set_from_input(\"Second set: \")\n",
        "\n",
        "# Compute the intersection of the two sets\n",
        "intersection = set1 & set2\n",
        "\n",
        "# Print the result\n",
        "print(\"\\nIntersection of the two sets:\", intersection)\n"
      ],
      "metadata": {
        "colab": {
          "base_uri": "https://localhost:8080/"
        },
        "id": "vmRmW0YtEZvG",
        "outputId": "b372fe81-ca7a-4d08-bee4-2f9ae3d9c0bc"
      },
      "execution_count": null,
      "outputs": [
        {
          "output_type": "stream",
          "name": "stdout",
          "text": [
            "Enter integers for the first set, separated by commas:\n",
            "First set: 1,2,3,4,5\n",
            "Enter integers for the second set, separated by commas:\n",
            "Second set: 3,4,5,6,7\n",
            "\n",
            "Intersection of the two sets: {3, 4, 5}\n"
          ]
        }
      ]
    },
    {
      "cell_type": "markdown",
      "source": [
        "23.Write a code to concatenate two tuples,The function should take two tupleas input and return a new tuple containing elements from both input tuples."
      ],
      "metadata": {
        "id": "FM0eBhF8FvEQ"
      }
    },
    {
      "cell_type": "code",
      "source": [
        "def concatenate_tuples(tuple1, tuple2):\n",
        "    \"\"\"\n",
        "    Concatenates two tuples and returns a new tuple containing elements from both tuples.\n",
        "\n",
        "    Args:\n",
        "        tuple1 (tuple): The first input tuple.\n",
        "        tuple2 (tuple): The second input tuple.\n",
        "\n",
        "    Returns:\n",
        "        tuple: A new tuple containing the elements from both input tuples.\n",
        "    \"\"\"\n",
        "    return tuple1 + tuple2\n",
        "\n",
        "# Example usage\n",
        "tuple_a = (1, 2, 3)\n",
        "tuple_b = (4, 5, 6)\n",
        "\n",
        "result = concatenate_tuples(tuple_a, tuple_b)\n",
        "print(\"Concatenated Tuple:\", result)\n"
      ],
      "metadata": {
        "colab": {
          "base_uri": "https://localhost:8080/"
        },
        "id": "jpg6y5NUGdf_",
        "outputId": "2c3d68f3-b503-4ab0-ab94-97038a1f175b"
      },
      "execution_count": null,
      "outputs": [
        {
          "output_type": "stream",
          "name": "stdout",
          "text": [
            "Concatenated Tuple: (1, 2, 3, 4, 5, 6)\n"
          ]
        }
      ]
    },
    {
      "cell_type": "markdown",
      "source": [
        "24.Develop a code that prompts the user to input two sets of strings. Then, print the elements that are present in the first set but not in the second set.\n",
        "\n"
      ],
      "metadata": {
        "id": "Xw-J1hzFHZSM"
      }
    },
    {
      "cell_type": "code",
      "source": [
        "def get_set_from_input(prompt):\n",
        "    \"\"\"\n",
        "    Prompts the user for a comma-separated string of elements\n",
        "    and converts it into a set of strings.\n",
        "\n",
        "    Args:\n",
        "        prompt (str): The input prompt for the user.\n",
        "\n",
        "    Returns:\n",
        "        set: A set of strings provided by the user.\n",
        "    \"\"\"\n",
        "    user_input = input(prompt)\n",
        "    # Split the input string by commas, strip whitespace, and convert to set\n",
        "    return set(user_input.split(','))\n",
        "\n",
        "# Prompt the user to enter two sets of strings\n",
        "print(\"Enter elements for the first set of strings, separated by commas:\")\n",
        "set1 = get_set_from_input(\"First set: \")\n",
        "\n",
        "print(\"Enter elements for the second set of strings, separated by commas:\")\n",
        "set2 = get_set_from_input(\"Second set: \")\n",
        "\n",
        "# Compute the difference (elements in set1 but not in set2)\n",
        "difference = set1 - set2\n",
        "\n",
        "# Print the result\n",
        "print(\"\\nElements in the first set but not in the second set:\", difference)\n"
      ],
      "metadata": {
        "colab": {
          "base_uri": "https://localhost:8080/"
        },
        "id": "JU2NUUSHHehv",
        "outputId": "616307fd-45b9-4336-b40d-542ae369838f"
      },
      "execution_count": null,
      "outputs": [
        {
          "output_type": "stream",
          "name": "stdout",
          "text": [
            "Enter elements for the first set of strings, separated by commas:\n",
            "First set: data science,python,hello, satyajit\n",
            "Enter elements for the second set of strings, separated by commas:\n",
            "Second set: apple,cherry,banana\n",
            "\n",
            "Elements in the first set but not in the second set: {'hello', 'python', 'data science', ' satyajit'}\n"
          ]
        }
      ]
    },
    {
      "cell_type": "markdown",
      "source": [
        "25.Create a code to that takes tuple and how integers as input .The function should return a new tuple containing elements from the original tuple within the specified range of indices."
      ],
      "metadata": {
        "id": "A6NNoynhHZP_"
      }
    },
    {
      "cell_type": "code",
      "source": [
        "def get_elements_in_range(input_tuple, start_index, end_index):\n",
        "    \"\"\"\n",
        "    Returns a new tuple containing elements from the original tuple within the specified index range.\n",
        "\n",
        "    Args:\n",
        "        input_tuple (tuple): The original tuple.\n",
        "        start_index (int): The starting index (inclusive).\n",
        "        end_index (int): The ending index (exclusive).\n",
        "\n",
        "    Returns:\n",
        "        tuple: A new tuple containing elements from the original tuple within the specified index range.\n",
        "    \"\"\"\n",
        "    # Ensure the indices are within the valid range\n",
        "    if start_index < 0 or end_index > len(input_tuple) or start_index >= end_index:\n",
        "        raise ValueError(\"Invalid indices provided.\")\n",
        "\n",
        "    return input_tuple[start_index:end_index]\n",
        "\n",
        "# Example usage\n",
        "example_tuple = (10, 20, 30, 40, 50, 60, 70, 80)\n",
        "\n",
        "# Input the start and end indices\n",
        "start = int(input(\"Enter the start index: \"))\n",
        "end = int(input(\"Enter the end index: \"))\n",
        "\n",
        "# Get the elements in the specified range\n",
        "result = get_elements_in_range(example_tuple, start, end)\n",
        "\n",
        "# Print the result\n",
        "print(\"New tuple with elements in the specified range:\", result)\n"
      ],
      "metadata": {
        "colab": {
          "base_uri": "https://localhost:8080/"
        },
        "id": "hXygTun1I0MU",
        "outputId": "b18b01ff-e358-4a68-99f9-a405904e276d"
      },
      "execution_count": null,
      "outputs": [
        {
          "output_type": "stream",
          "name": "stdout",
          "text": [
            "Enter the start index: 2\n",
            "Enter the end index: 6\n",
            "New tuple with elements in the specified range: (30, 40, 50, 60)\n"
          ]
        }
      ]
    },
    {
      "cell_type": "markdown",
      "source": [
        "26.Write a code that prompts the user to input two sets of characters. Then, print the union of these teo sets."
      ],
      "metadata": {
        "id": "TzgBKVJxRH-O"
      }
    },
    {
      "cell_type": "code",
      "source": [
        "def get_set_from_input(prompt):\n",
        "    \"\"\"\n",
        "    Prompts the user for a comma-separated string of characters\n",
        "    and converts it into a set of characters.\n",
        "\n",
        "    Args:\n",
        "        prompt (str): The input prompt for the user.\n",
        "\n",
        "    Returns:\n",
        "        set: A set of characters provided by the user.\n",
        "    \"\"\"\n",
        "    user_input = input(prompt)\n",
        "    # Split the input string by commas, strip whitespace, and convert to set\n",
        "    return set(user_input.split(','))\n",
        "\n",
        "# Prompt the user to enter two sets of characters\n",
        "print(\"Enter characters for the first set, separated by commas:\")\n",
        "set1 = get_set_from_input(\"First set: \")\n",
        "\n",
        "print(\"Enter characters for the second set, separated by commas:\")\n",
        "set2 = get_set_from_input(\"Second set: \")\n",
        "\n",
        "# Compute the union of the two sets\n",
        "union = set1 | set2\n",
        "\n",
        "# Print the result\n",
        "print(\"\\nUnion of the two sets:\", union)\n"
      ],
      "metadata": {
        "colab": {
          "base_uri": "https://localhost:8080/"
        },
        "id": "XWTvaL3lRJ_c",
        "outputId": "f47bf960-4c7f-4d76-aec6-5a623a42215a"
      },
      "execution_count": null,
      "outputs": [
        {
          "output_type": "stream",
          "name": "stdout",
          "text": [
            "Enter characters for the first set, separated by commas:\n",
            "First set: f,o,v,,e\n",
            "Enter characters for the second set, separated by commas:\n",
            "Second set: l,t,a,b\n",
            "\n",
            "Union of the two sets: {'v', '', 'e', 'f', 'b', 't', 'l', 'o', 'a'}\n"
          ]
        }
      ]
    },
    {
      "cell_type": "markdown",
      "source": [
        "27.Develop a code that takes a tuple of integers as input. The function should return the maximum and minimum values from the tuple using tuple unpacking."
      ],
      "metadata": {
        "id": "FZiK9sw3RH8q"
      }
    },
    {
      "cell_type": "code",
      "source": [
        "def find_max_min(input_tuple):\n",
        "    \"\"\"\n",
        "    Returns the maximum and minimum values from the tuple using tuple unpacking.\n",
        "\n",
        "    Args:\n",
        "        input_tuple (tuple): A tuple containing integers.\n",
        "\n",
        "    Returns:\n",
        "        tuple: A tuple containing the maximum and minimum values.\n",
        "    \"\"\"\n",
        "    # Find the maximum and minimum values using tuple unpacking\n",
        "    max_value, min_value = max(input_tuple), min(input_tuple)\n",
        "    return max_value, min_value\n",
        "\n",
        "# Example usage\n",
        "input_tuple = tuple(map(int, input(\"Enter integers separated by commas: \").split(',')))\n",
        "\n",
        "# Get the maximum and minimum values\n",
        "max_value, min_value = find_max_min(input_tuple)\n",
        "\n",
        "# Print the result\n",
        "print(f\"Maximum value: {max_value}\")\n",
        "print(f\"Minimum value: {min_value}\")\n"
      ],
      "metadata": {
        "colab": {
          "base_uri": "https://localhost:8080/"
        },
        "id": "WS0zFl1fR5w9",
        "outputId": "6a6be340-9a3c-473d-c273-61ab79843a49"
      },
      "execution_count": null,
      "outputs": [
        {
          "output_type": "stream",
          "name": "stdout",
          "text": [
            "Enter integers separated by commas: 10,12,45,58,23\n",
            "Maximum value: 58\n",
            "Minimum value: 10\n"
          ]
        }
      ]
    },
    {
      "cell_type": "markdown",
      "source": [
        "28.Create a code that defines two sets of integers.Then,print the union,intersection,and difference of these two sets."
      ],
      "metadata": {
        "id": "BokcHbZHSlkh"
      }
    },
    {
      "cell_type": "code",
      "source": [
        "def set_operations(set1, set2):\n",
        "    \"\"\"\n",
        "    Prints the union, intersection, and difference of two sets.\n",
        "\n",
        "    Args:\n",
        "        set1 (set): The first set of integers.\n",
        "        set2 (set): The second set of integers.\n",
        "    \"\"\"\n",
        "    # Union of the sets\n",
        "    union = set1 | set2\n",
        "    print(\"Union of the two sets:\", union)\n",
        "\n",
        "    # Intersection of the sets\n",
        "    intersection = set1 & set2\n",
        "    print(\"Intersection of the two sets:\", intersection)\n",
        "\n",
        "    # Difference of the sets (set1 - set2)\n",
        "    difference = set1 - set2\n",
        "    print(\"Difference (set1 - set2):\", difference)\n",
        "\n",
        "    # Difference of the sets (set2 - set1)\n",
        "    difference_reverse = set2 - set1\n",
        "    print(\"Difference (set2 - set1):\", difference_reverse)\n",
        "\n",
        "# Example sets of integers\n",
        "set1 = {1, 2, 3, 4, 5}\n",
        "set2 = {4, 5, 6, 7, 8}\n",
        "\n",
        "# Perform set operations\n",
        "set_operations(set1, set2)\n"
      ],
      "metadata": {
        "colab": {
          "base_uri": "https://localhost:8080/"
        },
        "id": "766zb31oSpGs",
        "outputId": "1b89a36d-e8ab-466c-aeb4-22e70f89bf8d"
      },
      "execution_count": null,
      "outputs": [
        {
          "output_type": "stream",
          "name": "stdout",
          "text": [
            "Union of the two sets: {1, 2, 3, 4, 5, 6, 7, 8}\n",
            "Intersection of the two sets: {4, 5}\n",
            "Difference (set1 - set2): {1, 2, 3}\n",
            "Difference (set2 - set1): {8, 6, 7}\n"
          ]
        }
      ]
    },
    {
      "cell_type": "markdown",
      "source": [
        "29.Write a code that takes a tuple and an elements as input.The function should return the count of occurances of the given element in the tuple."
      ],
      "metadata": {
        "id": "YpfVtHvuUU3i"
      }
    },
    {
      "cell_type": "code",
      "source": [
        "def count_occurrences(input_tuple, element):\n",
        "\n",
        "\n",
        "    return input_tuple.count(element)\n",
        "\n",
        "# Example usage\n",
        "input_tuple = tuple(map(int, input(\"Enter integers for the tuple, separated by commas: \").split(',')))\n",
        "element = int(input(\"Enter the element to count: \"))\n",
        "\n",
        "# Get the count of occurrences\n",
        "count = count_occurrences(input_tuple, element)\n",
        "\n",
        "# Print the result\n",
        "print(f\"The element {element} appears {count} times in the tuple.\")\n"
      ],
      "metadata": {
        "colab": {
          "base_uri": "https://localhost:8080/"
        },
        "id": "9KPTF5b_UXR2",
        "outputId": "691387aa-0e87-4e16-a1df-6534fb494ce6"
      },
      "execution_count": null,
      "outputs": [
        {
          "output_type": "stream",
          "name": "stdout",
          "text": [
            "Enter integers for the tuple, separated by commas: 1,2,2,5,4,3,8,9,5\n",
            "Enter the element to count: 9\n",
            "The element 9 appears 1 times in the tuple.\n"
          ]
        }
      ]
    },
    {
      "cell_type": "markdown",
      "source": [
        "30.Develop a code that prompts the user to input two sets of strings. Then,print symmetric differences of these two sets."
      ],
      "metadata": {
        "id": "LJcPx-TdVjp0"
      }
    },
    {
      "cell_type": "code",
      "source": [
        "def get_set_from_input(prompt):\n",
        "\n",
        "    user_input = input(prompt)\n",
        "    # Split the input by commas and strip any extra whitespace from each element\n",
        "    return set(user_input.split(','))\n",
        "\n",
        "def symmetric_difference_of_sets(set1, set2):\n",
        "\n",
        "    # Compute the symmetric difference using the ^ operator\n",
        "    symmetric_difference = set1 ^ set2\n",
        "    print(\"Symmetric difference of the two sets:\", symmetric_difference)\n",
        "\n",
        "# Prompt the user to enter two sets of strings\n",
        "print(\"Enter strings for the first set, separated by commas:\")\n",
        "set1 = get_set_from_input(\"First set: \")\n",
        "\n",
        "print(\"Enter strings for the second set, separated by commas:\")\n",
        "set2 = get_set_from_input(\"Second set: \")\n",
        "\n",
        "# Perform symmetric difference operation\n",
        "symmetric_difference_of_sets(set1, set2)\n"
      ],
      "metadata": {
        "colab": {
          "base_uri": "https://localhost:8080/"
        },
        "id": "G3tqqrdNVl-1",
        "outputId": "6754262f-1765-4128-92f1-e71bb14a1268"
      },
      "execution_count": null,
      "outputs": [
        {
          "output_type": "stream",
          "name": "stdout",
          "text": [
            "Enter strings for the first set, separated by commas:\n",
            "First set:  apple,banana,orange\n",
            "Enter strings for the second set, separated by commas:\n",
            "Second set: banana,kiwi,grape\n",
            "Symmetric difference of the two sets: {'grape', ' apple', 'orange', 'kiwi'}\n"
          ]
        }
      ]
    },
    {
      "cell_type": "markdown",
      "source": [
        "31.Write a code that takes a list of words as input and returns a dictionary where the keys are unique words and the values are the frequencies of those words in the input list.\n",
        "\n"
      ],
      "metadata": {
        "id": "kGSdwi0nWG3E"
      }
    },
    {
      "cell_type": "code",
      "source": [
        "def word_frequencies(word_list):\n",
        "\n",
        "    freq_dict = {}\n",
        "\n",
        "    for word in word_list:\n",
        "        if word in freq_dict:\n",
        "            freq_dict[word] += 1  # Increment count if word is already in dictionary\n",
        "        else:\n",
        "            freq_dict[word] = 1  # Add word to dictionary if it's not already present\n",
        "\n",
        "    return freq_dict\n",
        "\n",
        "# Example usage\n",
        "input_string = input(\"Enter a list of words separated by spaces: \")\n",
        "word_list = input_string.split()  # Split input string into list of words\n",
        "\n",
        "# Get the word frequencies\n",
        "frequencies = word_frequencies(word_list)\n",
        "\n",
        "# Print the result\n",
        "print(\"Word frequencies:\", frequencies)\n"
      ],
      "metadata": {
        "colab": {
          "base_uri": "https://localhost:8080/"
        },
        "id": "7AgHDInlW_qv",
        "outputId": "a6ef26ba-d470-4dcf-e08f-1e28ceed33f9"
      },
      "execution_count": null,
      "outputs": [
        {
          "output_type": "stream",
          "name": "stdout",
          "text": [
            "Enter a list of words separated by spaces: apple banana apple cherry banana apple\n",
            "Word frequencies: {'apple': 3, 'banana': 2, 'cherry': 1}\n"
          ]
        }
      ]
    },
    {
      "cell_type": "markdown",
      "source": [
        "32.Write a code that takes two dictionaries as input and merge them into a single dictionary.If there are common keys,the values should be added together."
      ],
      "metadata": {
        "id": "WH9xunpaYHoJ"
      }
    },
    {
      "cell_type": "code",
      "source": [
        "def merge_dicts(dict1, dict2):\n",
        "\n",
        "\n",
        "    merged_dict = dict1.copy()  # Start with the first dictionary (to avoid modifying it)\n",
        "\n",
        "    for key, value in dict2.items():\n",
        "        if key in merged_dict:\n",
        "            merged_dict[key] += value  # Add values for common keys\n",
        "        else:\n",
        "            merged_dict[key] = value  # If key doesn't exist, add it\n",
        "\n",
        "    return merged_dict\n",
        "\n",
        "# Example usage\n",
        "dict1 = {'a': 10, 'b': 20, 'c': 30}\n",
        "dict2 = {'b': 15, 'c': 5, 'd': 25}\n",
        "\n",
        "# Merge the dictionaries\n",
        "merged = merge_dicts(dict1, dict2)\n",
        "\n",
        "# Print the merged dictionary\n",
        "print(\"Merged Dictionary:\", merged)\n"
      ],
      "metadata": {
        "colab": {
          "base_uri": "https://localhost:8080/"
        },
        "id": "J9nFhBhuYJWH",
        "outputId": "70d09a86-15f4-441c-b2fb-f5e3fc5de5dd"
      },
      "execution_count": null,
      "outputs": [
        {
          "output_type": "stream",
          "name": "stdout",
          "text": [
            "Merged Dictionary: {'a': 10, 'b': 35, 'c': 35, 'd': 25}\n"
          ]
        }
      ]
    },
    {
      "cell_type": "markdown",
      "source": [
        "33.Write a code to  access value in a nested dictionary.The function should take the dictionary a list of keys as input and return the corresponding value .If  any of the keys do not exists in the dictionary , the function should return none."
      ],
      "metadata": {
        "id": "1jTlAt67YR_4"
      }
    },
    {
      "cell_type": "code",
      "source": [
        "def access_nested_dict_value(nested_dict, keys):\n",
        "\n",
        "    for key in keys:\n",
        "        # Check if the key exists in the current dictionary level\n",
        "        if isinstance(nested_dict, dict) and key in nested_dict:\n",
        "            nested_dict = nested_dict[key]  # Move to the next level\n",
        "        else:\n",
        "            return None  # Return None if the key doesn't exist\n",
        "    return nested_dict  # Return the final value if all keys exist\n",
        "\n",
        "# Example usage\n",
        "nested_dict = {\n",
        "    'a': {\n",
        "        'b': {\n",
        "            'c': 10,\n",
        "            'd': 20\n",
        "        },\n",
        "        'e': 30\n",
        "    },\n",
        "    'f': 40\n",
        "}\n",
        "\n",
        "keys = ['a', 'b', 'c']\n",
        "value = access_nested_dict_value(nested_dict, keys)\n",
        "print(f\"Value for keys {keys}: {value}\")\n",
        "\n",
        "keys = ['a', 'x', 'c']\n",
        "value = access_nested_dict_value(nested_dict, keys)\n",
        "print(f\"Value for keys {keys}: {value}\")\n"
      ],
      "metadata": {
        "colab": {
          "base_uri": "https://localhost:8080/"
        },
        "id": "1RP3KjRUZzcH",
        "outputId": "aad08322-dffc-4143-e597-1c07385b2a6e"
      },
      "execution_count": null,
      "outputs": [
        {
          "output_type": "stream",
          "name": "stdout",
          "text": [
            "Value for keys ['a', 'b', 'c']: 10\n",
            "Value for keys ['a', 'x', 'c']: None\n"
          ]
        }
      ]
    },
    {
      "cell_type": "markdown",
      "source": [
        "34.Write a code that takes a dictionary as input and returns a sorted version of it based on the values.You can choose wheather to sort in ascending or descending order."
      ],
      "metadata": {
        "id": "-Ta-KuWoayJa"
      }
    },
    {
      "cell_type": "code",
      "source": [
        "def sort_dict_by_value(input_dict, reverse=False):\n",
        "\n",
        "    # Sort the dictionary by its values and return the result as a new dictionary\n",
        "    sorted_dict = dict(sorted(input_dict.items(), key=lambda item: item[1], reverse=reverse))\n",
        "    return sorted_dict\n",
        "\n",
        "# Example usage\n",
        "input_dict = {'apple': 5, 'banana': 3, 'cherry': 10, 'date': 2}\n",
        "\n",
        "# Sorting in ascending order\n",
        "sorted_dict_asc = sort_dict_by_value(input_dict, reverse=False)\n",
        "print(\"Sorted Dictionary (Ascending):\", sorted_dict_asc)\n",
        "\n",
        "# Sorting in descending order\n",
        "sorted_dict_desc = sort_dict_by_value(input_dict, reverse=True)\n",
        "print(\"Sorted Dictionary (Descending):\", sorted_dict_desc)\n"
      ],
      "metadata": {
        "colab": {
          "base_uri": "https://localhost:8080/"
        },
        "id": "zB2Zvqljazli",
        "outputId": "867f4e3e-346b-4000-edc4-52ba467710e5"
      },
      "execution_count": null,
      "outputs": [
        {
          "output_type": "stream",
          "name": "stdout",
          "text": [
            "Sorted Dictionary (Ascending): {'date': 2, 'banana': 3, 'apple': 5, 'cherry': 10}\n",
            "Sorted Dictionary (Descending): {'cherry': 10, 'apple': 5, 'banana': 3, 'date': 2}\n"
          ]
        }
      ]
    },
    {
      "cell_type": "markdown",
      "source": [
        "35.Write a code that inverts a dictionary,swapping keys and values.Ensure that the inverted dictionary correctly handles cases where multiple keys have the same value by storing the keys as  a list in the inverted dictionary."
      ],
      "metadata": {
        "id": "smTrCOAea6NS"
      }
    },
    {
      "cell_type": "code",
      "source": [
        "def invert_dict(input_dict):\n",
        "\n",
        "    inverted_dict = {}\n",
        "\n",
        "    for key, value in input_dict.items():\n",
        "        if value in inverted_dict:\n",
        "            # If value is already a key in the inverted dictionary, append the current key to the list\n",
        "            inverted_dict[value].append(key)\n",
        "        else:\n",
        "            # If value is not yet a key in the inverted dictionary, create a new list with the current key\n",
        "            inverted_dict[value] = [key]\n",
        "\n",
        "    return inverted_dict\n",
        "\n",
        "# Example usage\n",
        "input_dict = {'a': 1, 'b': 2, 'c': 1, 'd': 3}\n",
        "\n",
        "# Invert the dictionary\n",
        "inverted_dict = invert_dict(input_dict)\n",
        "\n",
        "# Print the inverted dictionary\n",
        "print(\"Inverted Dictionary:\", inverted_dict)\n"
      ],
      "metadata": {
        "colab": {
          "base_uri": "https://localhost:8080/"
        },
        "id": "r_zPQfCDbvC0",
        "outputId": "d690f8d2-1ee6-4c39-c34f-b6b5dc0c65f0"
      },
      "execution_count": null,
      "outputs": [
        {
          "output_type": "stream",
          "name": "stdout",
          "text": [
            "Inverted Dictionary: {1: ['a', 'c'], 2: ['b'], 3: ['d']}\n"
          ]
        }
      ]
    }
  ]
}