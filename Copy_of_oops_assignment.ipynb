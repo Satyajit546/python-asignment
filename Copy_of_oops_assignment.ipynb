{
  "nbformat": 4,
  "nbformat_minor": 0,
  "metadata": {
    "colab": {
      "provenance": []
    },
    "kernelspec": {
      "name": "python3",
      "display_name": "Python 3"
    },
    "language_info": {
      "name": "python"
    }
  },
  "cells": [
    {
      "cell_type": "markdown",
      "source": [
        "# ***1.What are the five key concepts of object-oriented- programms?***\n",
        "\n",
        "\n",
        "The five key concepts of object-oriented programming (OOP) are:\n",
        "\n",
        "***Encapsulation:*** This is the bundling of data (variables) and methods (functions) that operate on the data into a single unit known as a class. It also involves restricting direct access to some of an object's components, which is done by using access modifiers like private, protected, and public. This helps protect the object's state and only allows controlled access through methods.\n",
        "\n",
        "***Abstraction:*** Abstraction hides the complex implementation details and exposes only the essential features of an object. It allows a programmer to focus on high-level mechanisms rather than low-level implementation. For example, an interface or abstract class is used to define the operations, but the actual implementation is done by subclasses.\n",
        "\n",
        "***Inheritance:***This is the mechanism where a new class (subclass or derived class) can inherit attributes and methods from an existing class (superclass or base class). It promotes code reusability and establishes a relationship between the parent and child classes.\n",
        "\n",
        "\n",
        "***Polymorphism:*** Polymorphism means \"many forms.\" It allows a single method or operator to work in different ways based on the objects it is acting upon. There are two types of polymorphism:\n",
        "\n",
        "***Compile-time*** (Method Overloading): Multiple methods with the same name but different parameters.\n",
        "Run-time (Method Overriding): A subclass provides a specific implementation of a method that is already defined in its superclass.\n",
        "Composition: This refers to the practice of creating complex objects by combining simpler objects, instead of inheriting from other classes. This is often described as a \"has-a\" relationship, where an object is composed of other objects that represent parts of the whole. It helps in making the code more modular and flexible."
      ],
      "metadata": {
        "id": "Bdr8dHdw8srg"
      }
    },
    {
      "cell_type": "markdown",
      "source": [
        " **2.Write a python class for a car with attribute for'make','model' and 'year'.Include a method to display the cars information.**"
      ],
      "metadata": {
        "id": "LNPT40Y99zhw"
      }
    },
    {
      "cell_type": "markdown",
      "source": [
        "Here’s a Python class for a car that includes attributes for make, model, and year, along with a method to display the car's information:"
      ],
      "metadata": {
        "id": "KfXbziZDBYTv"
      }
    },
    {
      "cell_type": "code",
      "source": [
        "class Car:\n",
        "    def __init__(self, make, model, year):    # Initializing the attributes\n",
        "        # Initializing the attributes\n",
        "        self.make = make\n",
        "        self.model = model\n",
        "        self.year = year\n",
        "\n",
        "    def display_info(self): # Method to display the car's information\n",
        "\n",
        "        print(f\"Car Make: {self.make}\")\n",
        "        print(f\"Car Model: {self.model}\")\n",
        "        print(f\"Car Year: {self.year}\")\n",
        "\n",
        "# Creating an object of the Car class\n",
        "my_car = Car(\"MercedesBenz\", \"Glc\", 2024)\n",
        "\n",
        "# Calling the method to display the car's information\n",
        "my_car.display_info()\n"
      ],
      "metadata": {
        "colab": {
          "base_uri": "https://localhost:8080/"
        },
        "id": "1QZkt5IVBcSI",
        "outputId": "1de4021a-430d-44ed-eb3f-494ce89bdc81"
      },
      "execution_count": null,
      "outputs": [
        {
          "output_type": "stream",
          "name": "stdout",
          "text": [
            "Car Make: MercedesBenz\n",
            "Car Model: Glc\n",
            "Car Year: 2024\n"
          ]
        }
      ]
    },
    {
      "cell_type": "markdown",
      "source": [
        "**Explanation:**\n",
        "\n",
        "The __init__ method is used to initialize the attributes make, model, and year when an object of the Car class is created.\n",
        "The display_info method prints the car's information in a readable format."
      ],
      "metadata": {
        "id": "pvamy5ulBuUF"
      }
    },
    {
      "cell_type": "markdown",
      "source": [
        "**3.Explain the difference between instance methods and class methods.Provide an example of each.**"
      ],
      "metadata": {
        "id": "SZ0Uo7R1CfGE"
      }
    },
    {
      "cell_type": "markdown",
      "source": [
        "In Python, instance methods and class methods are both types of methods that can be defined within a class, but they have different behaviors and use cases. Here's a breakdown of the differences:\n",
        "\n",
        "**1.Instance Methods**\n",
        "\n",
        "###Definition:\n",
        " Instance methods are methods that are bound to an instance of the class. They take the instance (self) as their first argument, allowing them to access and modify the instance's attributes.\n",
        "\n",
        "###Usage:\n",
        "Instance methods are used when you want to perform operations that involve instance-specific data.\n",
        "Access: They can access both instance variables (attributes) and class variables (attributes shared by all instances)."
      ],
      "metadata": {
        "id": "rlZzehW6CjcR"
      }
    },
    {
      "cell_type": "markdown",
      "source": [
        "#####Example of Instance Method:"
      ],
      "metadata": {
        "id": "1EdlGKu_C9lZ"
      }
    },
    {
      "cell_type": "code",
      "source": [
        "class Car:\n",
        "    def __init__(self, make, model, year):\n",
        "        self.make = make\n",
        "        self.model = model\n",
        "        self.year = year\n",
        "\n",
        "    def display_info(self):\n",
        "        # Instance method that uses the instance's attributes\n",
        "        print(f\"Car Make: {self.make}\")\n",
        "        print(f\"Car Model: {self.model}\")\n",
        "        print(f\"Car Year: {self.year}\")\n",
        "\n",
        "# Creating an object of the Car class\n",
        "my_car = Car(\"MercedesBenz\", \"Glc\", 2024)\n",
        "\n",
        "# Calling the instance method\n",
        "my_car.display_info()\n"
      ],
      "metadata": {
        "colab": {
          "base_uri": "https://localhost:8080/"
        },
        "id": "XHcTwYxnDDS-",
        "outputId": "aed9aa48-44f2-4783-861f-844c4af4005b"
      },
      "execution_count": null,
      "outputs": [
        {
          "output_type": "stream",
          "name": "stdout",
          "text": [
            "Car Make: MercedesBenz\n",
            "Car Model: Glc\n",
            "Car Year: 2024\n"
          ]
        }
      ]
    },
    {
      "cell_type": "markdown",
      "source": [
        "**2.Class Methods**\n",
        "\n",
        "*Definition:*\n",
        "Class methods are methods that are bound to the class, not the instance. They take the class (cls) as their first argument, not an instance (self). They are used to operate on class-level data and can modify class variables.\n",
        "\n",
        "*Usage:*\n",
        "Class methods are typically used for factory methods or when you need to modify or access class-level data shared across all instances.\n",
        "Access: They can access and modify class-level variables but cannot directly modify instance-specific variables unless they create an instance."
      ],
      "metadata": {
        "id": "fNuQeOgiDU0w"
      }
    },
    {
      "cell_type": "code",
      "source": [
        "###Example of Class Method:###\n",
        "class Car:\n",
        "    total_cars = 0  # Class variable\n",
        "\n",
        "    def __init__(self, make, model, year):\n",
        "        self.make = make\n",
        "        self.model = model\n",
        "        self.year = year\n",
        "        Car.total_cars += 1  # Increment the class variable whenever a new instance is created\n",
        "\n",
        "    @classmethod\n",
        "    def car_count(cls):\n",
        "        # Class method that accesses the class variable\n",
        "        print(f\"Total Cars: {cls.total_cars}\")\n",
        "\n",
        "# Creating objects of the Car class\n",
        "car1 = Car(\"Toyota\", \"Corolla\", 2021)\n",
        "car2 = Car(\"Honda\", \"Civic\", 2022)\n",
        "\n",
        "# Calling the class method\n",
        "Car.car_count()\n"
      ],
      "metadata": {
        "colab": {
          "base_uri": "https://localhost:8080/"
        },
        "id": "0TDfYHP9DjA7",
        "outputId": "3e18ad46-8af9-4026-e1a0-228e37323acf"
      },
      "execution_count": null,
      "outputs": [
        {
          "output_type": "stream",
          "name": "stdout",
          "text": [
            "Total Cars: 2\n"
          ]
        }
      ]
    },
    {
      "cell_type": "markdown",
      "source": [
        "**Key Differences:**\n",
        "   \n",
        "    Feature\t        Instance Method\t                  Class Method\n",
        "\n",
        "    Bound to\t     Instance of the class (self)\t      The class itself (cls)\n",
        "\n",
        "    First argument\tself (reference to the instance)\tcls (reference to the class)\n",
        "\n",
        "    Access to\t    Instance attributes (self.attribute)\t   Class-level attributes (cls.attribute)\n",
        "\n",
        "    Usage\t        For operations specific to an instance\t      For operations that affect the class or all instances\n",
        "\n",
        "\n",
        "\n",
        "  \n",
        "*Instance methods are used to perform actions on an individual object (instance) of the class.*\n",
        "\n",
        "*Class methods are used to perform actions that are related to the class itself, not to any particular instance.*"
      ],
      "metadata": {
        "id": "cQ1nAWPUDywo"
      }
    },
    {
      "cell_type": "markdown",
      "source": [
        " ***4. How does python implement method overloading ?Give an example.***"
      ],
      "metadata": {
        "id": "NetQAKeYEm8u"
      }
    },
    {
      "cell_type": "markdown",
      "source": [
        "**Ways to Implement Overloading in Python:**\n",
        "\n",
        "*Using Default Arguments:* You can specify default values for the method parameters, making it flexible to call the method with different numbers of arguments.\n",
        "\n",
        "*Using *args and **kwargs:*\n",
        " These are variable-length arguments that allow you to pass a variable number of arguments to a method."
      ],
      "metadata": {
        "id": "BMbq6AyvFCfG"
      }
    },
    {
      "cell_type": "code",
      "source": [
        "#Example 1: Method Overloading Using Default Arguments\n",
        "class Calculator:\n",
        "    def add(self, a, b=0):\n",
        "        # Method can accept one or two arguments\n",
        "        return a + b\n",
        "\n",
        "# Creating an object of the Calculator class\n",
        "calc = Calculator()\n",
        "\n",
        "# Calling the method with one argument\n",
        "print(calc.add(5))\n",
        "\n",
        "# Calling the method with two arguments\n",
        "print(calc.add(5, 3))\n"
      ],
      "metadata": {
        "colab": {
          "base_uri": "https://localhost:8080/"
        },
        "id": "HOn0UivSFQkH",
        "outputId": "da73504c-750f-49c1-f17a-9e22b8a15ae5"
      },
      "execution_count": null,
      "outputs": [
        {
          "output_type": "stream",
          "name": "stdout",
          "text": [
            "5\n",
            "8\n"
          ]
        }
      ]
    },
    {
      "cell_type": "markdown",
      "source": [
        "Explanation:\n",
        "The add method has a default argument b=0, so if the method is called with only one argument, b will default to 0.\n",
        "If two arguments are passed, the method works as expected."
      ],
      "metadata": {
        "id": "9m5_XWauFeqo"
      }
    },
    {
      "cell_type": "code",
      "source": [
        "#Example 2: Method Overloading Using *args (Variable-Length Arguments)\n",
        "class Calculator:\n",
        "    def add(self, *args):\n",
        "        # Method can accept any number of arguments\n",
        "        return sum(args)\n",
        "\n",
        "# Creating an object of the Calculator class\n",
        "calc = Calculator()\n",
        "\n",
        "# Calling the method with different numbers of arguments\n",
        "print(calc.add(1, 2))\n",
        "print(calc.add(1, 2, 3, 4))\n",
        "\n"
      ],
      "metadata": {
        "colab": {
          "base_uri": "https://localhost:8080/"
        },
        "id": "59JeJnusFgMm",
        "outputId": "7efb5031-8e14-4bef-e63e-feb1cd26f080"
      },
      "execution_count": null,
      "outputs": [
        {
          "output_type": "stream",
          "name": "stdout",
          "text": [
            "3\n",
            "10\n"
          ]
        }
      ]
    },
    {
      "cell_type": "markdown",
      "source": [
        "Explanation:\n",
        "The add method uses *args, which allows it to accept any number of positional arguments.\n",
        "It calculates the sum of all the arguments passed to it, regardless of the number of arguments."
      ],
      "metadata": {
        "id": "5Pwo588XFteY"
      }
    },
    {
      "cell_type": "code",
      "source": [
        "#Example 3: Method Overloading Using **kwargs (Keyword Arguments)\n",
        "class Printer:\n",
        "    def print_message(self, **kwargs):\n",
        "        # Method that accepts keyword arguments\n",
        "        for key, value in kwargs.items():\n",
        "            print(f\"{key}: {value}\")\n",
        "\n",
        "# Creating an object of the Printer class\n",
        "printer = Printer()\n",
        "\n",
        "# Calling the method with different keyword arguments\n",
        "printer.print_message(name=\"Alice\", age=30)\n",
        "\n",
        "\n"
      ],
      "metadata": {
        "colab": {
          "base_uri": "https://localhost:8080/"
        },
        "id": "ADAut8SHFxpD",
        "outputId": "a93161df-c711-455d-bcc3-c40b31e29a5f"
      },
      "execution_count": null,
      "outputs": [
        {
          "output_type": "stream",
          "name": "stdout",
          "text": [
            "name: Alice\n",
            "age: 30\n"
          ]
        }
      ]
    },
    {
      "cell_type": "markdown",
      "source": [
        "Explanation:\n",
        "The print_message method uses **kwargs, allowing it to accept any number of keyword arguments, making it flexible to call with different keys and values.\n",
        "\n",
        "\n",
        "**Key Points:**\n",
        "\n",
        "Method Overloading in Python is achieved by using default arguments, *args, and **kwargs, instead of defining methods with the same name but different parameters.\n",
        "Python handles method overloading at runtime by dynamically adjusting based on the number of arguments passed to a method."
      ],
      "metadata": {
        "id": "EVljXMuvGDOJ"
      }
    },
    {
      "cell_type": "markdown",
      "source": [
        "***5.What are three types of access modifiers in python? How are they denoted?**"
      ],
      "metadata": {
        "id": "1P5ztSoNPZK5"
      }
    },
    {
      "cell_type": "markdown",
      "source": [
        "In Python, there are three types of access modifiers used to control the visibility of variables, methods, and classes. These modifiers are:\n",
        "\n",
        "***1.Public***\n",
        "\n",
        "Description: Members (variables or methods) with public access modifiers can be accessed from anywhere in the program—inside or outside the class.\n",
        "Denotation: No special prefix is used.\n"
      ],
      "metadata": {
        "id": "6SB3J5UZPfVb"
      }
    },
    {
      "cell_type": "code",
      "source": [
        "class MyClass:\n",
        "    def __init__(self):\n",
        "        self.public_variable = \"I am public\"\n",
        "\n",
        "    def public_method(self):\n",
        "        return \"This is a public method\"\n",
        "\n",
        "obj = MyClass()\n",
        "print(obj.public_variable)  # Accessible\n",
        "print(obj.public_method())  # Accessible\n"
      ],
      "metadata": {
        "colab": {
          "base_uri": "https://localhost:8080/"
        },
        "id": "C_ld7gAQPz5E",
        "outputId": "cb709334-b723-4e36-8aa9-821410a28fbd"
      },
      "execution_count": null,
      "outputs": [
        {
          "output_type": "stream",
          "name": "stdout",
          "text": [
            "I am public\n",
            "This is a public method\n"
          ]
        }
      ]
    },
    {
      "cell_type": "markdown",
      "source": [
        "***2.Protected***\n",
        "\n",
        "Description: Members with protected access modifiers can be accessed within the class and by subclasses. However, they are not meant to be accessed directly from outside the class (although Python allows it with a warning against it).\n",
        "Denotation: A single underscore _ is prefixed to the name.\n"
      ],
      "metadata": {
        "id": "oCDPlDftP9MY"
      }
    },
    {
      "cell_type": "code",
      "source": [
        "class MyClass:\n",
        "    def __init__(self):\n",
        "        self._protected_variable = \"I am protected\"\n",
        "\n",
        "    def _protected_method(self):\n",
        "        return \"This is a protected method\"\n",
        "\n",
        "obj = MyClass()\n",
        "print(obj._protected_variable)  # Accessible but not recommended\n",
        "print(obj._protected_method())  # Accessible but not recommended\n"
      ],
      "metadata": {
        "colab": {
          "base_uri": "https://localhost:8080/"
        },
        "id": "tKTj4Mz0QCzi",
        "outputId": "67b0ffc3-ac5d-4384-c42e-857b4d9cfea5"
      },
      "execution_count": null,
      "outputs": [
        {
          "output_type": "stream",
          "name": "stdout",
          "text": [
            "I am protected\n",
            "This is a protected method\n"
          ]
        }
      ]
    },
    {
      "cell_type": "markdown",
      "source": [
        "***3.Private***\n",
        "\n",
        "Description: Members with private access modifiers can only be accessed within the class in which they are defined. They are not accessible outside the class or by subclasses directly.\n",
        "Denotation: A double underscore __ is prefixed to the name."
      ],
      "metadata": {
        "id": "eDiFsN4dQbfg"
      }
    },
    {
      "cell_type": "code",
      "source": [
        "class MyClass:\n",
        "    def __init__(self):\n",
        "        self.__private_variable = \"I am private\"\n",
        "\n",
        "    def __private_method(self):\n",
        "        return \"This is a private method\"\n",
        "\n",
        "    def access_private(self):\n",
        "        # Private members can be accessed within the class\n",
        "        return self.__private_method()\n",
        "\n",
        "obj = MyClass()\n",
        "# print(obj.__private_variable)  # Raises AttributeError\n",
        "# print(obj.__private_method())  # Raises AttributeError\n",
        "print(obj.access_private())      # Accessible through a public method\n"
      ],
      "metadata": {
        "id": "0m4HsCk3Qi0b"
      },
      "execution_count": null,
      "outputs": []
    },
    {
      "cell_type": "markdown",
      "source": [
        "***Key Takeaways:***\n",
        "\n",
        "Public: No prefix (e.g., variable or method()).\n",
        "Protected: Single underscore _ prefix (e.g., _variable or _method()).\n",
        "Private: Double underscore __ prefix (e.g., __variable or __method()).\n",
        "\n",
        "\n",
        "\n",
        "\n",
        "\n"
      ],
      "metadata": {
        "id": "16RhKe1AQpil"
      }
    },
    {
      "cell_type": "markdown",
      "source": [
        "***6.Describe the five types of inheritence in python .Provide a simple example of multiple  inheritence.***"
      ],
      "metadata": {
        "id": "5rIXRB4hQxZk"
      }
    },
    {
      "cell_type": "markdown",
      "source": [
        "Types of Inheritance in Python:\n",
        "Single Inheritance\n",
        "\n",
        "A child class inherits from one parent class."
      ],
      "metadata": {
        "id": "Y32eDl6JRhYP"
      }
    },
    {
      "cell_type": "code",
      "source": [
        "class Parent:\n",
        "    def greet(self):\n",
        "        return \"Hello from Parent\"\n",
        "\n",
        "class Child(Parent):\n",
        "    pass\n",
        "\n",
        "obj = Child()\n",
        "print(obj.greet())"
      ],
      "metadata": {
        "colab": {
          "base_uri": "https://localhost:8080/"
        },
        "id": "KxMuxVUlRn8i",
        "outputId": "f503bd14-9ed2-42c8-874d-694a906fb85d"
      },
      "execution_count": null,
      "outputs": [
        {
          "output_type": "stream",
          "name": "stdout",
          "text": [
            "Hello from Parent\n"
          ]
        }
      ]
    },
    {
      "cell_type": "markdown",
      "source": [
        "***Multiple Inheritance***\n",
        "\n",
        "A child class inherits from more than one parent class.\n",
        "Example (see detailed example below).\n",
        "Multilevel Inheritance\n",
        "\n",
        "A child class inherits from a parent class, and then another class inherits from the child class."
      ],
      "metadata": {
        "id": "5_aSn-i_R9Gt"
      }
    },
    {
      "cell_type": "code",
      "source": [
        "class Grandparent:\n",
        "    def greet(self):\n",
        "        return \"Hello from Grandparent\"\n",
        "\n",
        "class Parent(Grandparent):\n",
        "    def parent_method(self):\n",
        "        return \"Hello from Parent\"\n",
        "\n",
        "class Child(Parent):\n",
        "    def child_method(self):\n",
        "        return \"Hello from Child\"\n",
        "\n",
        "obj = Child()\n",
        "print(obj.greet())\n",
        "print(obj.parent_method())\n",
        "print(obj.child_method())"
      ],
      "metadata": {
        "colab": {
          "base_uri": "https://localhost:8080/"
        },
        "id": "275n4XfZSC4y",
        "outputId": "00b92e4f-f4a8-49b6-e10b-8de6c093b1f1"
      },
      "execution_count": null,
      "outputs": [
        {
          "output_type": "stream",
          "name": "stdout",
          "text": [
            "Hello from Grandparent\n",
            "Hello from Parent\n",
            "Hello from Child\n"
          ]
        }
      ]
    },
    {
      "cell_type": "markdown",
      "source": [
        "***Hierarchical Inheritance***\n",
        "\n",
        "Multiple child classes inherit from a single parent class."
      ],
      "metadata": {
        "id": "ehZLbiYNSTCa"
      }
    },
    {
      "cell_type": "code",
      "source": [
        "class Parent:\n",
        "    def greet(self):\n",
        "        return \"Hello from Parent\"\n",
        "\n",
        "class Child1(Parent):\n",
        "    pass\n",
        "\n",
        "class Child2(Parent):\n",
        "    pass\n",
        "\n",
        "obj1 = Child1()\n",
        "obj2 = Child2()\n",
        "print(obj1.greet())\n",
        "print(obj2.greet())\n"
      ],
      "metadata": {
        "colab": {
          "base_uri": "https://localhost:8080/"
        },
        "id": "zQmNvYCiSbqF",
        "outputId": "cf30cf9d-beb4-4575-ccb5-b2763ae917fa"
      },
      "execution_count": null,
      "outputs": [
        {
          "output_type": "stream",
          "name": "stdout",
          "text": [
            "Hello from Parent\n",
            "Hello from Parent\n"
          ]
        }
      ]
    },
    {
      "cell_type": "markdown",
      "source": [
        "***Hybrid Inheritance***\n",
        "\n",
        "A combination of two or more types of inheritance."
      ],
      "metadata": {
        "id": "aIDlsB3KSqBu"
      }
    },
    {
      "cell_type": "code",
      "source": [
        "class Parent:\n",
        "    def greet(self):\n",
        "        return \"Hello from Parent\"\n",
        "\n",
        "class Child1(Parent):\n",
        "    pass\n",
        "\n",
        "class Child2(Child1):\n",
        "    pass\n",
        "\n",
        "obj = Child2()\n",
        "print(obj.greet())\n"
      ],
      "metadata": {
        "colab": {
          "base_uri": "https://localhost:8080/"
        },
        "id": "Vzj_1xcOSvjB",
        "outputId": "bffc106a-85cd-4744-838d-7a001945dcdb"
      },
      "execution_count": null,
      "outputs": [
        {
          "output_type": "stream",
          "name": "stdout",
          "text": [
            "Hello from Parent\n"
          ]
        }
      ]
    },
    {
      "cell_type": "markdown",
      "source": [
        "Example of Multiple Inheritance:\n",
        "Here, a child class inherits from two parent classes:"
      ],
      "metadata": {
        "id": "-4dQSh2-TEej"
      }
    },
    {
      "cell_type": "code",
      "source": [
        "class Parent1:\n",
        "    def method1(self):\n",
        "        return \"Method from Parent1\"\n",
        "\n",
        "class Parent2:\n",
        "    def method2(self):\n",
        "        return \"Method from Parent2\"\n",
        "\n",
        "class Child(Parent1, Parent2):\n",
        "    def child_method(self):\n",
        "        return \"Method from Child\"\n",
        "\n",
        "# Create an object of the Child class\n",
        "obj = Child()\n",
        "print(obj.method1())\n",
        "print(obj.method2())\n",
        "print(obj.child_method())\n"
      ],
      "metadata": {
        "colab": {
          "base_uri": "https://localhost:8080/"
        },
        "id": "X9lQk8MJTJVl",
        "outputId": "b7726e6c-fb21-489b-fd6b-4b310ba9dfb6"
      },
      "execution_count": null,
      "outputs": [
        {
          "output_type": "stream",
          "name": "stdout",
          "text": [
            "Method from Parent1\n",
            "Method from Parent2\n",
            "Method from Child\n"
          ]
        }
      ]
    },
    {
      "cell_type": "markdown",
      "source": [
        "***7.What is the Method Resolution Order (MRO) in python ? How can you retrieve it programmatically? **"
      ],
      "metadata": {
        "id": "IbOC3D_jUj22"
      }
    },
    {
      "cell_type": "markdown",
      "source": [
        "The Method Resolution Order (MRO) in Python is the order in which a method or attribute is searched in a class hierarchy. It determines how Python resolves method calls when multiple classes are involved in inheritance, particularly in cases of multiple and hybrid inheritance.\n",
        "\n",
        "Python uses the C3 Linearization algorithm to compute the MRO, ensuring a consistent order that respects the inheritance hierarchy. MRO is important for avoiding conflicts and ensuring methods are called in the expected sequence.\n",
        "\n",
        "\n",
        "What is Method Resolution Order (MRO) in Python?\n",
        "The Method Resolution Order (MRO) in Python is the order in which a method or attribute is searched in a class hierarchy. It determines how Python resolves method calls when multiple classes are involved in inheritance, particularly in cases of multiple and hybrid inheritance.\n",
        "\n",
        "Python uses the C3 Linearization algorithm to compute the MRO, ensuring a consistent order that respects the inheritance hierarchy. MRO is important for avoiding conflicts and ensuring methods are called in the expected sequence.\n",
        "\n",
        "***Key Points of MRO:**\n",
        "\n",
        "Single Inheritance: The search order is straightforward — from the child class to its parent.\n",
        "Multiple Inheritance: The search follows the MRO determined by the C3 Linearization, ensuring that:\n",
        "\n",
        "A class is only visited once.\n",
        "The order respects the inheritance hierarchy.\n",
        "MRO in super(): When super() is used, it follows the MRO to determine which class's method to call.\n",
        "\n",
        "How to Retrieve MRO Programmatically?\n",
        "You can retrieve the MRO of a class in two ways:\n",
        "\n",
        "Using the mro() Method:"
      ],
      "metadata": {
        "id": "nOkjodXtUq3H"
      }
    },
    {
      "cell_type": "code",
      "source": [
        "class A:\n",
        "    pass\n",
        "\n",
        "class B(A):\n",
        "    pass\n",
        "\n",
        "class C(B):\n",
        "    pass\n",
        "\n",
        "print(C.mro())\n"
      ],
      "metadata": {
        "colab": {
          "base_uri": "https://localhost:8080/"
        },
        "id": "14lsV8-eVXJl",
        "outputId": "3ff9a235-da58-40ef-81d0-61d774aa0674"
      },
      "execution_count": null,
      "outputs": [
        {
          "output_type": "stream",
          "name": "stdout",
          "text": [
            "[<class '__main__.C'>, <class '__main__.B'>, <class '__main__.A'>, <class 'object'>]\n"
          ]
        }
      ]
    },
    {
      "cell_type": "markdown",
      "source": [
        "Using the __mro__ Attribute:"
      ],
      "metadata": {
        "id": "Fqz-ETuEVd_r"
      }
    },
    {
      "cell_type": "code",
      "source": [
        "print(C.__mro__)\n"
      ],
      "metadata": {
        "colab": {
          "base_uri": "https://localhost:8080/"
        },
        "id": "SLrij_RcVfng",
        "outputId": "dd9c10ae-5d76-40dc-bd7f-c392f5e27d59"
      },
      "execution_count": null,
      "outputs": [
        {
          "output_type": "stream",
          "name": "stdout",
          "text": [
            "(<class '__main__.C'>, <class '__main__.B'>, <class '__main__.A'>, <class 'object'>)\n"
          ]
        }
      ]
    },
    {
      "cell_type": "code",
      "source": [
        "#Example: MRO in Multiple Inheritance\n",
        "class A:\n",
        "    def method(self):\n",
        "        return \"Method in A\"\n",
        "\n",
        "class B(A):\n",
        "    def method(self):\n",
        "        return \"Method in B\"\n",
        "\n",
        "class C(A):\n",
        "    def method(self):\n",
        "        return \"Method in C\"\n",
        "\n",
        "class D(B, C):  # Multiple inheritance\n",
        "    pass\n",
        "\n",
        "# Checking the MRO of class D\n",
        "print(D.mro())\n",
        "\n",
        "# Calling method on an instance of D\n",
        "d = D()\n",
        "print(d.method())\n"
      ],
      "metadata": {
        "colab": {
          "base_uri": "https://localhost:8080/"
        },
        "id": "SpkMpW-yVw0O",
        "outputId": "5415ff4c-8364-49a1-aead-b28f83095af8"
      },
      "execution_count": null,
      "outputs": [
        {
          "output_type": "stream",
          "name": "stdout",
          "text": [
            "[<class '__main__.D'>, <class '__main__.B'>, <class '__main__.C'>, <class '__main__.A'>, <class 'object'>]\n",
            "Method in B\n"
          ]
        }
      ]
    },
    {
      "cell_type": "markdown",
      "source": [
        "***How MRO Works in This Example:**\n",
        "\n",
        "When d.method() is called, Python looks for the method in the classes according to the MRO of D: D -> B -> C -> A -> object.\n",
        "Since B has the method, it is executed, and the search stops there.\n",
        "This ensures a predictable and logical order for method resolution in complex inheritance scenarios."
      ],
      "metadata": {
        "id": "ZeVtGqgeWMsJ"
      }
    },
    {
      "cell_type": "markdown",
      "source": [
        "**8.Create an abstract base classs 'Shape' with an abstract method 'area'() . Then create two subclasses 'Circle' and 'Rectangle' that implement the 'area()' method.**"
      ],
      "metadata": {
        "id": "8z5Hx3zup_Tz"
      }
    },
    {
      "cell_type": "markdown",
      "source": [
        "Here’s how you can create an abstract base class Shape with an abstract method area() and two subclasses Circle and Rectangle that implement the area() method:"
      ],
      "metadata": {
        "id": "M95XSaUCqK01"
      }
    },
    {
      "cell_type": "code",
      "source": [
        "from abc import ABC, abstractmethod\n",
        "import math\n",
        "\n",
        "# Abstract base class\n",
        "class Shape(ABC):\n",
        "    @abstractmethod\n",
        "    def area(self):\n",
        "        \"\"\"Abstract method to calculate the area of the shape\"\"\"\n",
        "        pass\n",
        "\n",
        "# Subclass for Circle\n",
        "class Circle(Shape):\n",
        "    def __init__(self, radius):\n",
        "        self.radius = radius\n",
        "\n",
        "    def area(self):\n",
        "        return math.pi * self.radius ** 2\n",
        "\n",
        "# Subclass for Rectangle\n",
        "class Rectangle(Shape):\n",
        "    def __init__(self, width, height):\n",
        "        self.width = width\n",
        "        self.height = height\n",
        "\n",
        "    def area(self):\n",
        "        return self.width * self.height\n",
        "\n",
        "# Create instances and calculate their areas\n",
        "circle = Circle(radius=5)\n",
        "rectangle = Rectangle(width=4, height=7)\n",
        "\n",
        "print(f\"Area of Circle: {circle.area():.2f}\")\n",
        "print(f\"Area of Rectangle: {rectangle.area()}\")\n"
      ],
      "metadata": {
        "colab": {
          "base_uri": "https://localhost:8080/"
        },
        "id": "hp28UcH6qP7g",
        "outputId": "302e0707-df99-470c-93f0-e0d82a05d972"
      },
      "execution_count": null,
      "outputs": [
        {
          "output_type": "stream",
          "name": "stdout",
          "text": [
            "Area of Circle: 78.54\n",
            "Area of Rectangle: 28\n"
          ]
        }
      ]
    },
    {
      "cell_type": "markdown",
      "source": [
        "**Explanation:**\n",
        "\n",
        "Abstract Base Class Shape:\n",
        "\n",
        "Defined using the ABC module (from abc import ABC, abstractmethod).\n",
        "The area() method is decorated with @abstractmethod, meaning any subclass must implement this method.\n",
        "\n",
        "**Circle Class:**\n",
        "\n",
        "Inherits from Shape and implements the area() method using the formula:\n",
        "Area\n",
        "=\n",
        "𝜋\n",
        "𝑟\n",
        "2\n",
        "Area=πr\n",
        "2\n",
        " .\n",
        "\n",
        "**Rectangle Class:**\n",
        "\n",
        "Inherits from Shape and implements the area() method using the formula:\n",
        "Area\n",
        "=\n",
        "width\n",
        "×\n",
        "height\n",
        "Area=width×height.\n",
        "\n",
        "**Instances:**\n",
        "\n",
        "Objects of Circle and Rectangle are created, and the area() method is called on them.\n",
        "By defining the Shape class as abstract, you ensure that all subclasses must implement the area() method, adhering to the contract defined by the base class.\n",
        "\n",
        "\n",
        "\n",
        "\n",
        "\n",
        "\n"
      ],
      "metadata": {
        "id": "J9dZfckOqhQm"
      }
    },
    {
      "cell_type": "markdown",
      "source": [
        "***9.Demonstrate polymorphism by creating a function that can work with different shape with objects to calculate and print thier areas.***"
      ],
      "metadata": {
        "id": "HdMdk7lwrJhK"
      }
    },
    {
      "cell_type": "markdown",
      "source": [
        "*Here’s how you can demonstrate polymorphism by creating a function that can work with different Shape objects to calculate and print their areas:*"
      ],
      "metadata": {
        "id": "wpivh-3XsE0W"
      }
    },
    {
      "cell_type": "code",
      "source": [
        "from abc import ABC, abstractmethod\n",
        "import math\n",
        "\n",
        "# Abstract base class\n",
        "class Shape(ABC):\n",
        "    @abstractmethod\n",
        "    def area(self):\n",
        "        \"\"\"Abstract method to calculate the area of the shape\"\"\"\n",
        "        pass\n",
        "\n",
        "# Subclass for Circle\n",
        "class Circle(Shape):\n",
        "    def __init__(self, radius):\n",
        "        self.radius = radius\n",
        "\n",
        "    def area(self):\n",
        "        return math.pi * self.radius ** 2\n",
        "\n",
        "# Subclass for Rectangle\n",
        "class Rectangle(Shape):\n",
        "    def __init__(self, width, height):\n",
        "        self.width = width\n",
        "        self.height = height\n",
        "\n",
        "    def area(self):\n",
        "        return self.width * self.height\n",
        "\n",
        "# Function demonstrating polymorphism\n",
        "def print_area(shape):\n",
        "    \"\"\"Accepts any shape object and prints its area\"\"\"\n",
        "    print(f\"The area of the {shape.__class__.__name__} is: {shape.area():.2f}\")\n",
        "\n",
        "# Creating different shape objects\n",
        "circle = Circle(radius=5)\n",
        "rectangle = Rectangle(width=4, height=7)\n",
        "\n",
        "# Using the polymorphic function\n",
        "print_area(circle)\n",
        "print_area(rectangle)\n"
      ],
      "metadata": {
        "colab": {
          "base_uri": "https://localhost:8080/"
        },
        "id": "QaCQJOIKsL-g",
        "outputId": "b2e4da61-225c-4821-e3a7-949ee230185c"
      },
      "execution_count": null,
      "outputs": [
        {
          "output_type": "stream",
          "name": "stdout",
          "text": [
            "The area of the Circle is: 78.54\n",
            "The area of the Rectangle is: 28.00\n"
          ]
        }
      ]
    },
    {
      "cell_type": "markdown",
      "source": [
        "Explanation:\n",
        "\n",
        "**Polymorphism:**\n",
        "\n",
        "The print_area() function accepts an object of the abstract base class Shape or any of its subclasses.\n",
        "It works generically with any object that implements the area() method, regardless of the specific type (e.g., Circle, Rectangle).\n",
        "\n",
        "**Dynamic Behavior:**\n",
        "\n",
        "The area() method is dynamically resolved at runtime depending on the type of object passed (Circle or Rectangle).\n",
        "This demonstrates polymorphism, as the function behaves differently based on the object's implementation of area().\n",
        "\n",
        "**Output:**\n",
        "For a Circle object, the function calculates and prints the area of the circle.\n",
        "For a Rectangle object, it calculates and prints the area of the rectangle.\n",
        "This approach highlights how a single function can work seamlessly with different types of objects, showcasing the power of polymorphism in Python."
      ],
      "metadata": {
        "id": "Nmf9PkpgsR3X"
      }
    },
    {
      "cell_type": "markdown",
      "source": [
        "***10.Implement encapsulation in a 'BankAccount' class with private attributes for 'balance' and 'account_number'.Include methods for deposite ,withdrawal and balance inquiry.***\n",
        "\n"
      ],
      "metadata": {
        "id": "CkkBK2A0smM3"
      }
    },
    {
      "cell_type": "markdown",
      "source": [
        "Here is an implementation of encapsulation in a BankAccount class, where private attributes   __balance    and  __account_number  are defined. Methods for deposit, withdrawal, and balance inquiry are provided to safely access and modify the private attributes:\n"
      ],
      "metadata": {
        "id": "knmmYxSZtgV6"
      }
    },
    {
      "cell_type": "code",
      "source": [
        "class BankAccount:\n",
        "    def __init__(self, account_number, initial_balance=0):\n",
        "        self.__account_number = account_number  # Private attribute\n",
        "        self.__balance = initial_balance        # Private attribute\n",
        "\n",
        "    # Method for depositing money\n",
        "    def deposit(self, amount):\n",
        "        if amount > 0:\n",
        "            self.__balance += amount\n",
        "            print(f\"Deposited {amount}. New balance: {self.__balance}\")\n",
        "        else:\n",
        "            print(\"Deposit amount must be positive.\")\n",
        "\n",
        "    # Method for withdrawing money\n",
        "    def withdraw(self, amount):\n",
        "        if 0 < amount <= self.__balance:\n",
        "            self.__balance -= amount\n",
        "            print(f\"Withdrew {amount}. New balance: {self.__balance}\")\n",
        "        elif amount > self.__balance:\n",
        "            print(\"Insufficient balance.\")\n",
        "        else:\n",
        "            print(\"Withdrawal amount must be positive.\")\n",
        "\n",
        "    # Method for balance inquiry\n",
        "    def get_balance(self):\n",
        "        return self.__balance\n",
        "\n",
        "    # Method to get the account number (if needed)\n",
        "    def get_account_number(self):\n",
        "        return self.__account_number\n",
        "\n",
        "# Example usage\n",
        "account = BankAccount(account_number=\"512689346\", initial_balance=500)\n",
        "\n",
        "# Deposit money\n",
        "account.deposit(200)\n",
        "\n",
        "# Withdraw money\n",
        "account.withdraw(100)\n",
        "account.withdraw(700)\n",
        "\n",
        "# Balance inquiry\n",
        "print(f\"Balance: {account.get_balance()}\")\n",
        "\n",
        "# Accessing account number\n",
        "print(f\"Account Number: {account.get_account_number()}\")\n"
      ],
      "metadata": {
        "colab": {
          "base_uri": "https://localhost:8080/"
        },
        "id": "06ERP5OMtykg",
        "outputId": "c906a869-c793-4fbd-aae7-ee275130f89e"
      },
      "execution_count": null,
      "outputs": [
        {
          "output_type": "stream",
          "name": "stdout",
          "text": [
            "Deposited 200. New balance: 700\n",
            "Withdrew 100. New balance: 600\n",
            "Insufficient balance.\n",
            "Balance: 600\n",
            "Account Number: 512689346\n"
          ]
        }
      ]
    },
    {
      "cell_type": "markdown",
      "source": [
        "**Explanation:**\n",
        "\n",
        "*Encapsulation:*\n",
        "\n",
        "The attributes __balance and __account_number are private (denoted by __).\n",
        "These attributes cannot be accessed directly from outside the class, ensuring data protection.\n",
        "*Accessing Private Attributes:*\n",
        "\n",
        "Methods such as deposit(), withdraw(), and get_balance() provide controlled access to modify or retrieve private data.\n",
        "\n",
        "*Deposit Method:*\n",
        "\n",
        "Ensures only positive amounts are added to the balance.\n",
        "Withdraw Method:\n",
        "\n",
        "Validates that the withdrawal amount is positive and does not exceed the available balance.\n",
        "\n",
        "*Balance Inquiry:*\n",
        "\n",
        "Provides a read-only method to check the current balance.\n"
      ],
      "metadata": {
        "id": "ZQRhHuWxuXFr"
      }
    },
    {
      "cell_type": "markdown",
      "source": [
        "***12.Write a class that overrides the '__str__'  and '__add__' magic methods. What will these methods allow you to do ?***"
      ],
      "metadata": {
        "id": "TmsA-Wgsu758"
      }
    },
    {
      "cell_type": "markdown",
      "source": [
        "When you override the __ str __  and  __ add __ magic methods in a class, you enable custom behavior for string representation   (__  str __ )   and addition ( __ add __ ) operations on objects of that class."
      ],
      "metadata": {
        "id": "6FHB46khwn3G"
      }
    },
    {
      "cell_type": "code",
      "source": [
        "class CustomNumber:\n",
        "    def __init__(self, value):\n",
        "        self.value = value\n",
        "\n",
        "    # Overriding the __str__ method\n",
        "    def __str__(self):\n",
        "        return f\"CustomNumber({self.value})\"\n",
        "\n",
        "    # Overriding the __add__ method\n",
        "    def __add__(self, other):\n",
        "        if isinstance(other, CustomNumber):\n",
        "            return CustomNumber(self.value + other.value)\n",
        "        return CustomNumber(self.value + other)  # Allow addition with numbers\n",
        "\n",
        "# Example usage\n",
        "num1 = CustomNumber(10)\n",
        "num2 = CustomNumber(20)\n",
        "\n",
        "# Using the overridden __str__ method\n",
        "print(num1)\n",
        "print(num2)\n",
        "\n",
        "# Using the overridden __add__ method\n",
        "result = num1 + num2  # Adding two CustomNumber objects\n",
        "print(result)\n",
        "# Adding a CustomNumber and an integer\n",
        "result2 = num1 + 5\n",
        "print(result2)"
      ],
      "metadata": {
        "colab": {
          "base_uri": "https://localhost:8080/"
        },
        "id": "7di-N09nxX_d",
        "outputId": "50200e07-f682-407a-9fc6-1eb7671059a9"
      },
      "execution_count": 14,
      "outputs": [
        {
          "output_type": "stream",
          "name": "stdout",
          "text": [
            "CustomNumber(10)\n",
            "CustomNumber(20)\n",
            "CustomNumber(30)\n",
            "CustomNumber(15)\n"
          ]
        }
      ]
    },
    {
      "cell_type": "markdown",
      "source": [
        "__str__ (String Representation):\n",
        "\n",
        "Determines how the object is represented as a string when used with print() or str ().\n",
        "By overriding __str__, you can define a user-friendly string representation for objects of your class.\n",
        "Without __ str __:\n",
        "\n",
        "The default behavior shows a generic string, e.g.,  <__main__.CustomNumber\n",
        "     object at 0x...>.\n",
        "\n",
        "With __ str __:\n",
        "\n",
        "You can provide a meaningful representation, like CustomNumber(10).\n",
        "__ add __ (Addition Operator):\n",
        "\n",
        "Customizes the behavior of the + operator for objects of the class.\n",
        "Allows you to define how two objects of the class, or an object of the class and another value (like an integer), should be added.\n",
        "\n",
        "Benefits:\n",
        "\n",
        "__ str __: Improves readability and debugging by giving a clear string representation of the object.\n",
        "\n",
        "__ add __: Allows intuitive use of operators (+) for your custom objects, supporting operator overloading for mathematical or logical operations."
      ],
      "metadata": {
        "id": "ve0ERsmTywY4"
      }
    },
    {
      "cell_type": "markdown",
      "source": [
        "**12.Create decorator that measures and prints the execution time of a function.**"
      ],
      "metadata": {
        "id": "EV1qFEIUzn1r"
      }
    },
    {
      "cell_type": "code",
      "source": [
        "import time\n",
        "\n",
        "def measure_execution_time(func):\n",
        "    def wrapper(*args, **kwargs):\n",
        "        start_time = time.time()  # Record the start time\n",
        "        result = func(*args, **kwargs)  # Execute the original function\n",
        "        end_time = time.time()  # Record the end time\n",
        "        execution_time = end_time - start_time  # Calculate the execution time\n",
        "        print(f\"Execution time of '{func.__name__}': {execution_time:.4f} seconds\")\n",
        "        return result  # Return the original function's result\n",
        "    return wrapper\n",
        "\n",
        "# Example usage\n",
        "@measure_execution_time\n",
        "def example_function(n):\n",
        "    total = 0\n",
        "    for i in range(n):\n",
        "        total += i\n",
        "    return total\n",
        "\n",
        "# Call the decorated function\n",
        "result = example_function(10**6)\n",
        "print(f\"Result: {result}\")\n"
      ],
      "metadata": {
        "colab": {
          "base_uri": "https://localhost:8080/"
        },
        "id": "_uhrM3Vkz8cA",
        "outputId": "663ec58c-a0c2-4d64-c727-f4b9343b33b6"
      },
      "execution_count": 15,
      "outputs": [
        {
          "output_type": "stream",
          "name": "stdout",
          "text": [
            "Execution time of 'example_function': 0.0776 seconds\n",
            "Result: 499999500000\n"
          ]
        }
      ]
    },
    {
      "cell_type": "markdown",
      "source": [
        "***13.Explain the concept of the Diamond problem in multiple inheritance.How does python resolve it?***"
      ],
      "metadata": {
        "id": "scam8s430njl"
      }
    },
    {
      "cell_type": "markdown",
      "source": [
        "*The Diamond Problem in Multiple Inheritance*\n",
        "\n",
        "The diamond problem is a common issue in object-oriented programming that arises with multiple inheritance. It occurs when a class inherits from two or more classes that have a common ancestor. This creates ambiguity because the derived class might inherit the same method or attribute from multiple parent classes, and it becomes unclear which version of the method or attribute should be used.\n",
        "\n"
      ],
      "metadata": {
        "id": "RPLQh4af0uqf"
      }
    },
    {
      "cell_type": "markdown",
      "source": [
        "       A\n",
        "      / \\         Visualizing the Diamond Problem\n",
        "     B   C\n",
        "      \\ /\n",
        "       D\n",
        "\n",
        "\n",
        "Class A is the common ancestor (base class).\n",
        "\n",
        "Classes B and C inherit from A.\n",
        "\n",
        "Class D inherits from both B and C.\n",
        "\n",
        "When D tries to access a method or attribute from A, there is ambiguity because B and C both inherited it. Python needs a mechanism to decide which path to follow.\n",
        "**How Python Resolves the Diamond Problem**\n",
        "\n",
        "Python resolves this issue using the C3 Linearization Algorithm (also known as MRO - Method Resolution Order). MRO ensures a consistent and predictable order for method or attribute lookup in a multiple inheritance hierarchy.\n",
        "\n",
        "*Key points of MRO in Python:*\n",
        "\n",
        "Linearization: MRO creates a single linear (left-to-right) path to search for methods or attributes.\n",
        "Depth-First Search: MRO follows a depth-first, left-to-right traversal but avoids visiting the same class multiple times.\n",
        "Consistency: It ensures that child classes are checked before parent classes and that parents are checked in the order they are inherited.\n",
        "Python computes the MRO using the mro() method or the __mro__ attribute.\n",
        "\n"
      ],
      "metadata": {
        "id": "QO_v3E1O1PlI"
      }
    },
    {
      "cell_type": "code",
      "source": [
        "class A:\n",
        "    def method(self):\n",
        "        print(\"Method from A\")\n",
        "\n",
        "class B(A):\n",
        "    def method(self):\n",
        "        print(\"Method from B\")\n",
        "\n",
        "class C(A):\n",
        "    def method(self):\n",
        "        print(\"Method from C\")\n",
        "\n",
        "class D(B, C):  # D inherits from both B and C\n",
        "    pass\n",
        "\n",
        "# Create an instance of D\n",
        "d = D()\n",
        "\n",
        "# Call the method\n",
        "d.method()\n",
        "\n",
        "# View the MRO\n",
        "print(D.mro())\n",
        "\n"
      ],
      "metadata": {
        "colab": {
          "base_uri": "https://localhost:8080/"
        },
        "id": "ksnHCnz31omP",
        "outputId": "e3ca545a-98c0-4ed4-c584-a6458b1ba765"
      },
      "execution_count": 17,
      "outputs": [
        {
          "output_type": "stream",
          "name": "stdout",
          "text": [
            "Method from B\n",
            "[<class '__main__.D'>, <class '__main__.B'>, <class '__main__.C'>, <class '__main__.A'>, <class 'object'>]\n"
          ]
        }
      ]
    },
    {
      "cell_type": "markdown",
      "source": [
        "***14.Write a class method that keeps track of the number of instances created from a class.***"
      ],
      "metadata": {
        "id": "FvuKhhAh2N9b"
      }
    },
    {
      "cell_type": "code",
      "source": [
        "class InstanceCounter:\n",
        "    # Class-level attribute to count instances\n",
        "    instance_count = 0\n",
        "\n",
        "    def __init__(self):\n",
        "        # Increment the instance count every time an object is created\n",
        "        InstanceCounter.instance_count += 1\n",
        "\n",
        "    @classmethod\n",
        "    def get_instance_count(cls):\n",
        "        # Class method to access the instance count\n",
        "        return cls.instance_count\n",
        "\n",
        "# Example usage\n",
        "obj1 = InstanceCounter()  # Creates 1st instance\n",
        "obj2 = InstanceCounter()  # Creates 2nd instance\n",
        "obj3 = InstanceCounter()  # Creates 3rd instance\n",
        "\n",
        "# Access the instance count using the class method\n",
        "print(f\"Number of instances created: {InstanceCounter.get_instance_count()}\")\n"
      ],
      "metadata": {
        "colab": {
          "base_uri": "https://localhost:8080/"
        },
        "id": "RLDTwggy2XMa",
        "outputId": "99e7783d-c9d9-42b8-bb93-40fcb0710feb"
      },
      "execution_count": 18,
      "outputs": [
        {
          "output_type": "stream",
          "name": "stdout",
          "text": [
            "Number of instances created: 3\n"
          ]
        }
      ]
    },
    {
      "cell_type": "markdown",
      "source": [
        "***15.Implement static method in a class tat checks if a given year is a leap year.***"
      ],
      "metadata": {
        "id": "q4_xcQHY20qi"
      }
    },
    {
      "cell_type": "code",
      "source": [
        "class YearUtils:\n",
        "    @staticmethod\n",
        "    def is_leap_year(year):\n",
        "        \"\"\"Static method to check if a given year is a leap year.\"\"\"\n",
        "        if (year % 4 == 0 and year % 100 != 0) or (year % 400 == 0):\n",
        "            return True\n",
        "        return False\n",
        "\n",
        "# Example usage\n",
        "year = 2024\n",
        "if YearUtils.is_leap_year(year):\n",
        "    print(f\"{year} is a leap year.\")\n",
        "else:\n",
        "    print(f\"{year} is not a leap year.\")\n"
      ],
      "metadata": {
        "colab": {
          "base_uri": "https://localhost:8080/"
        },
        "id": "CHQN8gfN29T2",
        "outputId": "ad0513bd-c447-4d55-ceb0-cdeaed517406"
      },
      "execution_count": 20,
      "outputs": [
        {
          "output_type": "stream",
          "name": "stdout",
          "text": [
            "2024 is a leap year.\n"
          ]
        }
      ]
    },
    {
      "cell_type": "markdown",
      "source": [
        "Explanation:\n",
        "\n",
        "Static Method (@staticmethod):\n",
        "\n",
        "The @staticmethod decorator allows the method to be called on the class itself, not requiring an instance of the class.\n",
        "This method is independent of any instance and doesn't modify or access any instance-specific data. It only operates on the data passed as arguments.\n",
        "Leap Year Calculation:\n",
        "\n",
        "A year is a leap year if:\n",
        "\n",
        "It is divisible by 4 but not by 100, or\n",
        "It is divisible by 400.\n",
        "The method returns True if the year is a leap year and False otherwise.\n",
        "\n",
        "Usage:\n",
        "\n",
        "The static method is_leap_year() is called directly on the class (YearUtils.is_leap_year(year)), passing the year to check."
      ],
      "metadata": {
        "id": "rL2H2pW13J7E"
      }
    }
  ]
}