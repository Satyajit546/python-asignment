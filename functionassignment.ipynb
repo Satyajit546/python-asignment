{
  "nbformat": 4,
  "nbformat_minor": 0,
  "metadata": {
    "colab": {
      "provenance": []
    },
    "kernelspec": {
      "name": "python3",
      "display_name": "Python 3"
    },
    "language_info": {
      "name": "python"
    }
  },
  "cells": [
    {
      "cell_type": "markdown",
      "source": [
        "***1.\tWhat is the difference between a function and a method in Python?***"
      ],
      "metadata": {
        "id": "oxN0el9cORSJ"
      }
    },
    {
      "cell_type": "markdown",
      "source": [
        "In Python, functions and methods are both blocks of reusable code designed to perform a specific task, but they differ in how they are called and used:\n",
        "\n",
        "1.Function\n",
        "\n",
        "A function is a standalone block of code defined using the def keyword.\n",
        "\n",
        "It is not tied to any specific object and can be called independently.\n"
      ],
      "metadata": {
        "id": "WyHd1-sPOnOC"
      }
    },
    {
      "cell_type": "code",
      "source": [
        "def greet(name):\n",
        "    return f\"Hello, {name}!\"\n",
        "\n",
        "print(greet(\"Satyajit\"))"
      ],
      "metadata": {
        "colab": {
          "base_uri": "https://localhost:8080/"
        },
        "id": "Z6sfgkBQO5jn",
        "outputId": "62e74427-370e-4e88-f0ea-e2616b09a7dd"
      },
      "execution_count": 1,
      "outputs": [
        {
          "output_type": "stream",
          "name": "stdout",
          "text": [
            "Hello, Satyajit!\n"
          ]
        }
      ]
    },
    {
      "cell_type": "markdown",
      "source": [
        "2.Method\n",
        "\n",
        "A method is similar to a function but is associated with an object and is called on that object.\n",
        "\n",
        "Methods are functions that belong to a class and usually operate on the data (attributes) of that class.\n",
        "\n",
        "A method's first parameter is typically self, which represents the instance of the class."
      ],
      "metadata": {
        "id": "uRzsAlx_PJMT"
      }
    },
    {
      "cell_type": "code",
      "source": [
        "class Person:\n",
        "    def __init__(self, name):\n",
        "        self.name = name\n",
        "\n",
        "    def greet(self):\n",
        "        return f\"Hello, {self.name}!\"\n",
        "\n",
        "p = Person(\"Satyajit\")\n",
        "print(p.greet())"
      ],
      "metadata": {
        "colab": {
          "base_uri": "https://localhost:8080/"
        },
        "id": "0r_DOEg0PXSB",
        "outputId": "4da20e8b-dcaf-4ee5-a7c1-299731d8e849"
      },
      "execution_count": 2,
      "outputs": [
        {
          "output_type": "stream",
          "name": "stdout",
          "text": [
            "Hello, Satyajit!\n"
          ]
        }
      ]
    },
    {
      "cell_type": "markdown",
      "source": [
        "\n",
        "   Key Differences\n",
        "\n",
        "     Feature\t            Function\t                        Method\n",
        "\n",
        "     Association\t Standalone, not tied to any object.\tAssociated with an object or class.\n",
        "\n",
        "     Calling\t     Called directly by its name.\t        Called on an object (object.method()).\n",
        "\n",
        "     First Parameter\t  No implicit first parameter.\t    Takes self (instance) or cls (class).\n",
        "\n",
        "     Context\t         Operates independently.\t            Operates within the context of a class or object."
      ],
      "metadata": {
        "id": "U8T48LClPtCB"
      }
    },
    {
      "cell_type": "markdown",
      "source": [
        "***2.\tExplain the concept of function arguments and parameters in Python.***\n",
        "\n"
      ],
      "metadata": {
        "id": "Ag3rpbK1SUyL"
      }
    },
    {
      "cell_type": "markdown",
      "source": [
        "In Python, function arguments and parameters refer to the values and placeholders involved in passing data into a function. Understanding their roles and differences is crucial for writing reusable and flexible code.\n",
        "\n",
        "\n",
        "1.Parameters\n",
        "\n",
        "Definition: Parameters are the placeholders defined in a function signature to receive input values when the function is called.\n",
        "They exist only in the function definition and represent the expected input values.\n"
      ],
      "metadata": {
        "id": "5XXEJVFwSaoY"
      }
    },
    {
      "cell_type": "code",
      "source": [
        "def greet(name):\n",
        "    return f\"Hello, {name}!\"\n"
      ],
      "metadata": {
        "id": "Z8OGG3rvS7yb"
      },
      "execution_count": 4,
      "outputs": []
    },
    {
      "cell_type": "markdown",
      "source": [
        "2.Arguments\n",
        "\n",
        "Definition: Arguments are the actual values provided to the function when it is called.\n",
        "These values are passed to the corresponding parameters in the function.\n"
      ],
      "metadata": {
        "id": "-dVvNXilTSGm"
      }
    },
    {
      "cell_type": "code",
      "source": [
        "print(greet(\"Alice\"))\n"
      ],
      "metadata": {
        "colab": {
          "base_uri": "https://localhost:8080/"
        },
        "id": "61t5c_jlT_0z",
        "outputId": "053d1c15-eb41-4310-e400-4db7502e2e0e"
      },
      "execution_count": 5,
      "outputs": [
        {
          "output_type": "stream",
          "name": "stdout",
          "text": [
            "Hello, Alice!\n"
          ]
        }
      ]
    },
    {
      "cell_type": "markdown",
      "source": [
        "Types of Function Arguments\n",
        "Python provides flexibility in how arguments are passed to a function:\n",
        "\n",
        "Positional Arguments\n",
        "\n",
        "Passed in the order of parameters."
      ],
      "metadata": {
        "id": "AIm7Y3rzUOmq"
      }
    },
    {
      "cell_type": "code",
      "source": [
        "def add(a, b):\n",
        "    return a + b\n",
        "\n",
        "print(add(3, 5))"
      ],
      "metadata": {
        "colab": {
          "base_uri": "https://localhost:8080/"
        },
        "id": "ej9L91nFUgJ0",
        "outputId": "319b1d84-2564-48c4-cc93-4959e0b7dab6"
      },
      "execution_count": 6,
      "outputs": [
        {
          "output_type": "stream",
          "name": "stdout",
          "text": [
            "8\n"
          ]
        }
      ]
    },
    {
      "cell_type": "markdown",
      "source": [
        "Keyword Arguments\n",
        "\n",
        "Passed by explicitly naming the parameter.\n",
        "Order does not matter."
      ],
      "metadata": {
        "id": "Fu_bBcB4VB9r"
      }
    },
    {
      "cell_type": "code",
      "source": [
        "def greet(name, message):\n",
        "    return f\"{message}, {name}!\"\n",
        "\n",
        "print(greet(message=\"Good morning\", name=\"Satyajit\"))\n"
      ],
      "metadata": {
        "colab": {
          "base_uri": "https://localhost:8080/"
        },
        "id": "ZRi1YTM6VGPy",
        "outputId": "d96cddf1-22b5-4532-9d1b-5bc49360d3f3"
      },
      "execution_count": 7,
      "outputs": [
        {
          "output_type": "stream",
          "name": "stdout",
          "text": [
            "Good morning, Satyajit!\n"
          ]
        }
      ]
    },
    {
      "cell_type": "markdown",
      "source": [
        "Default Arguments\n",
        "\n",
        "Parameters with default values.\n",
        "If no argument is provided, the default value is used.\n"
      ],
      "metadata": {
        "id": "a_EsXR0iVl6O"
      }
    },
    {
      "cell_type": "code",
      "source": [
        "def greet(name, message=\"Hello\"):\n",
        "    return f\"{message}, {name}!\"\n",
        "\n",
        "print(greet(\"satyajit\"))\n",
        "print(greet(\"satyajit\", \"Good evening\"))\n"
      ],
      "metadata": {
        "id": "DkefS0AuVpjJ"
      },
      "execution_count": null,
      "outputs": []
    },
    {
      "cell_type": "markdown",
      "source": [
        "Variable-Length Arguments\n",
        "\n",
        "Allows a function to accept an arbitrary number of arguments.\n",
        "\n",
        "*args (Non-keyword arguments):\n",
        "\n",
        "Collects extra positional arguments as a tuple."
      ],
      "metadata": {
        "id": "HjpYh2wiWEza"
      }
    },
    {
      "cell_type": "code",
      "source": [
        "def add(*numbers):\n",
        "    return sum(numbers)\n",
        "\n",
        "print(add(1, 2, 3, 4))"
      ],
      "metadata": {
        "colab": {
          "base_uri": "https://localhost:8080/"
        },
        "id": "61gldq_0WLOO",
        "outputId": "8fc9d77f-ed16-4b87-8153-113f33f9a61c"
      },
      "execution_count": 8,
      "outputs": [
        {
          "output_type": "stream",
          "name": "stdout",
          "text": [
            "10\n"
          ]
        }
      ]
    },
    {
      "cell_type": "markdown",
      "source": [
        "**kwargs (Keyword arguments):\n",
        "Collects extra keyword arguments as a dictionary.\n"
      ],
      "metadata": {
        "id": "EGEVepxlWXOT"
      }
    },
    {
      "cell_type": "code",
      "source": [
        "def print_info(**info):\n",
        "    for key, value in info.items():\n",
        "        print(f\"{key}: {value}\")\n",
        "\n",
        "print_info(name=\"satyait\", age=25, city=\"New York\")\n"
      ],
      "metadata": {
        "colab": {
          "base_uri": "https://localhost:8080/"
        },
        "id": "V_6nn5VlWbTP",
        "outputId": "07a21fb6-41b3-4d3c-8d17-2d4c088027ad"
      },
      "execution_count": 9,
      "outputs": [
        {
          "output_type": "stream",
          "name": "stdout",
          "text": [
            "name: python\n",
            "age: 25\n",
            "city: New York\n"
          ]
        }
      ]
    },
    {
      "cell_type": "markdown",
      "source": [
        "\n",
        "          Aspect\t           Parameters\t                            Arguments\n",
        "   \n",
        "         Definition\t     1.Placeholders in function definition.\t 1.Actual\n",
        "                                                                   values\n",
        "                                                                  passed during a call.\n",
        "         Location        2.Declared in the function signature.\t 2.Provided when calling the function.\n",
        "         \n",
        "         Example\t       def greet(name):\t                         greet(\"Alice\")"
      ],
      "metadata": {
        "id": "gB7hhSRCXGgv"
      }
    },
    {
      "cell_type": "markdown",
      "source": [
        "\n",
        "***3.\tWhat are the different ways to define and call a function in Python? ***\n",
        "\n",
        "\n",
        "In Python, defining and calling functions can be done in multiple ways depending on the type of function and its purpose. Below is a detailed explanation:\n",
        "\n",
        "Defining a Function\n",
        "A function is defined using the def keyword, followed by the function name, parentheses (with optional parameters), and a colon. The function body is indented below.\n",
        "\n",
        "Syntax:\n",
        "\n",
        "\n",
        "\n",
        "#def function_name(parameters):\n",
        "    # Function body\n",
        "    return result  # Optional\n",
        "\n",
        "\n",
        "\n"
      ],
      "metadata": {
        "id": "-0EkYfVwXcEe"
      }
    },
    {
      "cell_type": "markdown",
      "source": [
        "Ways to Define Functions\n",
        "1. Regular Functions\n",
        "Most common way to define a reusable block of code."
      ],
      "metadata": {
        "id": "v4l-ozPBa7rK"
      }
    },
    {
      "cell_type": "code",
      "source": [
        "def greet(name):\n",
        "    return f\"Hello, {name}!\"\n"
      ],
      "metadata": {
        "id": "V9uV8VAMa9cI"
      },
      "execution_count": null,
      "outputs": []
    },
    {
      "cell_type": "markdown",
      "source": [
        "2. Functions with Default Parameters\n",
        "Provides default values for parameters if arguments are not supplied.\n"
      ],
      "metadata": {
        "id": "VvzoP7cybGf6"
      }
    },
    {
      "cell_type": "code",
      "source": [
        "def greet(name=\"Guest\"):\n",
        "    return f\"Hello, {name}!\"\n"
      ],
      "metadata": {
        "id": "H2nadSrMbIxj"
      },
      "execution_count": 10,
      "outputs": []
    },
    {
      "cell_type": "markdown",
      "source": [
        "3. Lambda (Anonymous) Functions\n",
        "A compact way to define a single-line function.\n",
        "Syntax: lambda arguments: expression"
      ],
      "metadata": {
        "id": "pZVJd1HtbXa6"
      }
    },
    {
      "cell_type": "code",
      "source": [
        "square = lambda x: x * x\n",
        "print(square(5))"
      ],
      "metadata": {
        "colab": {
          "base_uri": "https://localhost:8080/"
        },
        "id": "WnVoHP5vbaC3",
        "outputId": "94e39091-6f00-4371-8155-3207677ad21e"
      },
      "execution_count": 11,
      "outputs": [
        {
          "output_type": "stream",
          "name": "stdout",
          "text": [
            "25\n"
          ]
        }
      ]
    },
    {
      "cell_type": "markdown",
      "source": [
        "4. Nested Functions\n",
        "Functions defined within another function.\n"
      ],
      "metadata": {
        "id": "ZKyLLiiqbh1k"
      }
    },
    {
      "cell_type": "code",
      "source": [
        "def outer_function(x):\n",
        "    def inner_function(y):\n",
        "        return x + y\n",
        "    return inner_function\n",
        "\n",
        "add_to_five = outer_function(5)\n",
        "print(add_to_five(3))"
      ],
      "metadata": {
        "id": "F1cZUO51bjHl"
      },
      "execution_count": null,
      "outputs": []
    },
    {
      "cell_type": "markdown",
      "source": [
        "5. Recursive Functions\n",
        "\n",
        "A function that calls itself."
      ],
      "metadata": {
        "id": "ySZ_YVb5bwHp"
      }
    },
    {
      "cell_type": "code",
      "source": [
        "def factorial(n):\n",
        "    if n == 0:\n",
        "        return 1\n",
        "    return n * factorial(n - 1)\n",
        "\n",
        "print(factorial(5))\n"
      ],
      "metadata": {
        "colab": {
          "base_uri": "https://localhost:8080/"
        },
        "id": "gEv2Lqaqb4zt",
        "outputId": "143d3d31-3c27-4532-b14f-cec908fea3d9"
      },
      "execution_count": 12,
      "outputs": [
        {
          "output_type": "stream",
          "name": "stdout",
          "text": [
            "120\n"
          ]
        }
      ]
    },
    {
      "cell_type": "markdown",
      "source": [
        "6. Class Methods\n",
        "\n",
        "Functions defined within a class, accessed using an instance or the class itself."
      ],
      "metadata": {
        "id": "3wC3E-0_cHek"
      }
    },
    {
      "cell_type": "code",
      "source": [
        "class Calculator:\n",
        "    def add(self, a, b):\n",
        "        return a + b\n",
        "\n",
        "calc = Calculator()\n",
        "print(calc.add(3, 4))\n"
      ],
      "metadata": {
        "colab": {
          "base_uri": "https://localhost:8080/"
        },
        "id": "ofEW0l4XcKJe",
        "outputId": "76121114-aa93-4c14-e659-809a230c09fc"
      },
      "execution_count": 13,
      "outputs": [
        {
          "output_type": "stream",
          "name": "stdout",
          "text": [
            "7\n"
          ]
        }
      ]
    },
    {
      "cell_type": "markdown",
      "source": [
        "7. Static and Class Methods\n",
        "\n",
        "Use staticmethod or classmethod decorators to define methods that do not depend on instance attributes."
      ],
      "metadata": {
        "id": "Tm8JowThcRtE"
      }
    },
    {
      "cell_type": "code",
      "source": [
        "class Utility:\n",
        "                         ##static method\n",
        "    def multiply(a, b):\n",
        "        return a * b\n",
        "\n",
        "print(Utility.multiply(3, 4))\n"
      ],
      "metadata": {
        "id": "oePMEsLicVki"
      },
      "execution_count": null,
      "outputs": []
    },
    {
      "cell_type": "markdown",
      "source": [
        "Ways to Call a Function\n",
        "1. Regular Function Calls\n",
        "\n",
        "Call by passing arguments directly."
      ],
      "metadata": {
        "id": "oSSnl2Zqcrsn"
      }
    },
    {
      "cell_type": "code",
      "source": [
        "def greet(name):\n",
        "    return f\"Hello, {name}!\"\n",
        "\n",
        "print(greet(\"world\"))\n"
      ],
      "metadata": {
        "colab": {
          "base_uri": "https://localhost:8080/"
        },
        "id": "Up9Ej8kacwfq",
        "outputId": "226c3841-0046-4753-b9fa-2fe503878f99"
      },
      "execution_count": 14,
      "outputs": [
        {
          "output_type": "stream",
          "name": "stdout",
          "text": [
            "Hello, world!\n"
          ]
        }
      ]
    },
    {
      "cell_type": "markdown",
      "source": [
        "2. Keyword Arguments\n",
        "\n",
        "Use parameter names when calling the function.\n"
      ],
      "metadata": {
        "id": "PkDu0q-rdJlT"
      }
    },
    {
      "cell_type": "code",
      "source": [
        "def greet(name, message):\n",
        "    return f\"{message}, {name}!\"\n",
        "\n",
        "print(greet(name=\"satyajit\", message=\"Good morning\"))"
      ],
      "metadata": {
        "colab": {
          "base_uri": "https://localhost:8080/"
        },
        "id": "esuqlIcYdNgd",
        "outputId": "5bf91e15-dbbe-4cce-8756-8e5729c942e8"
      },
      "execution_count": 15,
      "outputs": [
        {
          "output_type": "stream",
          "name": "stdout",
          "text": [
            "Good morning, satyajit!\n"
          ]
        }
      ]
    },
    {
      "cell_type": "markdown",
      "source": [
        "3. Positional Arguments\n",
        "\n",
        "Pass arguments in the order of parameters."
      ],
      "metadata": {
        "id": "yrdwc-9OdiEt"
      }
    },
    {
      "cell_type": "code",
      "source": [
        "def add(a, b):\n",
        "    return a + b\n",
        "\n",
        "print(add(3, 4))\n"
      ],
      "metadata": {
        "colab": {
          "base_uri": "https://localhost:8080/"
        },
        "id": "CauvyAzkdtW_",
        "outputId": "0924deda-1fd3-4c53-f25b-aba317f0002f"
      },
      "execution_count": 16,
      "outputs": [
        {
          "output_type": "stream",
          "name": "stdout",
          "text": [
            "7\n"
          ]
        }
      ]
    },
    {
      "cell_type": "markdown",
      "source": [
        "4.Using Default Values\n",
        "\n",
        "Call without providing arguments for parameters with default values."
      ],
      "metadata": {
        "id": "HNKQRv8beDq4"
      }
    },
    {
      "cell_type": "code",
      "source": [
        "def greet(name=\"Guest\"):\n",
        "    return f\"Hello, {name}!\"\n",
        "\n",
        "print(greet())\n"
      ],
      "metadata": {
        "colab": {
          "base_uri": "https://localhost:8080/"
        },
        "id": "cQ6PlGwteOAW",
        "outputId": "b153f463-d648-4e1b-fd69-9b00b6eadfe9"
      },
      "execution_count": 17,
      "outputs": [
        {
          "output_type": "stream",
          "name": "stdout",
          "text": [
            "Hello, Guest!\n"
          ]
        }
      ]
    },
    {
      "cell_type": "markdown",
      "source": [
        "5. Variable-Length Arguments\n",
        "Pass an arbitrary number of arguments using *args or **kwargs."
      ],
      "metadata": {
        "id": "SUsIwjTEeZ3_"
      }
    },
    {
      "cell_type": "code",
      "source": [
        "def add_all(*args):\n",
        "    return sum(args)\n",
        "\n",
        "print(add_all(1, 2, 3, 4))\n"
      ],
      "metadata": {
        "colab": {
          "base_uri": "https://localhost:8080/"
        },
        "id": "OVuWnCIqebNo",
        "outputId": "ddbe6b99-bdf8-4dcc-f886-461260647f61"
      },
      "execution_count": 18,
      "outputs": [
        {
          "output_type": "stream",
          "name": "stdout",
          "text": [
            "10\n"
          ]
        }
      ]
    },
    {
      "cell_type": "markdown",
      "source": [
        "6. Calling a Lambda Function\n",
        "\n",
        "Call the lambda function using its reference."
      ],
      "metadata": {
        "id": "lAkUErINe5JP"
      }
    },
    {
      "cell_type": "code",
      "source": [
        "square = lambda x: x * x\n",
        "print(square(4))\n"
      ],
      "metadata": {
        "id": "MycLnStye9b8"
      },
      "execution_count": null,
      "outputs": []
    },
    {
      "cell_type": "markdown",
      "source": [
        "7. Calling Methods\n",
        "\n",
        "Use dot notation to call methods on an object or class."
      ],
      "metadata": {
        "id": "V3dwPD2ofEMT"
      }
    },
    {
      "cell_type": "code",
      "source": [
        "class Greeter:\n",
        "    def greet(self, name):\n",
        "        return f\"Hello, {name}!\"\n",
        "\n",
        "g = Greeter()\n",
        "print(g.greet(\"world\"))\n"
      ],
      "metadata": {
        "colab": {
          "base_uri": "https://localhost:8080/"
        },
        "id": "hDaE2M8JfGkA",
        "outputId": "e3e9076a-3caf-4e3e-e072-7c76a6e23e51"
      },
      "execution_count": 19,
      "outputs": [
        {
          "output_type": "stream",
          "name": "stdout",
          "text": [
            "Hello, world!\n"
          ]
        }
      ]
    },
    {
      "cell_type": "markdown",
      "source": [
        "8. Recursive Calls\n",
        "\n",
        "A function can call itself until a base condition is met."
      ],
      "metadata": {
        "id": "RyDzXGNTfSuV"
      }
    },
    {
      "cell_type": "code",
      "source": [
        "def countdown(n):\n",
        "    if n == 0:\n",
        "        print(\"Liftoff!\")\n",
        "    else:\n",
        "        print(n)\n",
        "        countdown(n - 1)\n",
        "\n",
        "countdown(5)\n"
      ],
      "metadata": {
        "colab": {
          "base_uri": "https://localhost:8080/"
        },
        "id": "yn3uPRtgfU5-",
        "outputId": "c72425be-6a7d-405d-f6cb-f6c56fa9aef9"
      },
      "execution_count": 20,
      "outputs": [
        {
          "output_type": "stream",
          "name": "stdout",
          "text": [
            "5\n",
            "4\n",
            "3\n",
            "2\n",
            "1\n",
            "Liftoff!\n"
          ]
        }
      ]
    },
    {
      "cell_type": "markdown",
      "source": [
        "***4.\tWhat is the purpose of the”return” statement in a Python function?***"
      ],
      "metadata": {
        "id": "IEXUFe4bvtNd"
      }
    },
    {
      "cell_type": "markdown",
      "source": [
        "The return statement in Python serves as the mechanism by which a function sends its output back to the caller. It allows a function to compute a value (or values) and provide it for further use. Here's a detailed explanation of its purpose:\n",
        "\n",
        "\n",
        "Purpose of the return Statement\n",
        "\n",
        "Return a Result to the Caller\n",
        "\n",
        "The primary purpose of the return statement is to pass the output of a function back to the part of the program where the function was called."
      ],
      "metadata": {
        "id": "qlzlUtbvvxU6"
      }
    },
    {
      "cell_type": "code",
      "source": [
        "def add(a, b):\n",
        "    return a + b\n",
        "\n",
        "result = add(3, 5)\n",
        "print(result)\n"
      ],
      "metadata": {
        "colab": {
          "base_uri": "https://localhost:8080/"
        },
        "id": "bgTNDFe4v6NR",
        "outputId": "788ad478-bbe1-4481-b4df-3427bd45757e"
      },
      "execution_count": 21,
      "outputs": [
        {
          "output_type": "stream",
          "name": "stdout",
          "text": [
            "8\n"
          ]
        }
      ]
    },
    {
      "cell_type": "markdown",
      "source": [
        "End the Function Execution\n",
        "\n",
        "When a return statement is encountered, the function stops executing and immediately exits.\n"
      ],
      "metadata": {
        "id": "aFlzMkiU0tw_"
      }
    },
    {
      "cell_type": "code",
      "source": [
        "def check_even_odd(num):\n",
        "    if num % 2 == 0:\n",
        "        return \"Even\"\n",
        "    return \"Odd\"\n",
        "\n",
        "print(check_even_odd(4))\n",
        "print(check_even_odd(5))\n"
      ],
      "metadata": {
        "colab": {
          "base_uri": "https://localhost:8080/"
        },
        "id": "LVtG856g0vGE",
        "outputId": "358467cb-6351-435e-c7dd-443aa42b82f9"
      },
      "execution_count": 22,
      "outputs": [
        {
          "output_type": "stream",
          "name": "stdout",
          "text": [
            "Even\n",
            "Odd\n"
          ]
        }
      ]
    },
    {
      "cell_type": "markdown",
      "source": [
        "Return Multiple Values\n",
        "\n",
        "Python allows a function to return multiple values as a tuple.\n"
      ],
      "metadata": {
        "id": "NplJdgl103S2"
      }
    },
    {
      "cell_type": "code",
      "source": [
        "def calculate(a, b):\n",
        "    return a + b, a - b\n",
        "\n",
        "result = calculate(10, 5)\n",
        "print(result)\n"
      ],
      "metadata": {
        "colab": {
          "base_uri": "https://localhost:8080/"
        },
        "id": "opkLZ6-W075R",
        "outputId": "a659bfab-c47a-4b03-b151-beb2952ab035"
      },
      "execution_count": 23,
      "outputs": [
        {
          "output_type": "stream",
          "name": "stdout",
          "text": [
            "(15, 5)\n"
          ]
        }
      ]
    },
    {
      "cell_type": "markdown",
      "source": [
        "Return a Default Value\n",
        "\n",
        "If a function does not explicitly return a value, it implicitly returns None."
      ],
      "metadata": {
        "id": "-hsQdOq61JN_"
      }
    },
    {
      "cell_type": "code",
      "source": [
        "def greet(name):\n",
        "    print(f\"Hello, {name}!\")\n",
        "\n",
        "result = greet(\"rahul\")\n",
        "print(result)\n"
      ],
      "metadata": {
        "colab": {
          "base_uri": "https://localhost:8080/"
        },
        "id": "Lf61n3FT1Knz",
        "outputId": "e9e85e94-229c-4088-99e7-a3cd4fa4faa8"
      },
      "execution_count": 24,
      "outputs": [
        {
          "output_type": "stream",
          "name": "stdout",
          "text": [
            "Hello, rahul!\n",
            "None\n"
          ]
        }
      ]
    },
    {
      "cell_type": "markdown",
      "source": [
        "Enable Reusability of Computation\n",
        "\n",
        "By returning a value, the result can be reused in other parts of the program.\n"
      ],
      "metadata": {
        "id": "wQUoV-ZQ1dyT"
      }
    },
    {
      "cell_type": "code",
      "source": [
        "def square(x):\n",
        "    return x * x\n",
        "\n",
        "print(square(4) + square(3))\n"
      ],
      "metadata": {
        "colab": {
          "base_uri": "https://localhost:8080/"
        },
        "id": "n2PkiIhl1e37",
        "outputId": "edcd62a2-441c-4eda-e409-6e8b03706194"
      },
      "execution_count": 25,
      "outputs": [
        {
          "output_type": "stream",
          "name": "stdout",
          "text": [
            "25\n"
          ]
        }
      ]
    },
    {
      "cell_type": "markdown",
      "source": [
        "Key Notes about return\n",
        "\n",
        "Optional Use: Functions without a return statement perform actions but do not send data back (implicitly return None).\n",
        "\n",
        "Returning Early: You can use return to exit a function prematurely based on conditions."
      ],
      "metadata": {
        "id": "yaeuPx-q1psP"
      }
    },
    {
      "cell_type": "code",
      "source": [
        "def find_first_even(numbers):\n",
        "    for num in numbers:\n",
        "        if num % 2 == 0:\n",
        "            return num\n",
        "    return \"No even numbers found\"\n",
        "\n",
        "print(find_first_even([1, 3, 5, 8, 9]))\n"
      ],
      "metadata": {
        "colab": {
          "base_uri": "https://localhost:8080/"
        },
        "id": "COp5hJnd1vyj",
        "outputId": "66857c88-ccee-4626-d815-9ba4858c5e9a"
      },
      "execution_count": 26,
      "outputs": [
        {
          "output_type": "stream",
          "name": "stdout",
          "text": [
            "8\n"
          ]
        }
      ]
    },
    {
      "cell_type": "markdown",
      "source": [
        "Return Type: The value returned can be of any type—numbers, strings, lists, objects, or even another function.\n",
        "\n",
        "\n",
        "\n",
        "\n",
        "\n",
        "\n",
        "When Not to Use return\n",
        "\n",
        "If the function is intended solely to perform an action (like printing or modifying an object), you may not need a return statement."
      ],
      "metadata": {
        "id": "JLv5SsvS13-D"
      }
    },
    {
      "cell_type": "code",
      "source": [
        "def print_greeting(name):\n",
        "    print(f\"Hello, {name}!\")\n",
        "\n",
        "print_greeting(\"ankita\")\n"
      ],
      "metadata": {
        "colab": {
          "base_uri": "https://localhost:8080/"
        },
        "id": "mI1KAhf41_21",
        "outputId": "af0cc50d-f66c-4f7d-f448-2f6e3b44e9f5"
      },
      "execution_count": 27,
      "outputs": [
        {
          "output_type": "stream",
          "name": "stdout",
          "text": [
            "Hello, ankita!\n"
          ]
        }
      ]
    },
    {
      "cell_type": "markdown",
      "source": [
        "***5.What are iterators in Python and how do they differ from iterables?***"
      ],
      "metadata": {
        "id": "NjCVDPUS296c"
      }
    },
    {
      "cell_type": "markdown",
      "source": [
        "In Python, iterators and iterables are closely related concepts used for looping over data structures. However, they serve different roles. Here's a detailed explanation of both and how they differ:\n",
        "\n",
        "\n",
        "1. What are Iterables?\n",
        "\n",
        "An iterable is any Python object that can be looped over (iterated through) using a for loop or passed to functions like iter().\n",
        "\n",
        "\n",
        "It implements the __iter__() method, which returns an iterator.\n",
        "Examples of iterables:\n",
        "\n",
        "\n",
        "Built-in data structures: lists, tuples, strings, dictionaries, sets.\n",
        "Custom objects that define an __iter__() method.\n"
      ],
      "metadata": {
        "id": "lg5dnP5a3G0o"
      }
    },
    {
      "cell_type": "code",
      "source": [
        "my_list = [1, 2, 3]\n",
        "for item in my_list:\n",
        "    print(item)\n",
        "    #Key characteristic: You can call iter() on an iterable to create an iterator.\n"
      ],
      "metadata": {
        "colab": {
          "base_uri": "https://localhost:8080/"
        },
        "id": "e0i8yg4o3onP",
        "outputId": "24e2ad77-205f-4948-84d0-ad685ba401cb"
      },
      "execution_count": 28,
      "outputs": [
        {
          "output_type": "stream",
          "name": "stdout",
          "text": [
            "1\n",
            "2\n",
            "3\n"
          ]
        }
      ]
    },
    {
      "cell_type": "markdown",
      "source": [
        "2. What are Iterators?\n",
        "\n",
        "\n",
        "An iterator is a special type of object that represents a stream of data.\n",
        "It implements two methods:\n",
        "\n",
        "__iter__(): Returns the iterator object itself (to make it iterable).\n",
        "\n",
        "__next__(): Returns the next element in the sequence. If there are no more elements, it raises a StopIteration exception."
      ],
      "metadata": {
        "id": "eZr7ljLv34f_"
      }
    },
    {
      "cell_type": "code",
      "source": [
        "my_list = [1, 2, 3]\n",
        "iterator = iter(my_list)  # Create an iterator\n",
        "\n",
        "print(next(iterator))\n",
        "print(next(iterator))\n",
        "print(next(iterator))\n",
        "# next(iterator)  # Raises StopIteration\n"
      ],
      "metadata": {
        "colab": {
          "base_uri": "https://localhost:8080/"
        },
        "id": "OuiFXEEX4c-X",
        "outputId": "9b623165-9c5e-4000-8ad0-fa998c897e94"
      },
      "execution_count": 29,
      "outputs": [
        {
          "output_type": "stream",
          "name": "stdout",
          "text": [
            "1\n",
            "2\n",
            "3\n"
          ]
        }
      ]
    },
    {
      "cell_type": "markdown",
      "source": [
        "Key Differences Between Iterables and Iterators\n",
        "\n",
        "\n",
        "    Aspect\t     Iterable\t                                 Iterator\n",
        "\n",
        "    Definition\t An object that can be iterated over.\t  An object that produces items one at a time.\n",
        "\n",
        "    Methods\t    Implements __iter__().\t                Implements both __iter__() and __next__().\n",
        "\n",
        "    Usage\t      Used to create an iterator using iter().  Used to fetch elements one at a time using next().\n",
        "\n",
        "    Memory\t   Does not keep track of iteration state.\tKeeps track of where it is in the iteration.\n",
        "    \n",
        "    Examples\tLists, tuples, strings, dictionaries, sets.\tObjects returned by iter() or custom iterators."
      ],
      "metadata": {
        "id": "El67FGj842Lj"
      }
    },
    {
      "cell_type": "markdown",
      "source": [
        "Relationship Between Iterables and Iterators\n",
        "\n",
        "All iterators are iterables, but not all iterables are iterators.\n",
        "When iter() is called on an iterable, it creates and returns an iterator.\n",
        "An iterator object can only be used once, whereas an iterable can create a new iterator each time.\n",
        "\n",
        "\n",
        "   3. Creating Custom Iterators\n",
        "\n",
        "You can create a custom iterator by defining a class that implements both __iter__() and __next__()."
      ],
      "metadata": {
        "id": "x39NbTaf5uJ5"
      }
    },
    {
      "cell_type": "code",
      "source": [
        "class Counter:\n",
        "    def __init__(self, start, end):\n",
        "        self.current = start\n",
        "        self.end = end\n",
        "\n",
        "    def __iter__(self):\n",
        "        return self  # The iterator object itself\n",
        "\n",
        "    def __next__(self):\n",
        "        if self.current > self.end:\n",
        "            raise StopIteration  # End of iteration\n",
        "        value = self.current\n",
        "        self.current += 1\n",
        "        return value\n",
        "\n",
        "counter = Counter(1, 5)\n",
        "for num in counter:\n",
        "    print(num)\n"
      ],
      "metadata": {
        "colab": {
          "base_uri": "https://localhost:8080/"
        },
        "id": "0IYcwQZu6Bvb",
        "outputId": "f89242de-29da-4d4f-8934-c856121b07ac"
      },
      "execution_count": 30,
      "outputs": [
        {
          "output_type": "stream",
          "name": "stdout",
          "text": [
            "1\n",
            "2\n",
            "3\n",
            "4\n",
            "5\n"
          ]
        }
      ]
    },
    {
      "cell_type": "markdown",
      "source": [
        "4. Use Iterators?\n",
        "\n",
        "1.Memory Efficiency: Iterators produce items one at a time, making them ideal for working with large datasets or streams.\n",
        "\n",
        "2.Lazy Evaluation: They do not compute all elements at once, saving memory.\n",
        "\n",
        "3.Custom Iteration Logic: You can define how an object is iterated."
      ],
      "metadata": {
        "id": "FR6iFSG06Oc2"
      }
    },
    {
      "cell_type": "code",
      "source": [
        "def generate_numbers():\n",
        "    for i in range(3):\n",
        "        yield i\n",
        "\n",
        "gen = generate_numbers()\n",
        "print(next(gen))\n",
        "print(next(gen))\n"
      ],
      "metadata": {
        "colab": {
          "base_uri": "https://localhost:8080/"
        },
        "id": "I8omVozD6fxQ",
        "outputId": "c94ebc6d-e320-4bf4-aaaf-78c34a57e755"
      },
      "execution_count": 31,
      "outputs": [
        {
          "output_type": "stream",
          "name": "stdout",
          "text": [
            "0\n",
            "1\n"
          ]
        }
      ]
    },
    {
      "cell_type": "markdown",
      "source": [
        "***6.. Explain the concept of generators in Python and how they ore defined.***"
      ],
      "metadata": {
        "id": "Mx-v6J4f7434"
      }
    },
    {
      "cell_type": "markdown",
      "source": [
        "\n",
        "In Python, generators are a special type of iterable that allow you to produce values one at a time, rather than generating all the values at once. They are useful for creating efficient, memory-saving iterators when dealing with large datasets or streams of data.\n",
        "\n",
        "Key Features of Generators\n",
        "\n",
        "1.Lazy Evaluation: Generators compute values on demand, which makes them memory-efficient as they do not store the entire sequence in memory.\n",
        "\n",
        "2.State Persistence: Generators remember their state between calls, allowing them to resume where they left off.\n",
        "\n",
        "3.Iterable: Generators are a type of iterable and can be used in loops and functions like next().\n",
        "\n",
        "1. Generator Functions\n",
        "\n",
        "Defined like a regular function using the def keyword.\n",
        "Use the yield statement instead of return to produce a value.\n",
        "The yield statement pauses the function and allows it to resume from where it left off when called again.\n"
      ],
      "metadata": {
        "id": "HvbsjI7x785G"
      }
    },
    {
      "cell_type": "code",
      "source": [
        "def generate_numbers():\n",
        "    for i in range(5):\n",
        "        yield i\n",
        "\n",
        "gen = generate_numbers()\n",
        "\n",
        "print(next(gen))\n",
        "print(next(gen))\n"
      ],
      "metadata": {
        "colab": {
          "base_uri": "https://localhost:8080/"
        },
        "id": "SgY_37bj8gba",
        "outputId": "84208031-2b5c-46af-d5f8-6ea9604fd201"
      },
      "execution_count": 32,
      "outputs": [
        {
          "output_type": "stream",
          "name": "stdout",
          "text": [
            "0\n",
            "1\n"
          ]
        }
      ]
    },
    {
      "cell_type": "markdown",
      "source": [
        "2. Generator Expressions\n",
        "\n",
        "A concise way to create a generator similar to list comprehensions but with parentheses instead of square brackets.\n",
        "Syntax: (expression for item in iterable if condition)"
      ],
      "metadata": {
        "id": "E80ZpWQn8teb"
      }
    },
    {
      "cell_type": "code",
      "source": [
        "gen_exp = (x * x for x in range(5))  # Creates a generator object\n",
        "\n",
        "\n",
        "for num in gen_exp:\n",
        "    print(num)"
      ],
      "metadata": {
        "colab": {
          "base_uri": "https://localhost:8080/"
        },
        "id": "7IF4rTET9HD5",
        "outputId": "b1a24f72-7871-499d-d441-03babc2cf40a"
      },
      "execution_count": 33,
      "outputs": [
        {
          "output_type": "stream",
          "name": "stdout",
          "text": [
            "0\n",
            "1\n",
            "4\n",
            "9\n",
            "16\n"
          ]
        }
      ]
    },
    {
      "cell_type": "markdown",
      "source": [
        "Key Differences Between Generators and Functions\n",
        "    \n",
        "     Aspect\t             Functions\t                            Generators\n",
        "\n",
        "    Return Mechanism\t  Use return to return a value and exit.\tUse yield to produce values lazily.\n",
        "\n",
        "    Execution\t         Executes fully when called.\t           Pauses execution at yield and resumes later.\n",
        "\n",
        "    Memory Usage\t    Stores all data in memory (if needed).\tGenerates values one at a time, saving memory.\n",
        "\n",
        "     Result\t         Returns a single value or collection.\t  Returns a generator object.\n",
        "\n",
        "\n",
        "\n",
        "\n",
        "Advantages of Generators\n",
        "Memory Efficiency:\n",
        "\n",
        "\n",
        "Generators do not store all values in memory. Instead, they generate values on demand.\n",
        "Useful when working with large datasets or infinite sequences.\n",
        "\n",
        "Performance:\n",
        "\n",
        "Because values are produced on demand, generators are faster in scenarios where not all values are needed immediately.\n",
        "\n",
        "\n",
        "Simplified Code:\n",
        "\n",
        "Generators provide an elegant way to implement custom iteration logic without explicitly managing the state."
      ],
      "metadata": {
        "id": "5g-dDJDC9Udq"
      }
    },
    {
      "cell_type": "code",
      "source": [
        "# Infinite Sequence Generator\n",
        "def infinite_numbers():\n",
        "    n = 0\n",
        "    while True:\n",
        "        yield n\n",
        "        n += 1\n",
        "\n",
        "gen = infinite_numbers()\n",
        "print(next(gen))\n",
        "print(next(gen))\n"
      ],
      "metadata": {
        "colab": {
          "base_uri": "https://localhost:8080/"
        },
        "id": "-mj9QGh3-WLB",
        "outputId": "1218d2b3-b397-46c3-b5f4-dba4ace5cabb"
      },
      "execution_count": 34,
      "outputs": [
        {
          "output_type": "stream",
          "name": "stdout",
          "text": [
            "0\n",
            "1\n"
          ]
        }
      ]
    },
    {
      "cell_type": "code",
      "source": [
        "#Fibonacci Sequence Generator\n",
        "def fibonacci(n):\n",
        "    a, b = 0, 1\n",
        "    for _ in range(n):\n",
        "        yield a\n",
        "        a, b = b, a + b\n",
        "\n",
        "for num in fibonacci(10):\n",
        "    print(num)"
      ],
      "metadata": {
        "colab": {
          "base_uri": "https://localhost:8080/"
        },
        "id": "tXtGQAPz-jlY",
        "outputId": "068e8a79-ad57-441f-e73b-1ceded1ba57c"
      },
      "execution_count": 35,
      "outputs": [
        {
          "output_type": "stream",
          "name": "stdout",
          "text": [
            "0\n",
            "1\n",
            "1\n",
            "2\n",
            "3\n",
            "5\n",
            "8\n",
            "13\n",
            "21\n",
            "34\n"
          ]
        }
      ]
    },
    {
      "cell_type": "markdown",
      "source": [
        "Use Generators\n",
        "\n",
        "When working with large data that cannot fit into memory.\n",
        "For lazy evaluation where values are needed one at a time.\n",
        "To create infinite or large sequences without performance bottlenecks."
      ],
      "metadata": {
        "id": "5wff3kK4_GEU"
      }
    },
    {
      "cell_type": "markdown",
      "source": [
        "***7.What are the advantages of using generators over regular function?***"
      ],
      "metadata": {
        "id": "EI1RKoB4_INE"
      }
    },
    {
      "cell_type": "markdown",
      "source": [
        "Using generators in Python offers several advantages over regular functions, especially in scenarios where memory efficiency and lazy evaluation are critical. Below are the key benefits:\n",
        "\n",
        "1. Memory Efficiency\n",
        "\n",
        "Regular functions: When returning a list, tuple, or any data structure, the entire sequence must be stored in memory, which can be costly for large datasets.\n",
        "Generators: Produce values one at a time on demand without holding the entire sequence in memory, making them memory-efficient."
      ],
      "metadata": {
        "id": "6CuPcETMA1CX"
      }
    },
    {
      "cell_type": "code",
      "source": [
        "# Regular function that generates a list\n",
        "def create_list(n):\n",
        "    return [i for i in range(n)]\n",
        "\n",
        "# Generator function that yields values\n",
        "def create_generator(n):\n",
        "    for i in range(n):\n",
        "        yield i\n",
        "\n",
        "large_list = create_list(10**6)\n",
        "large_gen = create_generator(10**6)"
      ],
      "metadata": {
        "id": "RdLttWlYA6nP"
      },
      "execution_count": 39,
      "outputs": []
    },
    {
      "cell_type": "markdown",
      "source": [
        "2. Lazy Evaluation\n",
        "\n",
        "Regular functions: Evaluate and return all results at once, regardless of whether all are needed.\n",
        "Generators: Compute and yield values only when needed, which can improve performance in cases where not all values are required."
      ],
      "metadata": {
        "id": "YX0G5c9BBFra"
      }
    },
    {
      "cell_type": "code",
      "source": [
        "# Generator to compute square of numbers\n",
        "def square_numbers(n):\n",
        "    for i in range(n):\n",
        "        yield i * i\n",
        "\n",
        "# Using the generator\n",
        "gen = square_numbers(5)\n",
        "print(next(gen))\n",
        "print(next(gen))\n"
      ],
      "metadata": {
        "colab": {
          "base_uri": "https://localhost:8080/"
        },
        "id": "FIKNeIyuBIEO",
        "outputId": "8c5d5ea8-95f3-40d2-d7b6-b59fce93bccf"
      },
      "execution_count": 40,
      "outputs": [
        {
          "output_type": "stream",
          "name": "stdout",
          "text": [
            "0\n",
            "1\n"
          ]
        }
      ]
    },
    {
      "cell_type": "markdown",
      "source": [
        "3. Improved Performance for Iteration\n",
        "\n",
        "Generators are optimized for iterating over data because they avoid creating intermediate data structures. This makes them faster and more efficient for tasks like reading files, processing streams, or iterating through large datasets.\n",
        "\n",
        "\n",
        "4. Infinite Sequences\n",
        "\n",
        "Generators can represent infinite sequences (e.g., Fibonacci numbers, prime numbers) without consuming infinite memory.\n",
        "Regular functions cannot handle infinite sequences because they must return a finite, precomputed result."
      ],
      "metadata": {
        "id": "v-pF-kuJBOw1"
      }
    },
    {
      "cell_type": "code",
      "source": [
        "def infinite_numbers():\n",
        "    n = 0\n",
        "    while True:\n",
        "        yield n\n",
        "        n += 1\n",
        "\n",
        "gen = infinite_numbers()\n",
        "print(next(gen))\n",
        "print(next(gen))\n"
      ],
      "metadata": {
        "colab": {
          "base_uri": "https://localhost:8080/"
        },
        "id": "Wy4eyFFOBptF",
        "outputId": "ce519bff-b8f3-45a8-fafb-b402f7e82453"
      },
      "execution_count": 42,
      "outputs": [
        {
          "output_type": "stream",
          "name": "stdout",
          "text": [
            "0\n",
            "1\n"
          ]
        }
      ]
    },
    {
      "cell_type": "markdown",
      "source": [
        "5. Simplified Code for Iteration\n",
        "\n",
        "Generators eliminate the need for complex state-tracking code often required in regular functions.\n",
        "This leads to cleaner, more readable, and maintainable code."
      ],
      "metadata": {
        "id": "S-efValgBxY6"
      }
    },
    {
      "cell_type": "code",
      "source": [
        "# Regular function to return even numbers\n",
        "def get_evens(limit):\n",
        "    evens = []\n",
        "    for i in range(limit):\n",
        "        if i % 2 == 0:\n",
        "            evens.append(i)\n",
        "    return evens\n",
        "\n",
        "# Generator to yield even numbers\n",
        "def get_evens_gen(limit):\n",
        "    for i in range(limit):\n",
        "        if i % 2 == 0:\n",
        "            yield i\n",
        "\n",
        "# Simpler and more memory-efficient\n"
      ],
      "metadata": {
        "id": "YORRiJq9Bz0k"
      },
      "execution_count": 43,
      "outputs": []
    },
    {
      "cell_type": "markdown",
      "source": [
        "6. Enhanced Scalability\n",
        "Generators work well with very large data (e.g., streaming data, big files, or API responses) because they avoid loading all data into memory at once.\n",
        "They can scale efficiently to handle these scenarios without slowing down or crashing.\n",
        "\n",
        "7. Easy Implementation of Custom Iterators\n",
        "Generators simplify the implementation of custom iterators, as they automatically maintain state between yield calls without requiring manual handling of __iter__() and __next__() methods."
      ],
      "metadata": {
        "id": "IY-uYnQ1B8sN"
      }
    },
    {
      "cell_type": "code",
      "source": [
        "def countdown(n):\n",
        "    while n > 0:\n",
        "        yield n\n",
        "        n -= 1\n",
        "\n",
        "for number in countdown(5):\n",
        "    print(number)\n"
      ],
      "metadata": {
        "colab": {
          "base_uri": "https://localhost:8080/"
        },
        "id": "ZogfdORWCBkK",
        "outputId": "47c07c26-3b5f-443e-d84a-b03440a06214"
      },
      "execution_count": 44,
      "outputs": [
        {
          "output_type": "stream",
          "name": "stdout",
          "text": [
            "5\n",
            "4\n",
            "3\n",
            "2\n",
            "1\n"
          ]
        }
      ]
    },
    {
      "cell_type": "markdown",
      "source": [
        "8. Better Handling of Streams\n",
        "Generators are perfect for working with data streams, as they allow for real-time processing without requiring the entire data stream to be loaded into memory.\n",
        "\n",
        "\n",
        "    Aspect\t      Regular Functions\t                Generators\n",
        "\n",
        "    Memory Usage\tStores entire results in memory.\tProduces values one at a time (lazy).\n",
        "\n",
        "    Result\t      Returns a complete data structure.\tReturns a generator object.\n",
        "    \n",
        "    Execution\t    Computes all values at once.\t     Computes values as needed.\n",
        "\n",
        "    Iteration\t     Must store data to iterate over.\t  Maintains state automatically for iteration.\n",
        "\n",
        "    Performance\t   Slower for large datasets.\t        Faster and more scalable for large datasets.\n",
        "\n",
        "    Infinite Sequences\tCannot handle.\t               Handles effortlessly.\n",
        "\n",
        "    State Management\t  Requires manual state-tracking code.\t  State is maintained automatically.\n",
        "\n",
        "\n",
        "Use Generators\n",
        "\n",
        "When working with large datasets that cannot fit in memory.\n",
        "For real-time data processing or handling streams.\n",
        "When you need to implement custom iterators or lazy evaluation.\n",
        "When working with infinite sequences.\n",
        "To improve scalability and performance."
      ],
      "metadata": {
        "id": "RWK7638pCGd6"
      }
    },
    {
      "cell_type": "markdown",
      "source": [
        "***8.What is a lambda function in Python and whens it typically used?***"
      ],
      "metadata": {
        "id": "vmYMMvGvDEqK"
      }
    },
    {
      "cell_type": "markdown",
      "source": [
        "A lambda function in Python is a small, anonymous function defined using the lambda keyword. It is commonly used when you need a simple, one-line function for short-term use, without explicitly defining it using the def keyword. Lambda functions are also called anonymous functions because they are not bound to a name by default.\n",
        "\n",
        "    Syntax of Lambda Functions\n",
        "\n",
        "    The syntax for a lambda function is:\n",
        "\n",
        "\n",
        "    lambda arguments: expression\n",
        "\n",
        "arguments: The inputs to the function (can be zero, one, or more).\n",
        "\n",
        "expression: A single expression that is evaluated and returned (no return keyword is needed)."
      ],
      "metadata": {
        "id": "DGo6kvJ9DLkj"
      }
    },
    {
      "cell_type": "code",
      "source": [
        "# Regular function\n",
        "def add(x, y):\n",
        "    return x + y\n",
        "\n",
        "# Equivalent lambda function\n",
        "add_lambda = lambda x, y: x + y\n",
        "\n",
        "# Using the lambda function\n",
        "print(add_lambda(3, 5))\n"
      ],
      "metadata": {
        "colab": {
          "base_uri": "https://localhost:8080/"
        },
        "id": "S4hoLIWDDe8m",
        "outputId": "28c5c8b4-a36b-49ab-9191-94b667116e40"
      },
      "execution_count": 45,
      "outputs": [
        {
          "output_type": "stream",
          "name": "stdout",
          "text": [
            "8\n"
          ]
        }
      ]
    },
    {
      "cell_type": "markdown",
      "source": [
        "Characteristics of Lambda Functions\n",
        "\n",
        "Single Expression Only: Lambda functions are limited to a single expression. Complex logic requiring multiple statements cannot be implemented in lambda functions.\n",
        "\n",
        "Anonymous Nature: Lambda functions do not have a name unless explicitly assigned to a variable.\n",
        "\n",
        "Return Value: Lambda functions implicitly return the result of the expression (no return keyword is used)."
      ],
      "metadata": {
        "id": "f7c-b96nDpdU"
      }
    },
    {
      "cell_type": "markdown",
      "source": [
        "1. As an Argument to Higher-Order Functions\n",
        "Lambda functions are frequently used with higher-order functions like map(), filter(), and reduce()."
      ],
      "metadata": {
        "id": "eZWIEsMTDzDn"
      }
    },
    {
      "cell_type": "code",
      "source": [
        "numbers = [1, 2, 3, 4] #using map()\n",
        "squared = map(lambda x: x ** 2, numbers)\n",
        "print(list(squared))\n"
      ],
      "metadata": {
        "colab": {
          "base_uri": "https://localhost:8080/"
        },
        "id": "yL75CXJCD0Mj",
        "outputId": "c6303e8d-22b3-48ad-ac76-425cb03b1747"
      },
      "execution_count": 46,
      "outputs": [
        {
          "output_type": "stream",
          "name": "stdout",
          "text": [
            "[1, 4, 9, 16]\n"
          ]
        }
      ]
    },
    {
      "cell_type": "code",
      "source": [
        "numbers = [1, 2, 3, 4] #using filter()\n",
        "squared = map(lambda x: x ** 2, numbers)\n",
        "print(list(squared))\n",
        "\n",
        "\n"
      ],
      "metadata": {
        "colab": {
          "base_uri": "https://localhost:8080/"
        },
        "id": "si-HdwvZD9CS",
        "outputId": "6f65cc9c-e061-4ad0-f4c0-87f0d9c0fc7f"
      },
      "execution_count": 47,
      "outputs": [
        {
          "output_type": "stream",
          "name": "stdout",
          "text": [
            "[1, 4, 9, 16]\n"
          ]
        }
      ]
    },
    {
      "cell_type": "code",
      "source": [
        "from functools import reduce #Using reduce() (from functools)\n",
        "\n",
        "numbers = [1, 2, 3, 4]\n",
        "product = reduce(lambda x, y: x * y, numbers)\n",
        "print(product)  # Output: 24\n"
      ],
      "metadata": {
        "colab": {
          "base_uri": "https://localhost:8080/"
        },
        "id": "I_Oeq3oOENX_",
        "outputId": "81337b51-f846-4580-fc81-1812b7e00497"
      },
      "execution_count": 48,
      "outputs": [
        {
          "output_type": "stream",
          "name": "stdout",
          "text": [
            "24\n"
          ]
        }
      ]
    },
    {
      "cell_type": "markdown",
      "source": [
        "2. For Inline Operations\n",
        "\n",
        "Lambda functions are useful for quick, inline operations where defining a named function would be unnecessary."
      ],
      "metadata": {
        "id": "4c7H_WgJEcNC"
      }
    },
    {
      "cell_type": "code",
      "source": [
        "students = [(\"Al\", 85), (\"Boby\", 72), (\"Charu\", 90)]\n",
        "# Sort by score (second item in tuple)\n",
        "sorted_students = sorted(students, key=lambda x: x[1])\n",
        "print(sorted_students)\n"
      ],
      "metadata": {
        "colab": {
          "base_uri": "https://localhost:8080/"
        },
        "id": "6YS7IzXbEeCj",
        "outputId": "7532436e-c174-44b0-d89a-8a8ff0c65711"
      },
      "execution_count": 49,
      "outputs": [
        {
          "output_type": "stream",
          "name": "stdout",
          "text": [
            "[('Boby', 72), ('Al', 85), ('Charu', 90)]\n"
          ]
        }
      ]
    },
    {
      "cell_type": "markdown",
      "source": [
        "4. For Quick Mathematical Calculations\n",
        "\n",
        "Lambda functions can be used to create quick, simple mathematical functions."
      ],
      "metadata": {
        "id": "NhTHL1j3ErxV"
      }
    },
    {
      "cell_type": "code",
      "source": [
        "square = lambda x: x ** 2\n",
        "print(square(4))\n",
        "\n",
        "add = lambda x, y: x + y\n",
        "print(add(3, 5))"
      ],
      "metadata": {
        "colab": {
          "base_uri": "https://localhost:8080/"
        },
        "id": "73vDV0NLEyYL",
        "outputId": "cdacc41a-38b4-49af-a039-7fb4bb59f9c3"
      },
      "execution_count": 50,
      "outputs": [
        {
          "output_type": "stream",
          "name": "stdout",
          "text": [
            "16\n",
            "8\n"
          ]
        }
      ]
    },
    {
      "cell_type": "markdown",
      "source": [
        "Advantages of Lambda Functions\n",
        "\n",
        "Concise and Readable: They allow you to write small functions in a single line, making the code more concise.\n",
        "\n",
        "Anonymous: No need to give the function a name if it's only needed temporarily.\n",
        "\n",
        "Convenience: Great for simple tasks, especially as arguments to higher-order functions.\n",
        "\n",
        "\n",
        "Limitations of Lambda Functions\n",
        "Single Expression: Lambda functions can only contain one expression. They cannot contain statements like if, for, or while (though you can use them indirectly in expressions).\n",
        "\n",
        "Limited Readability: While concise, lambda functions can reduce code readability for complex operations.\n",
        "\n",
        "No Docstrings: You cannot add documentation to lambda functions, making them less self-explanatory."
      ],
      "metadata": {
        "id": "YnPm95sSE6WU"
      }
    },
    {
      "cell_type": "markdown",
      "source": [
        "***9.Explain the purpose and usage of the map()function in python.***"
      ],
      "metadata": {
        "id": "3Z9ChS1mFGiY"
      }
    },
    {
      "cell_type": "markdown",
      "source": [
        "In Python, map(), reduce(), and filter() are higher-order functions used to process and transform data efficiently. Each function applies a given operation to elements of an iterable (e.g., list, tuple) but serves different purposes.\n",
        "\n",
        "1. map()\n",
        "The map() function applies a given function to each item in an iterable (like a list or tuple) and returns a map object (an iterator) containing the results.\n",
        "\n",
        "    \n",
        "    Syntax\n",
        "    \n",
        "    map(function, iterable, ...)\n",
        "\n",
        "function: A function that takes one or more arguments.\n",
        "iterable: One or more iterables whose items will be passed to the function.\n",
        "Purpose\n",
        "Transform or process each element in an iterable."
      ],
      "metadata": {
        "id": "BCePEWbLFuWW"
      }
    },
    {
      "cell_type": "code",
      "source": [
        "#single iterable\n",
        "# Function to square a number\n",
        "def square(x):\n",
        "    return x ** 2\n",
        "\n",
        "# Using map() to apply the function to a list\n",
        "numbers = [1, 2, 3, 4]\n",
        "squared_numbers = map(square, numbers)\n",
        "print(list(squared_numbers))"
      ],
      "metadata": {
        "colab": {
          "base_uri": "https://localhost:8080/"
        },
        "id": "X6kNA8vFGCuT",
        "outputId": "910c9a45-a0c3-4185-c1ac-1d724699bb23"
      },
      "execution_count": 51,
      "outputs": [
        {
          "output_type": "stream",
          "name": "stdout",
          "text": [
            "[1, 4, 9, 16]\n"
          ]
        }
      ]
    },
    {
      "cell_type": "code",
      "source": [
        "##With Lambda Function:\n",
        "numbers = [1, 2, 3, 4]\n",
        "squared_numbers = map(lambda x: x ** 2, numbers)\n",
        "print(list(squared_numbers))\n"
      ],
      "metadata": {
        "colab": {
          "base_uri": "https://localhost:8080/"
        },
        "id": "cvlCaMmCGI5u",
        "outputId": "255cc5fb-8db6-4bc3-982a-a0eedc2a0e4e"
      },
      "execution_count": 52,
      "outputs": [
        {
          "output_type": "stream",
          "name": "stdout",
          "text": [
            "[1, 4, 9, 16]\n"
          ]
        }
      ]
    },
    {
      "cell_type": "code",
      "source": [
        "#Multiple Iterables:\n",
        "# Adding elements from two lists\n",
        "list1 = [1, 2, 3]\n",
        "list2 = [4, 5, 6]\n",
        "result = map(lambda x, y: x + y, list1, list2)\n",
        "print(list(result))  # Output: [5, 7, 9]\n"
      ],
      "metadata": {
        "id": "Wv_RpOgEGX6N"
      },
      "execution_count": null,
      "outputs": []
    },
    {
      "cell_type": "markdown",
      "source": [
        "***10.What is the difference between \"map()\",\"reduce()\", and \"filter()\" function in python***"
      ],
      "metadata": {
        "id": "d2RUYwDdMiUE"
      }
    },
    {
      "cell_type": "markdown",
      "source": [
        "1. Purpose\n",
        "\n",
        "    \n",
        "    Function\t         Purpose\n",
        "    map()\t      Applies a function to each element of an iterable, transforming it into a new value.\n",
        "    reduce()\t  Applies a function cumulatively to elements of an iterable, reducing it to a single value.\n",
        "    filter()\t Filters elements of an iterable by applying a function that evaluates to True or False.\n",
        "\n",
        "\n",
        "    2. Returns\n",
        "\n",
        "    Function\t               Return Type\n",
        "     map()\t          Returns a map object (an iterator) with transformed elements.\n",
        "     reduce()\t       Returns a single value (e.g., sum, product, etc.).\n",
        "     filter()\t      Returns a filter object (an iterator) containing elements that satisfy the condition.\n",
        "\n",
        "\n",
        "3. Input Function\n",
        "\n",
        "  \n",
        "    Function\t            Type of Function Accepted\n",
        "    map()\t         A function that transforms a single element (can also take multiple iterables).\n",
        "    reduce()\tA function that combines two elements and returns one value (must accept two arguments).\n",
        "    filter()\tA function that evaluates each element and returns True or False.\n"
      ],
      "metadata": {
        "id": "bLHqRdd2MmcC"
      }
    },
    {
      "cell_type": "markdown",
      "source": [
        "map() Example\n",
        "Applies a transformation to every element:"
      ],
      "metadata": {
        "id": "V_ucrOwWNymZ"
      }
    },
    {
      "cell_type": "code",
      "source": [
        "numbers = [1, 2, 3, 4]\n",
        "\n",
        "# Using map to square each number\n",
        "squared = map(lambda x: x ** 2, numbers)\n",
        "print(list(squared))"
      ],
      "metadata": {
        "colab": {
          "base_uri": "https://localhost:8080/"
        },
        "id": "DR85TvHhN3E8",
        "outputId": "75743bbf-b003-42b9-d017-bd1176ca3620"
      },
      "execution_count": 59,
      "outputs": [
        {
          "output_type": "stream",
          "name": "stdout",
          "text": [
            "[1, 4, 9, 16]\n"
          ]
        }
      ]
    },
    {
      "cell_type": "markdown",
      "source": [
        "reduce() Example\n",
        "\n",
        "Aggregates all elements into a single result:"
      ],
      "metadata": {
        "id": "QtKFm-LSN9kg"
      }
    },
    {
      "cell_type": "code",
      "source": [
        "from functools import reduce\n",
        "\n",
        "numbers = [1, 2, 3, 4]\n",
        "\n",
        "# Using reduce to calculate the product of all numbers\n",
        "product = reduce(lambda x, y: x * y, numbers)\n",
        "print(product)\n"
      ],
      "metadata": {
        "colab": {
          "base_uri": "https://localhost:8080/"
        },
        "id": "8-vNHKpKOAd5",
        "outputId": "69b43e74-46eb-4702-aaac-9f54fe759b57"
      },
      "execution_count": 60,
      "outputs": [
        {
          "output_type": "stream",
          "name": "stdout",
          "text": [
            "24\n"
          ]
        }
      ]
    },
    {
      "cell_type": "markdown",
      "source": [
        "filter() Example\n",
        "Filters specific elements based on a condition:"
      ],
      "metadata": {
        "id": "74OfIdWAOGKw"
      }
    },
    {
      "cell_type": "code",
      "source": [
        "numbers = [1, 2, 3, 4, 5, 6]\n",
        "\n",
        "# Using filter to get even numbers\n",
        "evens = filter(lambda x: x % 2 == 0, numbers)\n",
        "print(list(evens))"
      ],
      "metadata": {
        "id": "6IMwQtTLOKJF"
      },
      "execution_count": null,
      "outputs": []
    },
    {
      "cell_type": "markdown",
      "source": [
        "Key Differences\n",
        "Operation Type:\n",
        "\n",
        "\n",
        "map() is transformative: Applies a function to every element and outputs transformed elements.\n",
        "reduce() is cumulative: Combines all elements into one result.\n",
        "filter() is selective: Outputs only elements that satisfy a condition.\n",
        "Output:\n",
        "\n",
        "\n",
        "map() and filter() return iterators (can be converted to lists or other containers).\n",
        "reduce() returns a single value.\n",
        "Complexity:\n",
        "\n",
        "\n",
        "\n",
        " map() and filter() are simpler since they work on each element independently.\n",
        "reduce() involves cumulative logic, making it slightly more complex."
      ],
      "metadata": {
        "id": "YhndOy2mOR7M"
      }
    },
    {
      "cell_type": "markdown",
      "source": [
        "***11.Write the internal mechanim for sum operation using reduce function on this given list:[47,11,42,13];***"
      ],
      "metadata": {
        "id": "Kjo_zSQ6bkpI"
      }
    },
    {
      "cell_type": "markdown",
      "source": [
        "![Image 2024-11-26 at 22.30.51_59202d96.jpg](data:image/jpeg;base64,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)"
      ],
      "metadata": {
        "id": "6i21YpdKbBZM"
      }
    },
    {
      "cell_type": "markdown",
      "source": [
        "# ***Practical Question***"
      ],
      "metadata": {
        "id": "oVxzeB_QOj8s"
      }
    },
    {
      "cell_type": "markdown",
      "source": [
        "***1.Write a Python function thot takes a list of numbers as input and returns the sum of all even numbers in the list.***"
      ],
      "metadata": {
        "id": "88TDasV9Or-_"
      }
    },
    {
      "cell_type": "code",
      "source": [
        "def sum_of_even_numbers(numbers):\n",
        "\n",
        "    total = 0\n",
        "\n",
        "    for num in numbers:\n",
        "        # Check if the number is even\n",
        "        if num % 2 == 0:\n",
        "            total += num\n",
        "    return total\n",
        "\n",
        "\n",
        "numbers = [1, 2, 3, 4, 5, 6]\n",
        "result = sum_of_even_numbers(numbers)\n",
        "print(\"Sum of even numbers:\", result)\n"
      ],
      "metadata": {
        "colab": {
          "base_uri": "https://localhost:8080/"
        },
        "id": "aE5DqgWLO04G",
        "outputId": "c71ecaaf-fcff-4bfe-b75e-49b7532ce3d4"
      },
      "execution_count": 61,
      "outputs": [
        {
          "output_type": "stream",
          "name": "stdout",
          "text": [
            "Sum of even numbers: 12\n"
          ]
        }
      ]
    },
    {
      "cell_type": "markdown",
      "source": [
        "***2.\tCreate a Python function that accepts a string and returns the reverse of that string.***"
      ],
      "metadata": {
        "id": "LkC6zOTcPZiq"
      }
    },
    {
      "cell_type": "code",
      "source": [
        "def reverse_string(input_string):\n",
        "    # Return the reverse of the input string using slicing\n",
        "    return input_string[::-1]\n",
        "\n",
        "# Example usage\n",
        "string = \"hello\"\n",
        "result = reverse_string(string)\n",
        "print(\"Reversed string:\", result)\n"
      ],
      "metadata": {
        "colab": {
          "base_uri": "https://localhost:8080/"
        },
        "id": "xxs4S9HXPdPH",
        "outputId": "91e4d46d-d39e-4c40-819b-088e0fd345e4"
      },
      "execution_count": 62,
      "outputs": [
        {
          "output_type": "stream",
          "name": "stdout",
          "text": [
            "Reversed string: olleh\n"
          ]
        }
      ]
    },
    {
      "cell_type": "markdown",
      "source": [
        "***3.\tImplement a Python function that takes a list of integers and returns a new list containing the squares of each number.***"
      ],
      "metadata": {
        "id": "fbXqKNhNPsfY"
      }
    },
    {
      "cell_type": "code",
      "source": [
        "def square_numbers(numbers):\n",
        "    # Use list comprehension to square each number in the list\n",
        "    return [num ** 2 for num in numbers]\n",
        "\n",
        "# Example usage\n",
        "numbers = [1, 2, 3, 4, 5]\n",
        "result = square_numbers(numbers)\n",
        "print(\"Squared numbers:\", result)"
      ],
      "metadata": {
        "colab": {
          "base_uri": "https://localhost:8080/"
        },
        "id": "b7LMRdGuPvlo",
        "outputId": "5270eed0-32e9-42d7-8ecf-e05f58c3154b"
      },
      "execution_count": 63,
      "outputs": [
        {
          "output_type": "stream",
          "name": "stdout",
          "text": [
            "Squared numbers: [1, 4, 9, 16, 25]\n"
          ]
        }
      ]
    },
    {
      "cell_type": "markdown",
      "source": [
        "Explanation:\n",
        "\n",
        "     [num ** 2 for num in numbers]: This is a list comprehension that iterates through each number in the input list and squares it (num ** 2).\n",
        "The function returns a new list with the squares of the numbers.\n",
        "You can also implement this using a for loop if preferred:"
      ],
      "metadata": {
        "id": "D7M1j4I0P5vO"
      }
    },
    {
      "cell_type": "code",
      "source": [
        "def square_numbers(numbers):\n",
        "    squares = []\n",
        "    for num in numbers:\n",
        "        squares.append(num ** 2)\n",
        "    return squares\n"
      ],
      "metadata": {
        "id": "93A6Ip1LP-ns"
      },
      "execution_count": 64,
      "outputs": []
    },
    {
      "cell_type": "markdown",
      "source": [
        "***4.\tWrite a Python function that checks if a given number is prime or not from 1 to 200.***"
      ],
      "metadata": {
        "id": "YkMdurJ_QH79"
      }
    },
    {
      "cell_type": "code",
      "source": [
        "def is_prime(number):\n",
        "    # Return False for numbers less than 2\n",
        "    if number < 2:\n",
        "        return False\n",
        "    # Check divisors from 2 to the square root of the number\n",
        "    for i in range(2, int(number ** 0.5) + 1):\n",
        "        if number % i == 0:\n",
        "            return False\n",
        "    return True\n",
        "\n",
        "# Check prime numbers from 1 to 200\n",
        "for num in range(1, 201):\n",
        "    if is_prime(num):\n",
        "        print(num, \"is a prime number\")\n"
      ],
      "metadata": {
        "colab": {
          "base_uri": "https://localhost:8080/"
        },
        "id": "Ka9_-k6PQKnx",
        "outputId": "9115cb9e-5f4b-491a-bf52-be42b01d7d46"
      },
      "execution_count": 65,
      "outputs": [
        {
          "output_type": "stream",
          "name": "stdout",
          "text": [
            "2 is a prime number\n",
            "3 is a prime number\n",
            "5 is a prime number\n",
            "7 is a prime number\n",
            "11 is a prime number\n",
            "13 is a prime number\n",
            "17 is a prime number\n",
            "19 is a prime number\n",
            "23 is a prime number\n",
            "29 is a prime number\n",
            "31 is a prime number\n",
            "37 is a prime number\n",
            "41 is a prime number\n",
            "43 is a prime number\n",
            "47 is a prime number\n",
            "53 is a prime number\n",
            "59 is a prime number\n",
            "61 is a prime number\n",
            "67 is a prime number\n",
            "71 is a prime number\n",
            "73 is a prime number\n",
            "79 is a prime number\n",
            "83 is a prime number\n",
            "89 is a prime number\n",
            "97 is a prime number\n",
            "101 is a prime number\n",
            "103 is a prime number\n",
            "107 is a prime number\n",
            "109 is a prime number\n",
            "113 is a prime number\n",
            "127 is a prime number\n",
            "131 is a prime number\n",
            "137 is a prime number\n",
            "139 is a prime number\n",
            "149 is a prime number\n",
            "151 is a prime number\n",
            "157 is a prime number\n",
            "163 is a prime number\n",
            "167 is a prime number\n",
            "173 is a prime number\n",
            "179 is a prime number\n",
            "181 is a prime number\n",
            "191 is a prime number\n",
            "193 is a prime number\n",
            "197 is a prime number\n",
            "199 is a prime number\n"
          ]
        }
      ]
    },
    {
      "cell_type": "markdown",
      "source": [
        "5.\tCreate on iterator class in Python that generates the Fibonacci sequence up to a specified\n",
        "terms.  "
      ],
      "metadata": {
        "id": "FnH6yvOdQhEL"
      }
    },
    {
      "cell_type": "code",
      "source": [
        "class FibonacciIterator:\n",
        "    def __init__(self, n):\n",
        "        self.n = n  # Number of terms\n",
        "        self.current = 0  # Current position in the sequence\n",
        "        self.a, self.b = 0, 1  # Initial two Fibonacci numbers\n",
        "\n",
        "    def __iter__(self):\n",
        "        return self  # The class itself is the iterator\n",
        "\n",
        "    def __next__(self):\n",
        "        if self.current < self.n:\n",
        "            # Generate the next Fibonacci number\n",
        "            fib_number = self.a\n",
        "            self.a, self.b = self.b, self.a + self.b  # Update to the next two numbers\n",
        "            self.current += 1\n",
        "            return fib_number\n",
        "        else:\n",
        "            raise StopIteration  # Stop iteration when the specified terms are reached\n",
        "\n",
        "# Example usage\n",
        "n_terms = 10\n",
        "fib_iterator = FibonacciIterator(n_terms)\n",
        "\n",
        "print(f\"Fibonacci sequence up to {n_terms} terms:\")\n",
        "for num in fib_iterator:\n",
        "    print(num, end=\" \")\n"
      ],
      "metadata": {
        "colab": {
          "base_uri": "https://localhost:8080/"
        },
        "id": "BfnC-5UJQyPn",
        "outputId": "c4378f74-e547-4993-814a-e9789fa7454f"
      },
      "execution_count": 66,
      "outputs": [
        {
          "output_type": "stream",
          "name": "stdout",
          "text": [
            "Fibonacci sequence up to 10 terms:\n",
            "0 1 1 2 3 5 8 13 21 34 "
          ]
        }
      ]
    },
    {
      "cell_type": "markdown",
      "source": [
        "***6.\tWrite a generator function in Python thot yield power\tof 2\ta given exponent.***"
      ],
      "metadata": {
        "id": "Khy9kBziRSHB"
      }
    },
    {
      "cell_type": "code",
      "source": [
        "def powers_of_two(max_exponent):\n",
        "    for exponent in range(max_exponent + 1):\n",
        "        yield 2 ** exponent\n",
        "\n",
        "# Example usage\n",
        "max_exp = 5\n",
        "print(f\"Powers of 2 up to 2^{max_exp}:\")\n",
        "for power in powers_of_two(max_exp):\n",
        "    print(power)\n"
      ],
      "metadata": {
        "colab": {
          "base_uri": "https://localhost:8080/"
        },
        "id": "F6RJGkFERVtG",
        "outputId": "8f07a15f-a190-4b03-cfac-b1c2f334040b"
      },
      "execution_count": 67,
      "outputs": [
        {
          "output_type": "stream",
          "name": "stdout",
          "text": [
            "Powers of 2 up to 2^5:\n",
            "1\n",
            "2\n",
            "4\n",
            "8\n",
            "16\n",
            "32\n"
          ]
        }
      ]
    },
    {
      "cell_type": "markdown",
      "source": [
        "***7.\tImplement a generator function that reads a file line by and yields each line as a string. ***"
      ],
      "metadata": {
        "id": "3PqCfnfSTJrC"
      }
    },
    {
      "cell_type": "code",
      "source": [
        "def read_file_line_by_line(file_path):\n",
        "    try:\n",
        "        with open(file_path, 'r') as file:\n",
        "            for line in file:\n",
        "                yield line.strip()  # Remove any leading/trailing whitespace or newline characters\n",
        "    except FileNotFoundError:\n",
        "        print(f\"File not found: {file_path}\")\n",
        "\n",
        "# Example usage\n",
        "file_path = \"example.txt\"  # Replace with the path to your file\n",
        "print(\"Reading file line by line:\")\n",
        "for line in read_file_line_by_line(file_path):\n",
        "    print(line)\n"
      ],
      "metadata": {
        "id": "m5xrLfENTMoj"
      },
      "execution_count": null,
      "outputs": []
    },
    {
      "cell_type": "markdown",
      "source": [
        "***8.Use a lambda function in python to sort  a list  of tuples based on the second element of each tuple***"
      ],
      "metadata": {
        "id": "mAjsTcYVT6jb"
      }
    },
    {
      "cell_type": "code",
      "source": [
        "# List of tuples\n",
        "tuples_list = [(1, 3), (4, 1), (2, 2), (5, 0)]\n",
        "\n",
        "# Sort the list based on the second element using a lambda function\n",
        "sorted_list = sorted(tuples_list, key=lambda x: x[1])\n",
        "\n",
        "# Output the sorted list\n",
        "print(\"Sorted list based on the second element:\", sorted_list)\n",
        ""
      ],
      "metadata": {
        "colab": {
          "base_uri": "https://localhost:8080/"
        },
        "id": "NSsBzLJ0T9i0",
        "outputId": "add16a17-fdc0-4022-e1ce-15e0814366d5"
      },
      "execution_count": 68,
      "outputs": [
        {
          "output_type": "stream",
          "name": "stdout",
          "text": [
            "Sorted list based on the second element: [(5, 0), (4, 1), (2, 2), (1, 3)]\n"
          ]
        }
      ]
    },
    {
      "cell_type": "markdown",
      "source": [
        "If you want to sort in descending order, use the reverse=True parameter:"
      ],
      "metadata": {
        "id": "-CzF1fZRUJM-"
      }
    },
    {
      "cell_type": "code",
      "source": [
        "sorted_list = sorted(tuples_list, key=lambda x: x[1], reverse=True)\n",
        "print(\"Sorted list in descending order:\", sorted_list)\n"
      ],
      "metadata": {
        "colab": {
          "base_uri": "https://localhost:8080/"
        },
        "id": "_KS9oCDvUMcQ",
        "outputId": "735470ae-ca23-400e-d83b-6cad210bff04"
      },
      "execution_count": 69,
      "outputs": [
        {
          "output_type": "stream",
          "name": "stdout",
          "text": [
            "Sorted list in descending order: [(1, 3), (2, 2), (4, 1), (5, 0)]\n"
          ]
        }
      ]
    },
    {
      "cell_type": "markdown",
      "source": [
        "***10.Write a python program that uses map() to convert a list of temparetures from Celcius to Farenheit***"
      ],
      "metadata": {
        "id": "xzgb4DxTV-PD"
      }
    },
    {
      "cell_type": "markdown",
      "source": [
        "Formula for Conversion:\n",
        "𝐹\n",
        "=\n",
        "(\n",
        "𝐶\n",
        "×\n",
        "9\n",
        "/\n",
        "5\n",
        ")\n",
        "+\n",
        "32\n",
        "F=(C×9/5)+32"
      ],
      "metadata": {
        "id": "wPpAHTaqWEoB"
      }
    },
    {
      "cell_type": "code",
      "source": [
        "def celsius_to_fahrenheit(celsius):\n",
        "    return (celsius * 9/5) + 32\n",
        "\n",
        "# List of temperatures in Celsius\n",
        "celsius_temps = [0, 20, 37, 100]\n",
        "\n",
        "# Use map() to convert the temperatures to Fahrenheit\n",
        "fahrenheit_temps = list(map(celsius_to_fahrenheit, celsius_temps))\n",
        "\n",
        "\n",
        "print(\"Temperatures in Celsius:\", celsius_temps)\n",
        "print(\"Temperatures in Fahrenheit:\", fahrenheit_temps)\n"
      ],
      "metadata": {
        "colab": {
          "base_uri": "https://localhost:8080/"
        },
        "id": "3KKTIVtoWGjm",
        "outputId": "fae27061-78de-46a6-cdb3-a1179d154482"
      },
      "execution_count": 70,
      "outputs": [
        {
          "output_type": "stream",
          "name": "stdout",
          "text": [
            "Temperatures in Celsius: [0, 20, 37, 100]\n",
            "Temperatures in Fahrenheit: [32.0, 68.0, 98.6, 212.0]\n"
          ]
        }
      ]
    },
    {
      "cell_type": "markdown",
      "source": [
        "11.Imagine n accounting routine using a Book Shop.It works with"
      ],
      "metadata": {
        "id": "jNV4UwyFWfaw"
      }
    },
    {
      "cell_type": "code",
      "source": [
        "orders = [\n",
        "    [34587, \"Learning Python, Mark Lutz\", 4, 40.95],\n",
        "    [98762, \"Programming Python, Mark Lutz\", 5, 56.80],\n",
        "    [77226, \"Head First Python, Paul Barry\", 3, 32.95],\n",
        "    [88112, \"Einführung in Python3, Bernd Klein\", 3, 24.99]\n",
        "]\n",
        "def calculate_order_totals(orders):\n",
        "    # Calculate total price for each order\n",
        "    result = list(\n",
        "        map(\n",
        "            lambda order: (order[0], round(order[2] * order[3], 2)),  # Order number and total price\n",
        "            orders\n",
        "        )\n",
        "    )\n",
        "    return result\n",
        "\n",
        "# Example usage\n",
        "totals = calculate_order_totals(orders)\n",
        "print(\"Order totals:\")\n",
        "for order_number, total_price in totals:\n",
        "    print(f\"Order {order_number}: ${total_price}\")\n"
      ],
      "metadata": {
        "colab": {
          "base_uri": "https://localhost:8080/"
        },
        "id": "uzGcXsPMXFQ-",
        "outputId": "9644c427-aef2-4ad3-acfe-3bcee83fe241"
      },
      "execution_count": 72,
      "outputs": [
        {
          "output_type": "stream",
          "name": "stdout",
          "text": [
            "Order totals:\n",
            "Order 34587: $163.8\n",
            "Order 98762: $284.0\n",
            "Order 77226: $98.85\n",
            "Order 88112: $74.97\n"
          ]
        }
      ]
    },
    {
      "cell_type": "markdown",
      "source": [
        "***Write a python program using lambda() and map().***"
      ],
      "metadata": {
        "id": "6gN7_jwIXo6a"
      }
    },
    {
      "cell_type": "code",
      "source": [
        "##Program: Calculate Squares of Numbers\n",
        "# List of numbers\n",
        "numbers = [1, 2, 3, 4, 5]\n",
        "\n",
        "# Use map() and lambda() to calculate squares of numbers\n",
        "squared_numbers = list(map(lambda x: x ** 2, numbers))\n",
        "\n",
        "# Output the result\n",
        "print(\"Original numbers:\", numbers)\n",
        "print(\"Squared numbers:\", squared_numbers)\n"
      ],
      "metadata": {
        "colab": {
          "base_uri": "https://localhost:8080/"
        },
        "id": "1EVe3A_lXrIP",
        "outputId": "12b2aeee-b4f3-4a02-a3c6-f0fa99e3f8a9"
      },
      "execution_count": 73,
      "outputs": [
        {
          "output_type": "stream",
          "name": "stdout",
          "text": [
            "Original numbers: [1, 2, 3, 4, 5]\n",
            "Squared numbers: [1, 4, 9, 16, 25]\n"
          ]
        }
      ]
    }
  ]
}