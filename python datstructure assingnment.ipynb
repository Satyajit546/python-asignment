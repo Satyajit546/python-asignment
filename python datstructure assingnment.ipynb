{
  "nbformat": 4,
  "nbformat_minor": 0,
  "metadata": {
    "colab": {
      "provenance": []
    },
    "kernelspec": {
      "name": "python3",
      "display_name": "Python 3"
    },
    "language_info": {
      "name": "python"
    }
  },
  "cells": [
    {
      "cell_type": "markdown",
      "source": [
        "1.Discuss string slicing an provide with example.\n",
        "\n",
        "String slicing in Python is a way to extract a subset of characters from a string. It allows you to create a \"slice\" of a string by specifying a start index, an end index, and an optional step. The syntax for string slicing is:\n",
        "\n",
        "syntax\n",
        "   \n",
        "   string[start:end:step]\n",
        "\n",
        "\n",
        "Here's what each parameter means:\n",
        "\n",
        "start: The index from where the slice begins (inclusive).\n",
        "end: The index where the slice ends (exclusive).\n",
        "step: The interval or jump between characters. If omitted, it defaults to 1.\n"
      ],
      "metadata": {
        "id": "_-6QWT6UATxU"
      }
    },
    {
      "cell_type": "code",
      "source": [
        "#Examples Let's go through some examples to understand string slicing better.\n",
        "\n",
        "#Basic Slicing\n",
        "\n",
        "text = \"Hello, World!\"\n",
        "\n",
        "# Slice from index 0 to 5 (end index 5 is exclusive)\n",
        "print(text[0:5])  # Output: \"Hello\"\n",
        "\n",
        "# Slice from index 7 to 12\n",
        "print(text[7:12])"
      ],
      "metadata": {
        "colab": {
          "base_uri": "https://localhost:8080/"
        },
        "id": "t221C5seBFRA",
        "outputId": "4e4c968e-5aa3-4ebe-83cb-32fda44e6e2e"
      },
      "execution_count": null,
      "outputs": [
        {
          "output_type": "stream",
          "name": "stdout",
          "text": [
            "Hello\n",
            "World\n"
          ]
        }
      ]
    },
    {
      "cell_type": "code",
      "source": [
        "#Using Negative Indexes Python allows negative indexing, which counts from the end of the string. For instance, -1 is the last character, -2 is the second last, and so on.\n",
        "\n",
        "# Slice the last 6 characters\n",
        "print(text[-6:])\n",
        "\n",
        "\n"
      ],
      "metadata": {
        "colab": {
          "base_uri": "https://localhost:8080/"
        },
        "id": "3_uRmflSBe3d",
        "outputId": "609beaf0-546e-4a9d-bb93-4ae8e6a93bc4"
      },
      "execution_count": null,
      "outputs": [
        {
          "output_type": "stream",
          "name": "stdout",
          "text": [
            "World!\n"
          ]
        }
      ]
    },
    {
      "cell_type": "code",
      "source": [
        "#Skipping Characters with Step The step parameter lets you specify how many characters to skip.\n",
        "\n",
        "# Slice every second character from index 0 to 12\n",
        "print(text[0:12:2])\n",
        "\n"
      ],
      "metadata": {
        "colab": {
          "base_uri": "https://localhost:8080/"
        },
        "id": "5NaXPackBw14",
        "outputId": "818d11ac-5b93-4f02-c683-e2a1688c149a"
      },
      "execution_count": null,
      "outputs": [
        {
          "output_type": "stream",
          "name": "stdout",
          "text": [
            "Hlo ol\n"
          ]
        }
      ]
    },
    {
      "cell_type": "code",
      "source": [
        "#Reversing a String with Slicing Using a negative step can reverse a string.\n",
        "\n",
        "# Reverse the entire string\n",
        "print(text[::-1])\n",
        "\n"
      ],
      "metadata": {
        "colab": {
          "base_uri": "https://localhost:8080/"
        },
        "id": "avhoymeNCAG3",
        "outputId": "f9a7cf3b-36a7-44e8-f4c6-fdd4619c7e63"
      },
      "execution_count": null,
      "outputs": [
        {
          "output_type": "stream",
          "name": "stdout",
          "text": [
            "!dlroW ,olleH\n"
          ]
        }
      ]
    },
    {
      "cell_type": "code",
      "source": [
        "#Omitting Start or End If you omit start, it defaults to the beginning of the string. If you omit end, it defaults to the end of the string.\n",
        "\n",
        "# Slice from start to index 5\n",
        "print(text[:5])  # Output: \"Hello\"\n",
        "\n",
        "# Slice from index 7 to the end\n",
        "print(text[7:])"
      ],
      "metadata": {
        "colab": {
          "base_uri": "https://localhost:8080/"
        },
        "id": "doHWxdwHCNvZ",
        "outputId": "b293a81c-446a-4539-8d99-770fc6bf3981"
      },
      "execution_count": null,
      "outputs": [
        {
          "output_type": "stream",
          "name": "stdout",
          "text": [
            "Hello\n",
            "World!\n"
          ]
        }
      ]
    },
    {
      "cell_type": "markdown",
      "source": [
        "2.Explain the key features of  list in python.\n",
        "\n",
        "In Python, a list is a versatile and widely used data structure that stores an ordered collection of items. Lists allow for various operations, including adding, removing, and modifying elements, which makes them extremely useful in Python programming. Here are the key features of lists in Python:\n",
        "\n",
        " **Ordered Collection**\n",
        "\n",
        "Lists maintain the order of items as they are added. The position (index) of each item is fixed relative to others in the list.\n",
        "You can access items by their index, where the first item has an index of 0.\n",
        "\n"
      ],
      "metadata": {
        "id": "puJwu98VDkBg"
      }
    },
    {
      "cell_type": "code",
      "source": [
        "my_list = [\"apple\", \"banana\", \"cherry\"]\n",
        "print(my_list[0])\n"
      ],
      "metadata": {
        "colab": {
          "base_uri": "https://localhost:8080/"
        },
        "id": "5GNQE_txD2SX",
        "outputId": "5dd9ffe4-c99f-4b4f-eca2-fcc5515436d1"
      },
      "execution_count": null,
      "outputs": [
        {
          "output_type": "stream",
          "name": "stdout",
          "text": [
            "apple\n"
          ]
        }
      ]
    },
    {
      "cell_type": "markdown",
      "source": [
        " **Mutable (Changeable)**\n",
        "\n",
        "\n",
        "Lists are mutable, which means you can change, add, or remove elements after the list has been created.\n",
        "Elements can be changed using indexing, and you can append, remove, or insert items as needed.\n",
        "python\n",
        "Copy code\n"
      ],
      "metadata": {
        "id": "BITaU1S7EA8O"
      }
    },
    {
      "cell_type": "code",
      "source": [
        "my_list = [\"apple\", \"banana\", \"cherry\"]\n",
        "my_list[1] = \"blueberry\"\n",
        "print(my_list)"
      ],
      "metadata": {
        "colab": {
          "base_uri": "https://localhost:8080/"
        },
        "id": "ogS1Cr3YEnvn",
        "outputId": "e854a709-d515-4ca2-9525-9e28a5c132ce"
      },
      "execution_count": null,
      "outputs": [
        {
          "output_type": "stream",
          "name": "stdout",
          "text": [
            "['apple', 'blueberry', 'cherry']\n"
          ]
        }
      ]
    },
    {
      "cell_type": "markdown",
      "source": [
        "# Heterogeneous Elements (Different Data Types)\n",
        "\n",
        "Lists can contain elements of different data types, including integers, strings, floats, other lists, and even complex data structures."
      ],
      "metadata": {
        "id": "M241wyskEt6W"
      }
    },
    {
      "cell_type": "code",
      "source": [
        "my_list = [1, \"Hello\", 3.14, [1, 2, 3]]\n",
        "print(my_list)\n"
      ],
      "metadata": {
        "colab": {
          "base_uri": "https://localhost:8080/"
        },
        "id": "NIKpT1mlGN1X",
        "outputId": "151cda94-0684-46fc-e45c-70b45cd885d9"
      },
      "execution_count": null,
      "outputs": [
        {
          "output_type": "stream",
          "name": "stdout",
          "text": [
            "[1, 'Hello', 3.14, [1, 2, 3]]\n"
          ]
        }
      ]
    },
    {
      "cell_type": "markdown",
      "source": [
        "# Dynamic Sizing\n",
        "\n",
        "Lists in Python are dynamically sized, meaning they can grow or shrink as items are added or removed."
      ],
      "metadata": {
        "id": "8_rmmyBFGc02"
      }
    },
    {
      "cell_type": "code",
      "source": [
        "my_list = [1, 2, 3]\n",
        "my_list.append(4)\n",
        "print(my_list)\n"
      ],
      "metadata": {
        "colab": {
          "base_uri": "https://localhost:8080/"
        },
        "id": "YpVup0FIGj2u",
        "outputId": "666e90ec-7c8c-4bc4-d6ba-05963832ad97"
      },
      "execution_count": null,
      "outputs": [
        {
          "output_type": "stream",
          "name": "stdout",
          "text": [
            "[1, 2, 3, 4]\n"
          ]
        }
      ]
    },
    {
      "cell_type": "markdown",
      "source": [
        "***Supports Various Methods for Manipulation***\n",
        "\n",
        "Lists come with a wide range of built-in methods, such as:\n",
        "\n",
        ".append() - Adds an element to the end of the list.\n",
        "\n",
        ".insert() - Inserts an element at a specified index.\n",
        "\n",
        ".remove() - Removes the first occurrence of a specified element.\n",
        "\n",
        ".pop() - Removes and returns the element at a specified index (default is the last).\n",
        "\n",
        ".sort() - Sorts the elements in ascending order (can be customized).\n",
        "\n",
        ".reverse() - Reverses the order of the elements in place.\n",
        "\n",
        ".count() - Counts occurrences of a specified element.\n",
        "\n",
        ".index() - Returns the index of the first occurrence of a specified element.\n",
        "\n",
        "\n"
      ],
      "metadata": {
        "id": "mlsLTEHGGsU3"
      }
    },
    {
      "cell_type": "code",
      "source": [
        "my_list = [3, 1, 4, 1, 5]\n",
        "my_list.sort()\n",
        "print(my_list)\n"
      ],
      "metadata": {
        "colab": {
          "base_uri": "https://localhost:8080/"
        },
        "id": "3Mf2E8zbHKY_",
        "outputId": "6b089bbc-c2e3-4b54-faef-3b35ea21f16c"
      },
      "execution_count": null,
      "outputs": [
        {
          "output_type": "stream",
          "name": "stdout",
          "text": [
            "[1, 1, 3, 4, 5]\n"
          ]
        }
      ]
    },
    {
      "cell_type": "code",
      "source": [
        "my_list = [3, 1, 4, 1, 5]\n",
        "my_list.append(\"hello\")# add string through append\n",
        "print(my_list)\n"
      ],
      "metadata": {
        "colab": {
          "base_uri": "https://localhost:8080/"
        },
        "id": "Dp1uyANaHTzX",
        "outputId": "a81b644a-6bdf-41ed-c2f4-abdd2d5e43f4"
      },
      "execution_count": null,
      "outputs": [
        {
          "output_type": "stream",
          "name": "stdout",
          "text": [
            "[3, 1, 4, 1, 5, 'hello']\n"
          ]
        }
      ]
    },
    {
      "cell_type": "markdown",
      "source": [
        "***Supports Slicing***\n",
        "\n",
        "Lists support slicing, allowing access to a subset of items by specifying a range of indices.\n",
        "\n"
      ],
      "metadata": {
        "id": "lYf-RV0RIBKN"
      }
    },
    {
      "cell_type": "code",
      "source": [
        "my_list = [1, 2, 3, 4, 5]\n",
        "print(my_list[1:4])"
      ],
      "metadata": {
        "colab": {
          "base_uri": "https://localhost:8080/"
        },
        "id": "_YFVOv5FIPG9",
        "outputId": "5f058dc5-fdbc-4d94-cd65-fe5f31e8d6e4"
      },
      "execution_count": null,
      "outputs": [
        {
          "output_type": "stream",
          "name": "stdout",
          "text": [
            "[2, 3, 4]\n"
          ]
        }
      ]
    },
    {
      "cell_type": "code",
      "source": [
        "#jumping\n",
        "my_list = [1, 2, 3, 4, 5]\n",
        "print(my_list[::2])\n"
      ],
      "metadata": {
        "colab": {
          "base_uri": "https://localhost:8080/"
        },
        "id": "OV7Z-FPRITkt",
        "outputId": "6ac0625d-abd7-4b4b-8d01-02d60fcfef1e"
      },
      "execution_count": null,
      "outputs": [
        {
          "output_type": "stream",
          "name": "stdout",
          "text": [
            "[1, 3, 5]\n"
          ]
        }
      ]
    },
    {
      "cell_type": "markdown",
      "source": [
        "***Nesting and Multidimensional Lists***\n",
        "\n",
        "Lists can contain other lists, allowing for the creation of nested or multidimensional lists, which is useful for representing matrices or complex data structures.\n",
        "\n"
      ],
      "metadata": {
        "id": "ZrHBWTuuIqlQ"
      }
    },
    {
      "cell_type": "code",
      "source": [
        "matrix = [[1, 2, 3], [4, 5, 6], [7, 8, 9]]\n",
        "print(matrix[1][2])"
      ],
      "metadata": {
        "colab": {
          "base_uri": "https://localhost:8080/"
        },
        "id": "AoeZhenYIwF9",
        "outputId": "1f6ffa7c-7872-4626-c8f8-f84fecb1c2a8"
      },
      "execution_count": null,
      "outputs": [
        {
          "output_type": "stream",
          "name": "stdout",
          "text": [
            "6\n"
          ]
        }
      ]
    },
    {
      "cell_type": "markdown",
      "source": [
        "***Iterability***\n",
        "\n",
        "Lists are iterable, meaning you can use loops to traverse elements easily. This feature makes lists suitable for a wide range of applications.\n",
        "\n"
      ],
      "metadata": {
        "id": "Vz3Wp8trI5C-"
      }
    },
    {
      "cell_type": "code",
      "source": [
        "for item in my_list:\n",
        "    print(item)\n"
      ],
      "metadata": {
        "colab": {
          "base_uri": "https://localhost:8080/"
        },
        "id": "IZav-NKvI9rd",
        "outputId": "eafd8f40-5810-4f7e-ec18-b7c0515607c4"
      },
      "execution_count": null,
      "outputs": [
        {
          "output_type": "stream",
          "name": "stdout",
          "text": [
            "1\n",
            "2\n",
            "3\n",
            "4\n",
            "5\n"
          ]
        }
      ]
    },
    {
      "cell_type": "markdown",
      "source": [
        "***Supports List Comprehensions***\n",
        "\n",
        "Python lists support a concise syntax for creating lists based on existing lists, known as list comprehension, which is useful for applying a function or condition to all items in a list.\n",
        "\n"
      ],
      "metadata": {
        "id": "E9Rohb_AJGJ7"
      }
    },
    {
      "cell_type": "code",
      "source": [
        "squares = [x**2 for x in range(5)]\n",
        "print(squares)"
      ],
      "metadata": {
        "id": "eG16glTBJKGU",
        "outputId": "fe7db5c0-18de-4ccc-9660-e2f93d6ffed0",
        "colab": {
          "base_uri": "https://localhost:8080/"
        }
      },
      "execution_count": null,
      "outputs": [
        {
          "output_type": "stream",
          "name": "stdout",
          "text": [
            "[0, 1, 4, 9, 16]\n"
          ]
        }
      ]
    },
    {
      "cell_type": "markdown",
      "source": [
        "**3.Describe how to access,modify and delete element in a list with exmples**"
      ],
      "metadata": {
        "id": "Fbeyt29804M5"
      }
    },
    {
      "cell_type": "markdown",
      "source": [
        "In Python, lists are versatile and allow access, modification, and deletion of elements using indices, methods, and slicing. Here's a breakdown:\n",
        "\n",
        "Accessing Elements\n",
        "Using Indexing:\n",
        "\n",
        "Positive indices start at 0 (left to right).\n",
        "\n",
        "Negative indices start at -1 (right to left)."
      ],
      "metadata": {
        "id": "UtsgMO1c1HL2"
      }
    },
    {
      "cell_type": "code",
      "source": [
        "my_list = [10, 20, 30, 40, 50]\n",
        "print(my_list[0])  # Access first element: 10\n",
        "print(my_list[-1])  # Access last element: 50\n"
      ],
      "metadata": {
        "colab": {
          "base_uri": "https://localhost:8080/"
        },
        "id": "Hi07TtO_1jLW",
        "outputId": "5f8d7078-48b8-4e48-9dc9-891fdfe8a119"
      },
      "execution_count": null,
      "outputs": [
        {
          "output_type": "stream",
          "name": "stdout",
          "text": [
            "10\n",
            "50\n"
          ]
        }
      ]
    },
    {
      "cell_type": "markdown",
      "source": [
        "2.Using Slicing:\n",
        "\n",
        "Access multiple elements by specifying a start and end index.\n",
        "python\n",
        "Copy code\n"
      ],
      "metadata": {
        "id": "RNO9uomp1tmG"
      }
    },
    {
      "cell_type": "code",
      "source": [
        "print(my_list[1:4])  # Access elements from index 1 to 3: [20, 30, 40]\n",
        "print(my_list[:3])   # First three elements: [10, 20, 30]\n",
        "print(my_list[::2])  # Every second element: [10, 30, 50]\n"
      ],
      "metadata": {
        "colab": {
          "base_uri": "https://localhost:8080/"
        },
        "id": "AThI7ZdG13FF",
        "outputId": "ab592e60-21db-45c5-d403-04595b7e4da5"
      },
      "execution_count": null,
      "outputs": [
        {
          "output_type": "stream",
          "name": "stdout",
          "text": [
            "[20, 30, 40]\n",
            "[10, 20, 30]\n",
            "[10, 30, 50]\n"
          ]
        }
      ]
    },
    {
      "cell_type": "markdown",
      "source": [
        "Modifying Elements\n",
        "\n",
        "Using Indexing:\n",
        "\n",
        "\n",
        "Assign a new value to a specific position."
      ],
      "metadata": {
        "id": "5olz9nqH2DSD"
      }
    },
    {
      "cell_type": "code",
      "source": [
        "my_list[1] = 25\n",
        "print(my_list)\n"
      ],
      "metadata": {
        "colab": {
          "base_uri": "https://localhost:8080/"
        },
        "id": "Zuq3l8SV2JhT",
        "outputId": "4f9d5dfc-38ae-4a0a-ba2b-efa08832c29c"
      },
      "execution_count": null,
      "outputs": [
        {
          "output_type": "stream",
          "name": "stdout",
          "text": [
            "[10, 25, 30, 40, 50]\n"
          ]
        }
      ]
    },
    {
      "cell_type": "markdown",
      "source": [
        "Using Slicing:\n",
        "\n",
        "Replace multiple elements.\n",
        "\n"
      ],
      "metadata": {
        "id": "CA2vFWyy2Zm7"
      }
    },
    {
      "cell_type": "code",
      "source": [
        "my_list[2:4] = [35, 45]\n",
        "print(my_list)\n"
      ],
      "metadata": {
        "colab": {
          "base_uri": "https://localhost:8080/"
        },
        "id": "I0ddSwto27QT",
        "outputId": "30a621e9-449d-4563-e942-eca798d3ba43"
      },
      "execution_count": null,
      "outputs": [
        {
          "output_type": "stream",
          "name": "stdout",
          "text": [
            "[10, 25, 35, 45, 50]\n"
          ]
        }
      ]
    },
    {
      "cell_type": "markdown",
      "source": [
        "Using Methods:\n",
        "\n",
        "Append: Add to the end of the list.\n",
        "\n"
      ],
      "metadata": {
        "id": "aGFK2oJX3SLa"
      }
    },
    {
      "cell_type": "code",
      "source": [
        "my_list.append(60)\n",
        "print(my_list)\n"
      ],
      "metadata": {
        "colab": {
          "base_uri": "https://localhost:8080/"
        },
        "id": "y6dJdzi43eHm",
        "outputId": "bbf84968-0dd3-4b19-b6f2-36615f62ac31"
      },
      "execution_count": null,
      "outputs": [
        {
          "output_type": "stream",
          "name": "stdout",
          "text": [
            "[10, 25, 35, 45, 50, 60]\n"
          ]
        }
      ]
    },
    {
      "cell_type": "markdown",
      "source": [
        "Insert: Add at a specific position.\n",
        "\n"
      ],
      "metadata": {
        "id": "q-zWFBA13y7X"
      }
    },
    {
      "cell_type": "code",
      "source": [
        "my_list.insert(1, 15)\n",
        "print(my_list)  # Output: [10, 15, 25, 35, 45, 50, 60]\n"
      ],
      "metadata": {
        "colab": {
          "base_uri": "https://localhost:8080/"
        },
        "id": "cSxzX7zb34tR",
        "outputId": "1a8fdb98-e838-4d1f-a0c5-a5416435c1c7"
      },
      "execution_count": null,
      "outputs": [
        {
          "output_type": "stream",
          "name": "stdout",
          "text": [
            "[10, 15, 25, 35, 45, 50, 60]\n"
          ]
        }
      ]
    },
    {
      "cell_type": "markdown",
      "source": [
        "Deleting Elements\n",
        "\n",
        "Using Indexing:\n",
        "\n",
        "Remove by del keyword.\n",
        "\n"
      ],
      "metadata": {
        "id": "RoJYT5Gg4PVH"
      }
    },
    {
      "cell_type": "code",
      "source": [
        "del my_list[1]\n",
        "print(my_list)\n"
      ],
      "metadata": {
        "colab": {
          "base_uri": "https://localhost:8080/"
        },
        "id": "brwhuvLQ4TQX",
        "outputId": "5a511bc3-a61e-419b-d0b3-aba0c7608f8f"
      },
      "execution_count": null,
      "outputs": [
        {
          "output_type": "stream",
          "name": "stdout",
          "text": [
            "[10, 25, 35, 45, 50, 60]\n"
          ]
        }
      ]
    },
    {
      "cell_type": "markdown",
      "source": [
        "Using Methods:\n",
        "\n",
        "pop(): Removes and returns the element at a specified index (default is the last element)."
      ],
      "metadata": {
        "id": "j9mKR8x84bv3"
      }
    },
    {
      "cell_type": "code",
      "source": [
        "removed_element = my_list.pop(2)\n",
        "print(my_list)          # Output: [10, 25, 45, 50, 60]\n",
        "print(removed_element)\n"
      ],
      "metadata": {
        "colab": {
          "base_uri": "https://localhost:8080/"
        },
        "id": "0x6f10JQ4pPe",
        "outputId": "aca5c890-d388-4fe8-c052-339c770f7dfd"
      },
      "execution_count": null,
      "outputs": [
        {
          "output_type": "stream",
          "name": "stdout",
          "text": [
            "[10, 25, 45, 50, 60]\n",
            "35\n"
          ]
        }
      ]
    },
    {
      "cell_type": "markdown",
      "source": [
        "remove(): Removes the first occurrence of a specified value.\n",
        "\n"
      ],
      "metadata": {
        "id": "HsKCsuq042Xl"
      }
    },
    {
      "cell_type": "code",
      "source": [
        "my_list = [10, 20, 30, 40, 50]\n",
        "my_list.remove(50)\n",
        "print(my_list)\n"
      ],
      "metadata": {
        "colab": {
          "base_uri": "https://localhost:8080/"
        },
        "id": "3qUfmq8246jd",
        "outputId": "83880350-e953-474f-ac35-0a6ed62611fd"
      },
      "execution_count": null,
      "outputs": [
        {
          "output_type": "stream",
          "name": "stdout",
          "text": [
            "[10, 20, 30, 40]\n"
          ]
        }
      ]
    },
    {
      "cell_type": "markdown",
      "source": [
        "Clear the Entire List:\n",
        "\n",
        "Use clear() to remove all elements.\n"
      ],
      "metadata": {
        "id": "JbENY1ct5Fc9"
      }
    },
    {
      "cell_type": "code",
      "source": [
        "my_list.clear()\n",
        "print(my_list)\n"
      ],
      "metadata": {
        "colab": {
          "base_uri": "https://localhost:8080/"
        },
        "id": "GLyHgeLH5KEs",
        "outputId": "ed6ae944-60ab-4143-bd48-46ed7695dc03"
      },
      "execution_count": null,
      "outputs": [
        {
          "output_type": "stream",
          "name": "stdout",
          "text": [
            "[]\n"
          ]
        }
      ]
    },
    {
      "cell_type": "markdown",
      "source": [
        "Using Slicing:\n",
        "\n",
        "Delete multiple elements.\n",
        "\n"
      ],
      "metadata": {
        "id": "Qpj-K19j7MpZ"
      }
    },
    {
      "cell_type": "code",
      "source": [
        "my_list = [10, 20, 30, 40, 50]\n",
        "del my_list[1:4]\n",
        "print(my_list)\n"
      ],
      "metadata": {
        "colab": {
          "base_uri": "https://localhost:8080/"
        },
        "id": "zuZkyHR_7ZWg",
        "outputId": "16d1a303-1319-430e-e4d4-b935cf7b016d"
      },
      "execution_count": null,
      "outputs": [
        {
          "output_type": "stream",
          "name": "stdout",
          "text": [
            "[10, 50]\n"
          ]
        }
      ]
    },
    {
      "cell_type": "markdown",
      "source": [
        "***4.Compare and contrast tuples and lists with examples***\n",
        "\n"
      ],
      "metadata": {
        "id": "9_tBmpSi85GY"
      }
    },
    {
      "cell_type": "markdown",
      "source": [
        "Comparison Between Tuples and Lists\n",
        "\n",
        "Tuples and lists are two of the most commonly used data structures in Python, both capable of storing collections of items. However, they differ significantly in terms of properties, use cases, and functionality.\n",
        "\n",
        "\n",
        "             List\t                                       tuple\n",
        "\n",
        "\n",
        "\t        1.Mutable (can be modified after creation).   1.\tImmutable (cannot be modified after creation).\n",
        "          \n",
        "          2.Syntax\tCreated using square brackets [].\t  2.Created using parentheses ().\n",
        "          \n",
        "          3.Performance\tSlower for operations due to mutability.\t3.Faster due to immutability.\n",
        "\n",
        "          4.Storage\tUses more memory due to dynamic resizing.\n",
        "                                  4.Uses less memory as it's fixed in size.\n",
        "\n",
        "          5.Use Case\tIdeal for data that changes frequently.\t 5.Ideal for fixed or constant data.\n",
        "\n",
        "          6.Methods\tMany built-in methods like append(), remove(), etc.\t6.Fewer built-in methods like count(), index().\n",
        "\n",
        "          7.Unpacking\tBoth support unpacking, but tuples are often used for multiple variable assignments.\t-\n",
        "          \n",
        "          8.Hashable\tNot hashable, cannot be used as dictionary keys.\t8.8.Hashable if it contains only hashable items, usable as dictionary keys.\n",
        "           \n",
        "           9.Iteration\tSlower iteration due to mutability.\t9.Faster iteration.\n",
        "\n",
        "\n",
        "Examples of Tuples and Lists"
      ],
      "metadata": {
        "id": "DadSI_JD9FtR"
      }
    },
    {
      "cell_type": "code",
      "source": [
        "#1. Creating a List and a Tuple\n",
        "# List\n",
        "my_list = [1, 2, 3]\n",
        "print(my_list)\n",
        "\n",
        "# Tuple\n",
        "my_tuple = (1, 2, 3)\n",
        "print(my_tuple)\n"
      ],
      "metadata": {
        "colab": {
          "base_uri": "https://localhost:8080/"
        },
        "id": "7r7ElYl7-N-c",
        "outputId": "19939f24-356f-4098-eecc-46c1553ba612"
      },
      "execution_count": null,
      "outputs": [
        {
          "output_type": "stream",
          "name": "stdout",
          "text": [
            "[1, 2, 3]\n",
            "(1, 2, 3)\n"
          ]
        }
      ]
    },
    {
      "cell_type": "code",
      "source": [
        "#2. Mutability\n",
        "# List - can be modified\n",
        "my_list = [1, 2, 3]\n",
        "my_list[0] = 10\n",
        "print(my_list)\n",
        "\n",
        "# Tuple - cannot be modified\n",
        "try:\n",
        "    my_tuple = (1, 2, 3)\n",
        "    my_tuple[0] = 10  # This will raise an error\n",
        "except TypeError as e:\n",
        "    print(e)\n"
      ],
      "metadata": {
        "colab": {
          "base_uri": "https://localhost:8080/"
        },
        "id": "BstQ6wqx-blh",
        "outputId": "5f8a5bc3-225f-49ff-d3ac-571e0825a30b"
      },
      "execution_count": null,
      "outputs": [
        {
          "output_type": "stream",
          "name": "stdout",
          "text": [
            "[10, 2, 3]\n",
            "'tuple' object does not support item assignment\n"
          ]
        }
      ]
    },
    {
      "cell_type": "code",
      "source": [
        "#3. Methods\n",
        "# List Methods\n",
        "my_list = [1, 2, 3]\n",
        "my_list.append(4)\n",
        "print(my_list)\n",
        "\n",
        "# Tuple Methods\n",
        "my_tuple = (1, 2, 3)\n",
        "print(my_tuple.count(2))\n",
        "print(my_tuple.index(2))\n"
      ],
      "metadata": {
        "colab": {
          "base_uri": "https://localhost:8080/"
        },
        "id": "6koR7JDn-bkK",
        "outputId": "db826d25-28f9-4ed4-e2df-de3ae28bfeea"
      },
      "execution_count": null,
      "outputs": [
        {
          "output_type": "stream",
          "name": "stdout",
          "text": [
            "[1, 2, 3, 4]\n",
            "1\n",
            "1\n"
          ]
        }
      ]
    },
    {
      "cell_type": "code",
      "source": [
        "#5. Use as Dictionary Keys\n",
        "# Tuple as Dictionary Key\n",
        "my_dict = {my_tuple: \"Tuple Key\"}\n",
        "print(my_dict)  # Output: {(1, 2, 3): 'Tuple Key'}\n",
        "\n",
        "# List as Dictionary Key - Not Allowed\n",
        "try:\n",
        "    my_dict = {my_list: \"List Key\"}\n",
        "except TypeError as e:\n",
        "    print(e)  # Output: unhashable type: 'list'\n"
      ],
      "metadata": {
        "colab": {
          "base_uri": "https://localhost:8080/"
        },
        "id": "XlWB7VuH_3yN",
        "outputId": "bd71af77-1dde-42c6-83cc-adb366775182"
      },
      "execution_count": null,
      "outputs": [
        {
          "output_type": "stream",
          "name": "stdout",
          "text": [
            "{(1, 2, 3): 'Tuple Key'}\n",
            "unhashable type: 'list'\n"
          ]
        }
      ]
    },
    {
      "cell_type": "markdown",
      "source": [
        "When to Use?\n",
        "\n",
        "Lists: When you need a collection of items that might change (e.g., a shopping cart).\n",
        "\n",
        "Tuples: When you have a fixed set of related data (e.g., coordinates (x, y) or days of the week).\n",
        "\n",
        "\n",
        "\n",
        "\n",
        "\n"
      ],
      "metadata": {
        "id": "fEyMRaiyARcf"
      }
    },
    {
      "cell_type": "markdown",
      "source": [],
      "metadata": {
        "id": "7F4esoAOARbB"
      }
    },
    {
      "cell_type": "markdown",
      "source": [
        "***5.Describe the key features of sets and provide examples of thier use***"
      ],
      "metadata": {
        "id": "fsojgG6XARZn"
      }
    },
    {
      "cell_type": "markdown",
      "source": [
        "Key Features of Sets in Python\n",
        "\n",
        "A set is a built-in Python data structure that stores unordered, unique, and immutable items. It is useful for operations involving membership tests, removing duplicates, and mathematical set operations.\n",
        "\n",
        "Key Features\n",
        "\n",
        "Unordered:\n",
        "\n",
        "The elements in a set are not stored in any particular order.\n",
        "There is no indexing or slicing like in lists or tuples.\n",
        "\n",
        "Unique Elements:\n",
        "\n",
        "A set automatically removes duplicate values when created.\n",
        "\n"
      ],
      "metadata": {
        "id": "4qAXowWyCxsK"
      }
    },
    {
      "cell_type": "code",
      "source": [
        "my_set = {1, 2, 2, 3}\n",
        "print(my_set)\n"
      ],
      "metadata": {
        "colab": {
          "base_uri": "https://localhost:8080/"
        },
        "id": "98FkpUd5DNTZ",
        "outputId": "b7ede00d-8554-4d5d-87f4-8541d8dfdc78"
      },
      "execution_count": null,
      "outputs": [
        {
          "output_type": "stream",
          "name": "stdout",
          "text": [
            "{1, 2, 3}\n"
          ]
        }
      ]
    },
    {
      "cell_type": "markdown",
      "source": [
        "Mutable:\n",
        "\n",
        "You can add or remove elements from a set after its creation.\n",
        "The elements themselves must be immutable (e.g., numbers, strings, tuples).\n",
        "\n",
        "Efficient Membership Testing:\n",
        "\n",
        "Checking if an element is in a set is very fast (average time complexity\n",
        "𝑂\n",
        "(\n",
        "1\n",
        ")\n",
        "O(1)).\n",
        "\n",
        "\n",
        "Supports Mathematical Set Operations:\n",
        "\n",
        "Includes union, intersection, difference, and symmetric difference.\n",
        "\n",
        "\n",
        "Dynamic Size:\n",
        "\n",
        "A set’s size can grow or shrink dynamically as items are added or removed.\n",
        "Defined Methods:\n",
        "\n",
        "Supports methods like add(), remove(), union(), intersection(), etc.\n"
      ],
      "metadata": {
        "id": "6Xt6gSY5Dm01"
      }
    },
    {
      "cell_type": "code",
      "source": [
        "#Examples of Using Sets\n",
        "#1. Creating a Set\n",
        "# Using Curly Braces\n",
        "my_set = {1, 2, 3, 4}\n",
        "print(my_set)\n",
        "\n",
        "# Using the set() Function\n",
        "my_set = set([1, 2, 2, 3])\n",
        "print(my_set)\n"
      ],
      "metadata": {
        "colab": {
          "base_uri": "https://localhost:8080/"
        },
        "id": "V6v6jarVEEdp",
        "outputId": "0656d7b5-fbc6-481e-ff41-2db8879c4efa"
      },
      "execution_count": null,
      "outputs": [
        {
          "output_type": "stream",
          "name": "stdout",
          "text": [
            "{1, 2, 3, 4}\n",
            "{1, 2, 3}\n"
          ]
        }
      ]
    },
    {
      "cell_type": "code",
      "source": [
        "#2. Adding and Removing Elements\n",
        "my_set = {1, 2, 3}\n",
        "\n",
        "# Add an element\n",
        "my_set.add(4)\n",
        "print(my_set)\n",
        "\n",
        "# Remove an element\n",
        "my_set.remove(2)\n",
        "print(my_set)\n",
        "\n",
        "# Use discard() to avoid errors if element doesn't exist\n",
        "my_set.discard(5)  # No error\n",
        "print(my_set)\n",
        "\n"
      ],
      "metadata": {
        "colab": {
          "base_uri": "https://localhost:8080/"
        },
        "id": "qlGZHMKfEuXb",
        "outputId": "a33bf3bd-2733-4cde-feac-c9fb17c381e8"
      },
      "execution_count": null,
      "outputs": [
        {
          "output_type": "stream",
          "name": "stdout",
          "text": [
            "{1, 2, 3, 4}\n",
            "{1, 3, 4}\n",
            "{1, 3, 4}\n"
          ]
        }
      ]
    },
    {
      "cell_type": "code",
      "source": [
        "#3. Membership Testing\n",
        "my_set = {1, 2, 3}\n",
        "print(2 in my_set)\n",
        "print(5 in my_set)\n"
      ],
      "metadata": {
        "colab": {
          "base_uri": "https://localhost:8080/"
        },
        "id": "n2V7gQXwEuVC",
        "outputId": "231f6797-4cb8-4643-c340-b2fd68b869ca"
      },
      "execution_count": null,
      "outputs": [
        {
          "output_type": "stream",
          "name": "stdout",
          "text": [
            "True\n",
            "False\n"
          ]
        }
      ]
    },
    {
      "cell_type": "code",
      "source": [
        "#4. Mathematical Set Operations\n",
        "A = {1, 2, 3}\n",
        "B = {3, 4, 5}\n",
        "\n",
        "# Union: Combine all unique elements\n",
        "print(A | B)\n",
        "print(A.union(B))\n",
        "\n",
        "# Intersection: Common elements\n",
        "print(A & B)  # Output: {3}\n",
        "print(A.intersection(B))  # Output: {3}\n",
        "\n",
        "# Difference: Elements in A but not in B\n",
        "print(A - B)  # Output: {1, 2}\n",
        "print(A.difference(B))\n",
        "\n",
        "# Symmetric Difference: Elements in A or B but not both\n",
        "print(A ^ B)  # Output: {1, 2, 4, 5}\n",
        "print(A.symmetric_difference(B))\n",
        "\n"
      ],
      "metadata": {
        "colab": {
          "base_uri": "https://localhost:8080/"
        },
        "id": "PxlYF6VyFcIk",
        "outputId": "22a7eb88-62ac-4153-f263-f3e077a5be7e"
      },
      "execution_count": null,
      "outputs": [
        {
          "output_type": "stream",
          "name": "stdout",
          "text": [
            "{1, 2, 3, 4, 5}\n",
            "{1, 2, 3, 4, 5}\n",
            "{3}\n",
            "{3}\n",
            "{1, 2}\n",
            "{1, 2}\n",
            "{1, 2, 4, 5}\n",
            "{1, 2, 4, 5}\n"
          ]
        }
      ]
    },
    {
      "cell_type": "code",
      "source": [
        "#5. Removing Duplicates from a List\n",
        "my_list = [1, 2, 2, 3, 3, 4]\n",
        "unique_set = set(my_list)\n",
        "unique_list = list(unique_set)\n",
        "print(unique_list)\n",
        "\n"
      ],
      "metadata": {
        "colab": {
          "base_uri": "https://localhost:8080/"
        },
        "id": "wyPqcAQ2FzTU",
        "outputId": "7ecf816f-49d6-4100-e2eb-3b79e33fca80"
      },
      "execution_count": null,
      "outputs": [
        {
          "output_type": "stream",
          "name": "stdout",
          "text": [
            "[1, 2, 3, 4]\n"
          ]
        }
      ]
    },
    {
      "cell_type": "code",
      "source": [
        "#6. Frozen Sets\n",
        "#A frozen set is an immutable version of a set. It is hashable and can be used as a dictionary key or stored in other sets.\n",
        "frozen = frozenset([1, 2, 3])\n",
        "print(frozen)  # Output: frozenset({1, 2, 3})\n",
        "\n",
        "# Frozen sets are immutable\n",
        "try:\n",
        "    frozen.add(4)  # Raises an error\n",
        "except AttributeError as e:\n",
        "    print(e)\n"
      ],
      "metadata": {
        "colab": {
          "base_uri": "https://localhost:8080/"
        },
        "id": "e7ki8Kb6GEbM",
        "outputId": "1d800432-8371-44eb-d126-fb462d1fc98b"
      },
      "execution_count": null,
      "outputs": [
        {
          "output_type": "stream",
          "name": "stdout",
          "text": [
            "frozenset({1, 2, 3})\n",
            "'frozenset' object has no attribute 'add'\n"
          ]
        }
      ]
    },
    {
      "cell_type": "markdown",
      "source": [
        "Use Cases of Sets\n",
        "Removing Duplicates:\n",
        "\n",
        "Quickly remove duplicates from a collection."
      ],
      "metadata": {
        "id": "6Swv68jOGW9p"
      }
    },
    {
      "cell_type": "code",
      "source": [
        "names = [\"Alice\", \"Bob\", \"Alice\", \"Eve\"]\n",
        "unique_names = set(names)\n",
        "print(unique_names)\n"
      ],
      "metadata": {
        "colab": {
          "base_uri": "https://localhost:8080/"
        },
        "id": "_ZfRQaTAGazx",
        "outputId": "8c8220aa-c2a7-43fb-fa77-d0ce86894746"
      },
      "execution_count": null,
      "outputs": [
        {
          "output_type": "stream",
          "name": "stdout",
          "text": [
            "{'Bob', 'Eve', 'Alice'}\n"
          ]
        }
      ]
    },
    {
      "cell_type": "markdown",
      "source": [
        "Finding Common Elements:\n",
        "\n",
        "Determine overlapping items in two datasets."
      ],
      "metadata": {
        "id": "s4FXmCy2Gkyn"
      }
    },
    {
      "cell_type": "code",
      "source": [
        "group1 = {\"Alice\", \"Bob\", \"Charlie\"}\n",
        "group2 = {\"Bob\", \"Eve\", \"Charlie\"}\n",
        "print(group1 & group2)\n"
      ],
      "metadata": {
        "colab": {
          "base_uri": "https://localhost:8080/"
        },
        "id": "ebQBLEO0GmNe",
        "outputId": "f41f4c10-9aab-4202-c1e0-1ecc4b04a308"
      },
      "execution_count": null,
      "outputs": [
        {
          "output_type": "stream",
          "name": "stdout",
          "text": [
            "{'Bob', 'Charlie'}\n"
          ]
        }
      ]
    },
    {
      "cell_type": "markdown",
      "source": [
        "Efficient Membership Testing:\n",
        "\n",
        "Use sets to check if an item exists."
      ],
      "metadata": {
        "id": "hr4qpp_SG5Gv"
      }
    },
    {
      "cell_type": "code",
      "source": [
        "valid_ids = {101, 102, 103}\n",
        "print(102 in valid_ids)\n"
      ],
      "metadata": {
        "colab": {
          "base_uri": "https://localhost:8080/"
        },
        "id": "JTvcvAd-G7RA",
        "outputId": "02ffe38e-28f2-4c90-b4e8-0617acfc2f6e"
      },
      "execution_count": null,
      "outputs": [
        {
          "output_type": "stream",
          "name": "stdout",
          "text": [
            "True\n"
          ]
        }
      ]
    },
    {
      "cell_type": "markdown",
      "source": [
        "Mathematical Operations:\n",
        "\n",
        "Solve problems requiring unions, intersections, or differences.\n",
        "Sets are powerful and efficient tools for managing collections of unique, unordered items in Python.\n",
        "\n",
        "\n",
        "\n",
        "\n",
        "\n",
        "\n"
      ],
      "metadata": {
        "id": "MOMgQRoHHLvH"
      }
    },
    {
      "cell_type": "markdown",
      "source": [
        "*6.Discuss the use cases of tuples and setts in python programming.*\n",
        "\n"
      ],
      "metadata": {
        "id": "Qm9sDWBII0MN"
      }
    },
    {
      "cell_type": "markdown",
      "source": [
        "Use Cases of Tuples and Sets in Python\n",
        "\n",
        "Both tuples and sets are fundamental data structures in Python, each suited for specific scenarios based on their properties. Here’s a discussion on their key use cases:\n",
        "\n",
        "Use Cases of Tuples\n",
        "\n",
        "A tuple is an immutable, ordered collection of items. It is used when the data should not change after creation or when sequence and structure are important.\n",
        "\n"
      ],
      "metadata": {
        "id": "ly5-2zp_I0KL"
      }
    },
    {
      "cell_type": "markdown",
      "source": [
        "1. Immutable Data Storage\n",
        "\n",
        "Use tuples to store data that should remain constant throughout the program.\n",
        "\n"
      ],
      "metadata": {
        "id": "Y2LTPsZ7HLtJ"
      }
    },
    {
      "cell_type": "code",
      "source": [
        "days_of_week = (\"Monday\", \"Tuesday\", \"Wednesday\", \"Thursday\", \"Friday\", \"Saturday\", \"Sunday\")\n",
        "print(days_of_week)\n"
      ],
      "metadata": {
        "colab": {
          "base_uri": "https://localhost:8080/"
        },
        "id": "KkovEtcuJhyd",
        "outputId": "ba2bac3f-81c6-4b5b-bf3a-0970c8b7c643"
      },
      "execution_count": null,
      "outputs": [
        {
          "output_type": "stream",
          "name": "stdout",
          "text": [
            "('Monday', 'Tuesday', 'Wednesday', 'Thursday', 'Friday', 'Saturday', 'Sunday')\n"
          ]
        }
      ]
    },
    {
      "cell_type": "markdown",
      "source": [
        " Return Multiple Values from Functions\n",
        "\n",
        "Functions can return multiple values in the form of a tuple.\n",
        "\n"
      ],
      "metadata": {
        "id": "yiU9vQCOJvG8"
      }
    },
    {
      "cell_type": "code",
      "source": [
        "def get_user_info():\n",
        "    return \"Alice\", 25, \"Engineer\"\n",
        "\n",
        "name, age, profession = get_user_info()\n",
        "print(name, age, profession)\n"
      ],
      "metadata": {
        "colab": {
          "base_uri": "https://localhost:8080/"
        },
        "id": "tdjn-pNWJ5pY",
        "outputId": "df0f18df-7e06-4fd9-8bc5-fed95ac83379"
      },
      "execution_count": null,
      "outputs": [
        {
          "output_type": "stream",
          "name": "stdout",
          "text": [
            "Alice 25 Engineer\n"
          ]
        }
      ]
    },
    {
      "cell_type": "markdown",
      "source": [
        "3. Dictionary Keys\n",
        "\n",
        "Tuples are hashable (if their elements are hashable), so they can be used as dictionary keys.\n",
        "\n"
      ],
      "metadata": {
        "id": "NeqxnKpvKD6B"
      }
    },
    {
      "cell_type": "code",
      "source": [
        "location = {(37.7749, -122.4194): \"San Francisco\", (40.7128, -74.0060): \"New York\"}\n",
        "print(location[(37.7749, -122.4194)])\n"
      ],
      "metadata": {
        "colab": {
          "base_uri": "https://localhost:8080/"
        },
        "id": "6DMYn38uKKPk",
        "outputId": "52c6338b-565e-45ae-8063-968df3e5b601"
      },
      "execution_count": null,
      "outputs": [
        {
          "output_type": "stream",
          "name": "stdout",
          "text": [
            "San Francisco\n"
          ]
        }
      ]
    },
    {
      "cell_type": "markdown",
      "source": [
        "4. Fixed-Size Grouping\n",
        "\n",
        "Tuples group related data items that belong together and have a fixed structure."
      ],
      "metadata": {
        "id": "L_0AXvr-KRHC"
      }
    },
    {
      "cell_type": "code",
      "source": [
        "employee_record = (\"Alice\", \"HR\", 50000)\n",
        "print(employee_record)\n"
      ],
      "metadata": {
        "colab": {
          "base_uri": "https://localhost:8080/"
        },
        "id": "pudLbr9hKUXB",
        "outputId": "a7bd9a50-1f24-4a1e-c5fd-0bfd624fc2ab"
      },
      "execution_count": null,
      "outputs": [
        {
          "output_type": "stream",
          "name": "stdout",
          "text": [
            "('Alice', 'HR', 50000)\n"
          ]
        }
      ]
    },
    {
      "cell_type": "markdown",
      "source": [
        "5. Data Integrity in Iteration\n",
        "\n",
        "Using tuples in loops ensures that the collection remains unchanged."
      ],
      "metadata": {
        "id": "lZvZdjWfKfLb"
      }
    },
    {
      "cell_type": "code",
      "source": [
        "immutable_data = (1, 2, 3)\n",
        "for num in immutable_data:\n",
        "    print(num)\n"
      ],
      "metadata": {
        "colab": {
          "base_uri": "https://localhost:8080/"
        },
        "id": "i4uT6mBfKioX",
        "outputId": "417320bf-3178-4df9-8e30-ea766b576d50"
      },
      "execution_count": null,
      "outputs": [
        {
          "output_type": "stream",
          "name": "stdout",
          "text": [
            "1\n",
            "2\n",
            "3\n"
          ]
        }
      ]
    },
    {
      "cell_type": "markdown",
      "source": [
        "6. Memory Efficiency\n",
        "\n",
        "Tuples use less memory than lists, making them a better choice for large, constant datasets."
      ],
      "metadata": {
        "id": "ZwART28UKxlu"
      }
    },
    {
      "cell_type": "code",
      "source": [
        "large_tuple = (1,) * 1000000  # Memory-efficient compared to a list\n"
      ],
      "metadata": {
        "id": "iuKYL5XxK1HR"
      },
      "execution_count": null,
      "outputs": []
    },
    {
      "cell_type": "markdown",
      "source": [
        "7. Named Tuples for Readability\n",
        "\n",
        "Named tuples provide structure and make data more readable.\n",
        "\n"
      ],
      "metadata": {
        "id": "czmUIZkpLAcG"
      }
    },
    {
      "cell_type": "code",
      "source": [
        "from collections import namedtuple\n",
        "Point = namedtuple(\"Point\", [\"x\", \"y\"])\n",
        "p = Point(10, 20)\n",
        "print(p.x, p.y)\n"
      ],
      "metadata": {
        "colab": {
          "base_uri": "https://localhost:8080/"
        },
        "id": "lUQ1ip5OLD4b",
        "outputId": "9d058761-da7c-4e85-a074-c47f0bcc752b"
      },
      "execution_count": null,
      "outputs": [
        {
          "output_type": "stream",
          "name": "stdout",
          "text": [
            "10 20\n"
          ]
        }
      ]
    },
    {
      "cell_type": "markdown",
      "source": [
        "Use Cases of Sets\n",
        "\n",
        "A set is an unordered, mutable collection of unique items. It is ideal for operations that involve uniqueness, membership tests, or mathematical set operations.\n",
        "\n",
        "1. Removing Duplicates\n",
        "Sets automatically filter out duplicate values."
      ],
      "metadata": {
        "id": "bxvdj9_mLOvX"
      }
    },
    {
      "cell_type": "code",
      "source": [
        "items = [1, 2, 2, 3, 4, 4, 5]\n",
        "unique_items = set(items)\n",
        "print(unique_items)\n"
      ],
      "metadata": {
        "colab": {
          "base_uri": "https://localhost:8080/"
        },
        "id": "jCcoCknuLRa9",
        "outputId": "98704d30-4f43-44e8-dc08-3382ff6bd6aa"
      },
      "execution_count": null,
      "outputs": [
        {
          "output_type": "stream",
          "name": "stdout",
          "text": [
            "{1, 2, 3, 4, 5}\n"
          ]
        }
      ]
    },
    {
      "cell_type": "markdown",
      "source": [
        "2. Efficient Membership Testing\n",
        "\n",
        "Sets provide fast membership tests compared to lists."
      ],
      "metadata": {
        "id": "0EBEFRRtLZPT"
      }
    },
    {
      "cell_type": "code",
      "source": [
        "valid_ids = {101, 102, 103}\n",
        "print(102 in valid_ids)\n",
        "print(105 in valid_ids)\n"
      ],
      "metadata": {
        "colab": {
          "base_uri": "https://localhost:8080/"
        },
        "id": "JayM0uFXLcFM",
        "outputId": "576296e5-933e-45c9-dda2-4dc82a22b1d4"
      },
      "execution_count": null,
      "outputs": [
        {
          "output_type": "stream",
          "name": "stdout",
          "text": [
            "True\n",
            "False\n"
          ]
        }
      ]
    },
    {
      "cell_type": "markdown",
      "source": [
        "3. Mathematical Set Operations\n",
        "\n",
        "Perform operations like union, intersection, difference, and symmetric difference."
      ],
      "metadata": {
        "id": "crTXMKCxLmS5"
      }
    },
    {
      "cell_type": "code",
      "source": [
        "A = {1, 2, 3}\n",
        "B = {3, 4, 5}\n",
        "\n",
        "print(A | B)  # Union: {1, 2, 3, 4, 5}\n",
        "print(A & B)  # Intersection: {3}\n",
        "print(A - B)  # Difference: {1, 2}\n"
      ],
      "metadata": {
        "colab": {
          "base_uri": "https://localhost:8080/"
        },
        "id": "ztYSHG7HLoZQ",
        "outputId": "94da8414-44f3-42ce-b303-9bcbcb418ec8"
      },
      "execution_count": null,
      "outputs": [
        {
          "output_type": "stream",
          "name": "stdout",
          "text": [
            "{1, 2, 3, 4, 5}\n",
            "{3}\n",
            "{1, 2}\n"
          ]
        }
      ]
    },
    {
      "cell_type": "markdown",
      "source": [
        "4. Use in Filtering and Deduplication\n",
        "\n",
        "Quickly filter or deduplicate elements."
      ],
      "metadata": {
        "id": "sJpnp8QgLvxG"
      }
    },
    {
      "cell_type": "code",
      "source": [
        "emails = [\"a@example.com\", \"b@example.com\", \"a@example.com\"]\n",
        "unique_emails = list(set(emails))\n",
        "print(unique_emails)  # Output: ['a@example.com', 'b@example.com']\n"
      ],
      "metadata": {
        "colab": {
          "base_uri": "https://localhost:8080/"
        },
        "id": "UsbbBIgKL6aD",
        "outputId": "b2f6ee5a-6a8f-45af-ab6b-1c56da9ce435"
      },
      "execution_count": null,
      "outputs": [
        {
          "output_type": "stream",
          "name": "stdout",
          "text": [
            "['b@example.com', 'a@example.com']\n"
          ]
        }
      ]
    },
    {
      "cell_type": "markdown",
      "source": [
        "6. Group Membership and Categorization\n",
        "\n",
        "Useful for grouping and testing shared membership."
      ],
      "metadata": {
        "id": "Eddv-VFYME0D"
      }
    },
    {
      "cell_type": "code",
      "source": [
        "vip_users = {\"Alice\", \"Bob\", \"Eve\"}\n",
        "new_users = {\"Eve\", \"Mallory\", \"Trent\"}\n",
        "common_users = vip_users & new_users\n",
        "print(common_users)\n"
      ],
      "metadata": {
        "colab": {
          "base_uri": "https://localhost:8080/"
        },
        "id": "7ktMUMudMHle",
        "outputId": "f0c653da-5772-4ba0-a75b-2d3428b01914"
      },
      "execution_count": null,
      "outputs": [
        {
          "output_type": "stream",
          "name": "stdout",
          "text": [
            "{'Eve'}\n"
          ]
        }
      ]
    },
    {
      "cell_type": "markdown",
      "source": [
        "Tuples\n",
        "\n",
        "Represent structured, ordered, immutable data.\n",
        "\n",
        "Useful for fixed data, like coordinates or constant groupings.\n",
        "\n",
        "Can be used as dictionary keys if immutable.\n",
        "\n",
        "Maintain the order of items.\n",
        "\n",
        "\n",
        "Sets\n",
        "\n",
        "Represent unordered, unique collections.\n",
        "\n",
        "Useful for deduplication and membership tests.\n",
        "\n",
        "Cannot contain mutable elements (e.g., lists).\n",
        "\n",
        "Do not maintain order."
      ],
      "metadata": {
        "id": "htsIdIc_Mh3H"
      }
    },
    {
      "cell_type": "markdown",
      "source": [
        "*7.Describe how to add ,modify,and delete items in dictionary with example*"
      ],
      "metadata": {
        "id": "tEe7Bw4aN6dG"
      }
    },
    {
      "cell_type": "markdown",
      "source": [
        "In Python, dictionaries are mutable data structures used to store data in key-value pairs. You can add, modify, and delete items in a dictionary using various methods."
      ],
      "metadata": {
        "id": "m4hjUSDIRbi0"
      }
    },
    {
      "cell_type": "markdown",
      "source": [
        "1. Adding Items to a Dictionary\n",
        "\n",
        "Using Bracket Notation: Assign a value to a new key."
      ],
      "metadata": {
        "id": "WMTX77IXRooZ"
      }
    },
    {
      "cell_type": "code",
      "source": [
        "my_dict = {\"name\": \"Alice\", \"age\": 25}\n",
        "my_dict[\"city\"] = \"New York\"  # Add a new key-value pair\n",
        "print(my_dict)\n"
      ],
      "metadata": {
        "colab": {
          "base_uri": "https://localhost:8080/"
        },
        "id": "MzUKYVUsRyV5",
        "outputId": "e0cf96fe-a5c6-44f2-eb59-c151db33c400"
      },
      "execution_count": null,
      "outputs": [
        {
          "output_type": "stream",
          "name": "stdout",
          "text": [
            "{'name': 'Alice', 'age': 25, 'city': 'New York'}\n"
          ]
        }
      ]
    },
    {
      "cell_type": "markdown",
      "source": [
        "Using update() Method: Add multiple key-value pairs or update existing ones."
      ],
      "metadata": {
        "id": "grkWX-6bSLXu"
      }
    },
    {
      "cell_type": "code",
      "source": [
        "my_dict.update({\"country\": \"USA\", \"profession\": \"Engineer\"})\n",
        "print(my_dict)\n",
        "\n"
      ],
      "metadata": {
        "colab": {
          "base_uri": "https://localhost:8080/"
        },
        "id": "0z4mIzsJSStF",
        "outputId": "3b4ae590-f7b0-47c4-d5a0-fa3416c55b59"
      },
      "execution_count": null,
      "outputs": [
        {
          "output_type": "stream",
          "name": "stdout",
          "text": [
            "{'name': 'Alice', 'age': 25, 'city': 'New York', 'country': 'USA', 'profession': 'Engineer'}\n"
          ]
        }
      ]
    },
    {
      "cell_type": "markdown",
      "source": [
        "2. Modifying Items in a Dictionary\n",
        "\n",
        "Updating an Existing Key: Use the key to assign a new value."
      ],
      "metadata": {
        "id": "B_JdN7aLSnsr"
      }
    },
    {
      "cell_type": "code",
      "source": [
        "my_dict = {\"name\": \"Alice\", \"age\": 25, \"city\": \"New York\"}\n",
        "my_dict[\"age\"] = 30  # Modify the value of an existing key\n",
        "print(my_dict)\n"
      ],
      "metadata": {
        "colab": {
          "base_uri": "https://localhost:8080/"
        },
        "id": "06-wQDPkStna",
        "outputId": "29a6ed72-695a-4a65-cdae-c866ec7bf310"
      },
      "execution_count": null,
      "outputs": [
        {
          "output_type": "stream",
          "name": "stdout",
          "text": [
            "{'name': 'Alice', 'age': 30, 'city': 'New York'}\n"
          ]
        }
      ]
    },
    {
      "cell_type": "markdown",
      "source": [
        "3. Deleting Items from a Dictionary\n",
        "\n",
        "Using del Keyword: Delete a specific key-value pair."
      ],
      "metadata": {
        "id": "JxcRqI5VYwJo"
      }
    },
    {
      "cell_type": "code",
      "source": [
        "my_dict = {\"name\": \"Alice\", \"age\": 25, \"city\": \"New York\"}\n",
        "del my_dict[\"city\"]\n",
        "print(my_dict)\n"
      ],
      "metadata": {
        "colab": {
          "base_uri": "https://localhost:8080/"
        },
        "id": "GnOrffpMYy3F",
        "outputId": "ad4abab6-f387-4c40-c846-a4a7ec4dee0d"
      },
      "execution_count": null,
      "outputs": [
        {
          "output_type": "stream",
          "name": "stdout",
          "text": [
            "{'name': 'Alice', 'age': 25}\n"
          ]
        }
      ]
    },
    {
      "cell_type": "code",
      "source": [
        "#Using pop() Method: Remove a key and get its value.\n",
        "removed_value = my_dict.pop(\"age\")\n",
        "print(my_dict)\n",
        "print(removed_value)\n"
      ],
      "metadata": {
        "colab": {
          "base_uri": "https://localhost:8080/"
        },
        "id": "ygexgByJY9Z5",
        "outputId": "deb5bc32-fbd9-45d1-a153-2706745e5b19"
      },
      "execution_count": null,
      "outputs": [
        {
          "output_type": "stream",
          "name": "stdout",
          "text": [
            "{'name': 'Alice', 'city': 'New York'}\n",
            "30\n"
          ]
        }
      ]
    },
    {
      "cell_type": "code",
      "source": [
        "#Using popitem() Method: Remove the last inserted key-value pair (useful for Python 3.7+ where dictionaries are ordered).\n",
        "my_dict = {\"name\": \"Alice\", \"age\": 25, \"city\": \"New York\"}\n",
        "last_item = my_dict.popitem()\n",
        "print(my_dict)\n",
        "print(last_item)\n"
      ],
      "metadata": {
        "colab": {
          "base_uri": "https://localhost:8080/"
        },
        "id": "GOI2I9bAZPq0",
        "outputId": "c8be8898-8450-4817-c272-d18c7c4f1652"
      },
      "execution_count": null,
      "outputs": [
        {
          "output_type": "stream",
          "name": "stdout",
          "text": [
            "{'name': 'Alice', 'age': 25}\n",
            "('city', 'New York')\n"
          ]
        }
      ]
    },
    {
      "cell_type": "code",
      "source": [
        "#Using clear(): Remove all key-value pairs.\n",
        "my_dict.clear()\n",
        "print(my_dict)\n"
      ],
      "metadata": {
        "colab": {
          "base_uri": "https://localhost:8080/"
        },
        "id": "cZb7gzUiZp2J",
        "outputId": "1fc6eb29-9a53-4db0-c83a-1c9ae60f46f2"
      },
      "execution_count": null,
      "outputs": [
        {
          "output_type": "stream",
          "name": "stdout",
          "text": [
            "{}\n"
          ]
        }
      ]
    },
    {
      "cell_type": "code",
      "source": [
        "#Example Code\n",
        "# Create a dictionary\n",
        "person = {\"name\": \"John\", \"age\": 28}\n",
        "\n",
        "# Add a new key-value pair\n",
        "person[\"city\"] = \"London\"\n",
        "print(person)\n",
        "\n",
        "# Modify an existing key\n",
        "person[\"age\"] = 29\n",
        "print(person)\n",
        "\n",
        "# Delete a specific key\n",
        "del person[\"city\"]\n",
        "print(person)\n",
        "\n",
        "# Remove and get the value of a key\n",
        "removed = person.pop(\"age\")\n",
        "print(removed)\n",
        "print(person)\n",
        "\n",
        "# Add multiple keys and clear all\n",
        "person.update({\"profession\": \"Doctor\", \"country\": \"UK\"})\n",
        "print(person)\n",
        "\n",
        "person.clear()\n",
        "print(person)\n"
      ],
      "metadata": {
        "colab": {
          "base_uri": "https://localhost:8080/"
        },
        "id": "MSxEbt_hZ1zy",
        "outputId": "d77d0de1-f504-4c3f-8c3f-18735278c686"
      },
      "execution_count": null,
      "outputs": [
        {
          "output_type": "stream",
          "name": "stdout",
          "text": [
            "{'name': 'John', 'age': 28, 'city': 'London'}\n",
            "{'name': 'John', 'age': 29, 'city': 'London'}\n",
            "{'name': 'John', 'age': 29}\n",
            "29\n",
            "{'name': 'John'}\n",
            "{'name': 'John', 'profession': 'Doctor', 'country': 'UK'}\n",
            "{}\n"
          ]
        }
      ]
    },
    {
      "cell_type": "markdown",
      "source": [
        "***8.Discuss the imortence of dictionary key being immutable and provide examples***"
      ],
      "metadata": {
        "id": "LVgx86XMawKm"
      }
    },
    {
      "cell_type": "markdown",
      "source": [
        "Importance of Dictionary Keys Being Immutable in Python\n",
        "\n",
        "\n",
        "In Python, dictionary keys must be immutable and hashable. This is essential because dictionaries use a hash table internally for fast key-value lookups. If keys were mutable, their hash values could change, leading to unpredictable behavior and difficulty maintaining the integrity of the dictionary structure.\n",
        "\n",
        "Why Dictionary Keys Must Be Immutable?\n",
        "\n",
        "Hash Table Integrity:\n",
        "\n",
        "A dictionary uses a hash table where the hash of the key determines its position.\n",
        "If a key were mutable and its hash value changed after being added, the dictionary could no longer locate the value associated with the key.\n",
        "Consistency and Reliability:\n",
        "\n",
        "Immutable keys ensure that once a key-value pair is inserted, it remains consistent throughout the dictionary's lifecycle.\n",
        "This avoids issues like overwriting or losing data unintentionally.\n",
        "\n",
        "Performance:\n",
        "\n",
        "Hash tables provide\n",
        "𝑂\n",
        "(\n",
        "1\n",
        ")\n",
        "O(1) average time complexity for lookups.\n",
        "Immutable keys ensure that the hash table structure remains stable, maintaining the efficiency of lookups.\n"
      ],
      "metadata": {
        "id": "tyagwz1aa0uo"
      }
    },
    {
      "cell_type": "markdown",
      "source": [
        "Immutable Keys\n",
        "\n",
        "Immutable types like int, str, tuple (with immutable elements), and frozenset are valid keys."
      ],
      "metadata": {
        "id": "EASEvpdubH8E"
      }
    },
    {
      "cell_type": "code",
      "source": [
        "# Valid dictionary keys\n",
        "my_dict = {\n",
        "    1: \"Integer key\",\n",
        "    \"name\": \"String key\",\n",
        "    (10, 20): \"Tuple key\",\n",
        "    frozenset({1, 2, 3}): \"Frozen set key\"\n",
        "}\n",
        "print(my_dict)\n",
        "\n"
      ],
      "metadata": {
        "colab": {
          "base_uri": "https://localhost:8080/"
        },
        "id": "0Wh_FQUDbLVO",
        "outputId": "0675cec1-e6c5-4e51-e780-1f20ac9b4166"
      },
      "execution_count": null,
      "outputs": [
        {
          "output_type": "stream",
          "name": "stdout",
          "text": [
            "{1: 'Integer key', 'name': 'String key', (10, 20): 'Tuple key', frozenset({1, 2, 3}): 'Frozen set key'}\n"
          ]
        }
      ]
    },
    {
      "cell_type": "markdown",
      "source": [
        "Mutable Keys Are Not Allowed\n",
        "Mutable types like list or set cannot be used as dictionary keys."
      ],
      "metadata": {
        "id": "VVW0mi0YbUq7"
      }
    },
    {
      "cell_type": "code",
      "source": [
        "try:\n",
        "    my_dict = {[1, 2]: \"List key\"}  # This raises an error\n",
        "except TypeError as e:\n",
        "    print(e)\n"
      ],
      "metadata": {
        "colab": {
          "base_uri": "https://localhost:8080/"
        },
        "id": "pgYbrEBAbWD_",
        "outputId": "4a109eb7-5db0-4d48-b4f1-d42fbfc7b88c"
      },
      "execution_count": null,
      "outputs": [
        {
          "output_type": "stream",
          "name": "stdout",
          "text": [
            "unhashable type: 'list'\n"
          ]
        }
      ]
    },
    {
      "cell_type": "markdown",
      "source": [
        "Illustrating the Problem with Mutable Keys\n",
        "\n",
        "Why Mutable Keys Would Fail:\n",
        "\n",
        "Consider if a list were allowed as a key:"
      ],
      "metadata": {
        "id": "Q_JN-lO3bf05"
      }
    },
    {
      "cell_type": "code",
      "source": [
        "# Hypothetical scenario (this will not work in Python)\n",
        "my_dict = {}\n",
        "key = [1, 2, 3]\n",
        "my_dict[key] = \"Value\"\n",
        "\n",
        "# If the key changes:\n",
        "key.append(4)  # Key changes its hash value\n",
        "print(my_dict[key])  # Dictionary lookup fails!\n"
      ],
      "metadata": {
        "colab": {
          "base_uri": "https://localhost:8080/",
          "height": 211
        },
        "id": "VQiPBEJgblNV",
        "outputId": "2280dd3b-1523-4435-de1c-f91924144e01"
      },
      "execution_count": null,
      "outputs": [
        {
          "output_type": "error",
          "ename": "TypeError",
          "evalue": "unhashable type: 'list'",
          "traceback": [
            "\u001b[0;31m---------------------------------------------------------------------------\u001b[0m",
            "\u001b[0;31mTypeError\u001b[0m                                 Traceback (most recent call last)",
            "\u001b[0;32m<ipython-input-52-a31ed438ebac>\u001b[0m in \u001b[0;36m<cell line: 4>\u001b[0;34m()\u001b[0m\n\u001b[1;32m      2\u001b[0m \u001b[0mmy_dict\u001b[0m \u001b[0;34m=\u001b[0m \u001b[0;34m{\u001b[0m\u001b[0;34m}\u001b[0m\u001b[0;34m\u001b[0m\u001b[0;34m\u001b[0m\u001b[0m\n\u001b[1;32m      3\u001b[0m \u001b[0mkey\u001b[0m \u001b[0;34m=\u001b[0m \u001b[0;34m[\u001b[0m\u001b[0;36m1\u001b[0m\u001b[0;34m,\u001b[0m \u001b[0;36m2\u001b[0m\u001b[0;34m,\u001b[0m \u001b[0;36m3\u001b[0m\u001b[0;34m]\u001b[0m\u001b[0;34m\u001b[0m\u001b[0;34m\u001b[0m\u001b[0m\n\u001b[0;32m----> 4\u001b[0;31m \u001b[0mmy_dict\u001b[0m\u001b[0;34m[\u001b[0m\u001b[0mkey\u001b[0m\u001b[0;34m]\u001b[0m \u001b[0;34m=\u001b[0m \u001b[0;34m\"Value\"\u001b[0m\u001b[0;34m\u001b[0m\u001b[0;34m\u001b[0m\u001b[0m\n\u001b[0m\u001b[1;32m      5\u001b[0m \u001b[0;34m\u001b[0m\u001b[0m\n\u001b[1;32m      6\u001b[0m \u001b[0;31m# If the key changes:\u001b[0m\u001b[0;34m\u001b[0m\u001b[0;34m\u001b[0m\u001b[0m\n",
            "\u001b[0;31mTypeError\u001b[0m: unhashable type: 'list'"
          ]
        }
      ]
    },
    {
      "cell_type": "markdown",
      "source": [
        "Using Immutable Structures Instead of Mutable Ones\n",
        "\n",
        "If you need a key based on a collection of values that might change, use an immutable equivalent like a tuple or frozenset."
      ],
      "metadata": {
        "id": "QzprXOiyb03p"
      }
    },
    {
      "cell_type": "code",
      "source": [
        "# Using a tuple instead of a list\n",
        "key = (1, 2, 3)\n",
        "my_dict = {key: \"Tuple as key\"}\n",
        "print(my_dict[key])\n",
        "\n"
      ],
      "metadata": {
        "colab": {
          "base_uri": "https://localhost:8080/"
        },
        "id": "x6KZXhHGb5CX",
        "outputId": "5b03cf2d-8db6-440d-c2bb-05982d93d075"
      },
      "execution_count": null,
      "outputs": [
        {
          "output_type": "stream",
          "name": "stdout",
          "text": [
            "Tuple as key\n"
          ]
        }
      ]
    },
    {
      "cell_type": "markdown",
      "source": [
        "Custom Immutable Objects as Keys\n",
        "\n",
        "You can create your own immutable objects (e.g., using a class) and use them as keys."
      ],
      "metadata": {
        "id": "_VhwvFbCcBsN"
      }
    },
    {
      "cell_type": "code",
      "source": [
        "class ImmutableKey:\n",
        "    def __init__(self, x, y):\n",
        "        self.x = x\n",
        "        self.y = y\n",
        "\n",
        "    def __hash__(self):\n",
        "        return hash((self.x, self.y))  # Hash based on immutable attributes\n",
        "\n",
        "    def __eq__(self, other):\n",
        "        return (self.x, self.y) == (other.x, other.y)\n",
        "\n",
        "key1 = ImmutableKey(10, 20)\n",
        "key2 = ImmutableKey(10, 20)\n",
        "my_dict = {key1: \"Custom object as key\"}\n",
        "print(my_dict[key2])\n"
      ],
      "metadata": {
        "colab": {
          "base_uri": "https://localhost:8080/"
        },
        "id": "Hb3Rc-_ccEwl",
        "outputId": "2fdbde22-6e54-47a0-c616-88d426db1e2a"
      },
      "execution_count": null,
      "outputs": [
        {
          "output_type": "stream",
          "name": "stdout",
          "text": [
            "Custom object as key\n"
          ]
        }
      ]
    },
    {
      "cell_type": "markdown",
      "source": [
        "Summary\n",
        "\n",
        "Immutability of keys ensures dictionaries remain consistent, reliable, and efficient.\n",
        "Mutable objects like lists and sets are disallowed as keys because they can change, causing issues in locating or updating dictionary entries.\n",
        "Use immutable equivalents like tuple or frozenset when a collection of values is required as a key."
      ],
      "metadata": {
        "id": "SUJqRHpIcNzZ"
      }
    }
  ]
}